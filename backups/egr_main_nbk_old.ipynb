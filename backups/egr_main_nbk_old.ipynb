{
 "cells": [
  {
   "cell_type": "code",
   "execution_count": 1,
   "metadata": {},
   "outputs": [
    {
     "name": "stdout",
     "output_type": "stream",
     "text": [
      "['/Users/theot/Documents/SEGR_0D/EGR0D/src', '/Users/theot/Documents/SEGR_0D/EGR0D/src', '/Users/theot/Documents/arcane/ARCANE', '/opt/homebrew/anaconda3/envs/can260/lib/python39.zip', '/opt/homebrew/anaconda3/envs/can260/lib/python3.9', '/opt/homebrew/anaconda3/envs/can260/lib/python3.9/lib-dynload', '', '/opt/homebrew/anaconda3/envs/can260/lib/python3.9/site-packages', '/Users/theot/Documents/SEGR_0D/EGR0D']\n"
     ]
    }
   ],
   "source": [
    "import os\n",
    "import sys\n",
    "module_path = os.path.abspath(os.path.join('/Users/theot/Documents/SEGR_0D/EGR0D/'))\n",
    "if module_path not in sys.path:\n",
    "    sys.path.append(module_path)\n",
    "\n",
    "#sys.path.remove('/Users/theot/Documents/SEGR_0D/EGR0D/')\n",
    "print(sys.path)"
   ]
  },
  {
   "cell_type": "code",
   "execution_count": 2,
   "metadata": {},
   "outputs": [],
   "source": [
    "from egr import *\n",
    "import time\n",
    "from egr_multiproc import *\n",
    "import pandas as pd"
   ]
  },
  {
   "cell_type": "code",
   "execution_count": 3,
   "metadata": {},
   "outputs": [
    {
     "name": "stdout",
     "output_type": "stream",
     "text": [
      "Execution time: 0.9562339782714844 seconds\n"
     ]
    }
   ],
   "source": [
    "if __name__ == '__main__':\n",
    "    # get the start time\n",
    "    st = time.time()\n",
    "\n",
    "    config = case('CH4:1.',                     #fuel compo\n",
    "                  'O2:1. N2:3.76',              #ox compo\n",
    "                  'CO2:0.5',                    #egr compo\n",
    "                  3960.0,                       #thermal output power (kind of useless)\n",
    "                  0.0001,                       #egr rate\n",
    "                  'vol'                         #egr rate unit\n",
    "                  )\n",
    "    dfs=[]\n",
    "    pressures = [500000] #initial pressures to test in Pa\n",
    "    for p in pressures:\n",
    "        #set reservoirs thermo-state\n",
    "        config.res.fuel = create_reservoir(config.compo.fuel,'gri30.cti', 300.0, p)\n",
    "        config.res.ox = create_reservoir(config.compo.ox,'air.xml', 300.0, p)\n",
    "        config.res.egr = create_reservoir(config.compo.egr,'gri30.cti', 300.0, p)\n",
    "\n",
    "        #range of computation\n",
    "        egr_percentages = [0.0,0.1,0.3] #np.arange(0.0,0.51,0.1)\n",
    "        df = pd.DataFrame()\n",
    "        if(False):\n",
    "            for egr_rate in egr_percentages:\n",
    "                config.egr_rate = egr_rate #override config.egr_rate set during object instanciation\n",
    "                phi_range = np.arange(1.0,1.25,0.8)\n",
    "                reactor,results,pdresult = compute_solutions_1D(config,phi_range,real_egr=False,phi_air=False)\n",
    "                #plt.plot(phi_range,results[:,4],label='EGR reacteurs:'+str(round(config.egr_rate*100,1)),marker='o')\n",
    "                #subplot_data(phi_range,results,'Phi',['T[K]','HRR[W/m3]','Y_O2','Y_CO2'],'EGR rate (%):'+str(round(config.egr_rate*100,1))+'%')\n",
    "                df=pd.concat([df,pdresult])\n",
    "        \n",
    "        #df = df.pivot_table(index='phi',columns='EGR',values='u')\n",
    "        #print_reactor(df)\n",
    "        # get the end time\n",
    "        et = time.time()\n",
    "\n",
    "        # get the execution time\n",
    "        elapsed_time = et - st\n",
    "        print('Execution time:', elapsed_time, 'seconds')\n",
    "        dfs.append(df)"
   ]
  },
  {
   "cell_type": "code",
   "execution_count": 10,
   "metadata": {},
   "outputs": [],
   "source": [
    "dfsi=dfs\n",
    "filenames = ['save/df_2'+str(idx)+'.pkl' for idx in range(len(dfsi))]\n",
    "[df.to_pickle(filenames[idx]) for idx,df in enumerate(dfsi)]\n",
    "params={'pressure':pressures,\n",
    "        'filename':filenames,\n",
    "        'scheme':'Aramco13.cti'}"
   ]
  },
  {
   "cell_type": "code",
   "execution_count": 11,
   "metadata": {},
   "outputs": [
    {
     "ename": "KeyError",
     "evalue": "'T'",
     "output_type": "error",
     "traceback": [
      "\u001b[0;31m---------------------------------------------------------------------------\u001b[0m",
      "\u001b[0;31mKeyError\u001b[0m                                  Traceback (most recent call last)",
      "Cell \u001b[0;32mIn[11], line 7\u001b[0m\n\u001b[1;32m      5\u001b[0m dfsr \u001b[39m=\u001b[39m []\n\u001b[1;32m      6\u001b[0m [dfsr\u001b[39m.\u001b[39mappend(pd\u001b[39m.\u001b[39mread_pickle(file)) \u001b[39mfor\u001b[39;00m file \u001b[39min\u001b[39;00m filenames]\n\u001b[0;32m----> 7\u001b[0m dfs_unique_var\u001b[39m=\u001b[39m[df\u001b[39m.\u001b[39mpivot_table(index\u001b[39m=\u001b[39m\u001b[39m'\u001b[39m\u001b[39mphi\u001b[39m\u001b[39m'\u001b[39m,columns\u001b[39m=\u001b[39m\u001b[39m'\u001b[39m\u001b[39mEGR\u001b[39m\u001b[39m'\u001b[39m,values\u001b[39m=\u001b[39m\u001b[39m'\u001b[39m\u001b[39mT\u001b[39m\u001b[39m'\u001b[39m) \u001b[39mfor\u001b[39;00m df \u001b[39min\u001b[39;00m dfsr]\n\u001b[1;32m      9\u001b[0m fig, ax \u001b[39m=\u001b[39m plt\u001b[39m.\u001b[39msubplots(\u001b[39m1\u001b[39m,\u001b[39m1\u001b[39m)\n\u001b[1;32m     11\u001b[0m dfsc\u001b[39m=\u001b[39mpd\u001b[39m.\u001b[39mconcat(dfs_unique_var, axis \u001b[39m=\u001b[39m \u001b[39m1\u001b[39m)\n",
      "Cell \u001b[0;32mIn[11], line 7\u001b[0m, in \u001b[0;36m<listcomp>\u001b[0;34m(.0)\u001b[0m\n\u001b[1;32m      5\u001b[0m dfsr \u001b[39m=\u001b[39m []\n\u001b[1;32m      6\u001b[0m [dfsr\u001b[39m.\u001b[39mappend(pd\u001b[39m.\u001b[39mread_pickle(file)) \u001b[39mfor\u001b[39;00m file \u001b[39min\u001b[39;00m filenames]\n\u001b[0;32m----> 7\u001b[0m dfs_unique_var\u001b[39m=\u001b[39m[df\u001b[39m.\u001b[39;49mpivot_table(index\u001b[39m=\u001b[39;49m\u001b[39m'\u001b[39;49m\u001b[39mphi\u001b[39;49m\u001b[39m'\u001b[39;49m,columns\u001b[39m=\u001b[39;49m\u001b[39m'\u001b[39;49m\u001b[39mEGR\u001b[39;49m\u001b[39m'\u001b[39;49m,values\u001b[39m=\u001b[39;49m\u001b[39m'\u001b[39;49m\u001b[39mT\u001b[39;49m\u001b[39m'\u001b[39;49m) \u001b[39mfor\u001b[39;00m df \u001b[39min\u001b[39;00m dfsr]\n\u001b[1;32m      9\u001b[0m fig, ax \u001b[39m=\u001b[39m plt\u001b[39m.\u001b[39msubplots(\u001b[39m1\u001b[39m,\u001b[39m1\u001b[39m)\n\u001b[1;32m     11\u001b[0m dfsc\u001b[39m=\u001b[39mpd\u001b[39m.\u001b[39mconcat(dfs_unique_var, axis \u001b[39m=\u001b[39m \u001b[39m1\u001b[39m)\n",
      "File \u001b[0;32m/opt/homebrew/anaconda3/envs/can260/lib/python3.9/site-packages/pandas/core/frame.py:8728\u001b[0m, in \u001b[0;36mDataFrame.pivot_table\u001b[0;34m(self, values, index, columns, aggfunc, fill_value, margins, dropna, margins_name, observed, sort)\u001b[0m\n\u001b[1;32m   8711\u001b[0m \u001b[39m@Substitution\u001b[39m(\u001b[39m\"\u001b[39m\u001b[39m\"\u001b[39m)\n\u001b[1;32m   8712\u001b[0m \u001b[39m@Appender\u001b[39m(_shared_docs[\u001b[39m\"\u001b[39m\u001b[39mpivot_table\u001b[39m\u001b[39m\"\u001b[39m])\n\u001b[1;32m   8713\u001b[0m \u001b[39mdef\u001b[39;00m \u001b[39mpivot_table\u001b[39m(\n\u001b[0;32m   (...)\u001b[0m\n\u001b[1;32m   8724\u001b[0m     sort\u001b[39m=\u001b[39m\u001b[39mTrue\u001b[39;00m,\n\u001b[1;32m   8725\u001b[0m ) \u001b[39m-\u001b[39m\u001b[39m>\u001b[39m DataFrame:\n\u001b[1;32m   8726\u001b[0m     \u001b[39mfrom\u001b[39;00m \u001b[39mpandas\u001b[39;00m\u001b[39m.\u001b[39;00m\u001b[39mcore\u001b[39;00m\u001b[39m.\u001b[39;00m\u001b[39mreshape\u001b[39;00m\u001b[39m.\u001b[39;00m\u001b[39mpivot\u001b[39;00m \u001b[39mimport\u001b[39;00m pivot_table\n\u001b[0;32m-> 8728\u001b[0m     \u001b[39mreturn\u001b[39;00m pivot_table(\n\u001b[1;32m   8729\u001b[0m         \u001b[39mself\u001b[39;49m,\n\u001b[1;32m   8730\u001b[0m         values\u001b[39m=\u001b[39;49mvalues,\n\u001b[1;32m   8731\u001b[0m         index\u001b[39m=\u001b[39;49mindex,\n\u001b[1;32m   8732\u001b[0m         columns\u001b[39m=\u001b[39;49mcolumns,\n\u001b[1;32m   8733\u001b[0m         aggfunc\u001b[39m=\u001b[39;49maggfunc,\n\u001b[1;32m   8734\u001b[0m         fill_value\u001b[39m=\u001b[39;49mfill_value,\n\u001b[1;32m   8735\u001b[0m         margins\u001b[39m=\u001b[39;49mmargins,\n\u001b[1;32m   8736\u001b[0m         dropna\u001b[39m=\u001b[39;49mdropna,\n\u001b[1;32m   8737\u001b[0m         margins_name\u001b[39m=\u001b[39;49mmargins_name,\n\u001b[1;32m   8738\u001b[0m         observed\u001b[39m=\u001b[39;49mobserved,\n\u001b[1;32m   8739\u001b[0m         sort\u001b[39m=\u001b[39;49msort,\n\u001b[1;32m   8740\u001b[0m     )\n",
      "File \u001b[0;32m/opt/homebrew/anaconda3/envs/can260/lib/python3.9/site-packages/pandas/core/reshape/pivot.py:97\u001b[0m, in \u001b[0;36mpivot_table\u001b[0;34m(data, values, index, columns, aggfunc, fill_value, margins, dropna, margins_name, observed, sort)\u001b[0m\n\u001b[1;32m     94\u001b[0m     table \u001b[39m=\u001b[39m concat(pieces, keys\u001b[39m=\u001b[39mkeys, axis\u001b[39m=\u001b[39m\u001b[39m1\u001b[39m)\n\u001b[1;32m     95\u001b[0m     \u001b[39mreturn\u001b[39;00m table\u001b[39m.\u001b[39m__finalize__(data, method\u001b[39m=\u001b[39m\u001b[39m\"\u001b[39m\u001b[39mpivot_table\u001b[39m\u001b[39m\"\u001b[39m)\n\u001b[0;32m---> 97\u001b[0m table \u001b[39m=\u001b[39m __internal_pivot_table(\n\u001b[1;32m     98\u001b[0m     data,\n\u001b[1;32m     99\u001b[0m     values,\n\u001b[1;32m    100\u001b[0m     index,\n\u001b[1;32m    101\u001b[0m     columns,\n\u001b[1;32m    102\u001b[0m     aggfunc,\n\u001b[1;32m    103\u001b[0m     fill_value,\n\u001b[1;32m    104\u001b[0m     margins,\n\u001b[1;32m    105\u001b[0m     dropna,\n\u001b[1;32m    106\u001b[0m     margins_name,\n\u001b[1;32m    107\u001b[0m     observed,\n\u001b[1;32m    108\u001b[0m     sort,\n\u001b[1;32m    109\u001b[0m )\n\u001b[1;32m    110\u001b[0m \u001b[39mreturn\u001b[39;00m table\u001b[39m.\u001b[39m__finalize__(data, method\u001b[39m=\u001b[39m\u001b[39m\"\u001b[39m\u001b[39mpivot_table\u001b[39m\u001b[39m\"\u001b[39m)\n",
      "File \u001b[0;32m/opt/homebrew/anaconda3/envs/can260/lib/python3.9/site-packages/pandas/core/reshape/pivot.py:143\u001b[0m, in \u001b[0;36m__internal_pivot_table\u001b[0;34m(data, values, index, columns, aggfunc, fill_value, margins, dropna, margins_name, observed, sort)\u001b[0m\n\u001b[1;32m    141\u001b[0m \u001b[39mfor\u001b[39;00m i \u001b[39min\u001b[39;00m values:\n\u001b[1;32m    142\u001b[0m     \u001b[39mif\u001b[39;00m i \u001b[39mnot\u001b[39;00m \u001b[39min\u001b[39;00m data:\n\u001b[0;32m--> 143\u001b[0m         \u001b[39mraise\u001b[39;00m \u001b[39mKeyError\u001b[39;00m(i)\n\u001b[1;32m    145\u001b[0m to_filter \u001b[39m=\u001b[39m []\n\u001b[1;32m    146\u001b[0m \u001b[39mfor\u001b[39;00m x \u001b[39min\u001b[39;00m keys \u001b[39m+\u001b[39m values:\n",
      "\u001b[0;31mKeyError\u001b[0m: 'T'"
     ]
    }
   ],
   "source": [
    "#filenames = ['df_new_mdots'+str(idx)+'.pkl' for idx in range(2)]\n",
    "#pressures = [100000,500000] #initial pressures to test in Pa\n",
    "#egr_percentages = [0.0,0.1,0.3] #np.arange(0.0,0.51,0.1)\n",
    "\n",
    "dfsr = []\n",
    "[dfsr.append(pd.read_pickle(file)) for file in filenames]\n",
    "dfs_unique_var=[df.pivot_table(index='phi',columns='EGR',values='T') for df in dfsr]\n",
    "\n",
    "fig, ax = plt.subplots(1,1)\n",
    "\n",
    "dfsc=pd.concat(dfs_unique_var, axis = 1)\n",
    "\n",
    "human_labels = [(str(round(p/100000,1))+' bar, '+str(round(e*100,1))+\"%CO2\"+config.egr_unit) for p in pressures for e in egr_percentages]\n",
    "T=config.res.egr.thermo.T\n",
    "dfsc.plot(ax=ax, style='--o',title='(1D) Lam. flame speed vs equivalence ratio'+'(Tin_EGR:'+str(round(T,0))+'K)',\n",
    "            #Pin:'+str(round(P/100000,0))+'bar)',\n",
    "            xlabel='Equivalence ratio',ylabel='SL0 [m/s]')\n",
    "\n",
    "#equilibrate_data=main()\n",
    "#equilibrate_data=equilibrate_data.pivot_table(columns='EGR',index='phi',values='T')\n",
    "#equilibrate_data.plot(ax=ax, style='--x',title='Temperature vs equivalence ratio',xlabel='Equivalence ratio',ylabel='T',legend=False, label='EGR Reactor')\n",
    "#plt.xticks(np.arange(0.8,1.21,0.05))\n",
    "#plt.yticks(range(1500,2305,100))\n",
    "plt.grid()\n",
    "plt.legend(loc='best')\n",
    "ax.legend(human_labels)\n",
    "plt.show()"
   ]
  }
 ],
 "metadata": {
  "kernelspec": {
   "display_name": "can260",
   "language": "python",
   "name": "python3"
  },
  "language_info": {
   "codemirror_mode": {
    "name": "ipython",
    "version": 3
   },
   "file_extension": ".py",
   "mimetype": "text/x-python",
   "name": "python",
   "nbconvert_exporter": "python",
   "pygments_lexer": "ipython3",
   "version": "3.9.15"
  },
  "orig_nbformat": 4,
  "vscode": {
   "interpreter": {
    "hash": "2323f1c52f1919246a0956530a638aa88baf9612550d15ccfd85600dadc84ff1"
   }
  }
 },
 "nbformat": 4,
 "nbformat_minor": 2
}
