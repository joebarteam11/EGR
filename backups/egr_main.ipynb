{
 "cells": [
  {
   "cell_type": "code",
   "execution_count": null,
   "metadata": {},
   "outputs": [],
   "source": [
    "import os\n",
    "import sys\n",
    "module_path = os.path.abspath(os.path.join('/Users/theot/Documents/SEGR_0D/EGR0D/'))\n",
    "if module_path not in sys.path:\n",
    "    sys.path.append(module_path)\n",
    "\n",
    "#sys.path.remove('/Users/theot/Documents/SEGR_0D/EGR0D/')\n",
    "print(sys.path)\n",
    "\n",
    "from lib_egr_260 import *\n",
    "import time\n",
    "from egr_equilibrate_multiproc import *\n",
    "import pandas as pd"
   ]
  },
  {
   "cell_type": "code",
   "execution_count": null,
   "metadata": {},
   "outputs": [],
   "source": [
    "if __name__ == '__main__':\n",
    "    # get the start time\n",
    "    st = time.time()\n",
    "\n",
    "    config = case('CH4:1.',                     #fuel compo\n",
    "                  [300],                        #tin fuel\n",
    "                  [1e5],                        #pin fuel\n",
    "                  'O2:1. N2:3.76',              #ox compo\n",
    "                  [300],                        #tin ox\n",
    "                  [1e5],                        #pin ox\n",
    "                  'CO2:1.',                     #egr compo\n",
    "                  [300],                        #tin egr\n",
    "                  [1e5],                        #pin egr\n",
    "                  [0.8,0.9,1.0,1.1,1.2],        #phi range\n",
    "                  [0.0,0.1,0.3,0.5],            #egr range\n",
    "                  'mole',                       #egr rate unit\n",
    "                  'Aramco13.cti'                #scheme\n",
    "                 )\n",
    "    \n",
    "    dfs=[]\n",
    "    pressures = [100_000,500_000] #Pa\n",
    "    for p in pressures:\n",
    "        #set reservoirs thermo-state\n",
    "        _, config.gas.fuel = create_reservoir(config.compo.fuel,config.scheme, 300.0, p)\n",
    "        _, config.gas.ox = create_reservoir(config.compo.ox,'air.xml', 300.0, p)\n",
    "        _, config.gas.egr = create_reservoir(config.compo.egr,config.scheme, 300.0, p)\n",
    "        Tin = [t[i] for t in config.tin for i in len(config.tin.fuel)]\n",
    "        print(Tin)\n",
    "        items = [(config,phi,egr) for phi in config.phi_range for egr in config.egr_range]\n",
    "        pool = mp.Pool(6)\n",
    "        results = pool.starmap(compute_solutions_1D, items)\n",
    "        #reactor,pdresult = compute_solutions_1D(config,1,real_egr=False)\n",
    "        conc=pd.concat(results[:],axis=0)\n",
    "        print(conc)\n",
    "        dfs.append(conc)\n",
    "        conc.to_csv('df_'+'aramco_1D_data_'+str(p/100000)+'bar'+'.csv')\n",
    "\n",
    "    print(dfs)\n",
    "\n",
    "    # get the end time\n",
    "    et = time.time()\n",
    "    # get the execution time\n",
    "    elapsed_time = et - st\n",
    "\n",
    "        \n",
    "    #select the columns to plot (X,Xbis,Y)\n",
    "    #dfs.to_csv('df_'+'aramco_1D_data_phi1'+'.csv')    \n",
    "    "
   ]
  },
  {
   "cell_type": "code",
   "execution_count": null,
   "metadata": {},
   "outputs": [],
   "source": [
    "readdf=[pd.read_csv('df_'+'aramco_1D_data_'+str(p/100000)+'bar'+'.csv',index_col=0) for p in pressures]\n",
    "print(readdf)\n",
    "readdfsc=[df.pivot_table(index='phi',columns='EGR',values='u') for df in readdf]\n",
    "print(readdfsc)\n",
    "\n",
    "title='(0D) Flame temperature vs equivalence ratio (Tin_EGR:'+str(config.res.egr.thermo.T)+'K)'\n",
    "human_labels = [str(round(p/100000,1))+' bar, '+str(round(e*100,1))+\"%EGR\"+config.egr_unit for p in pressures for e in config.egr_range]\n",
    "xlabel='Equivalence ratio'\n",
    "ylabel='Tad [K]'\n",
    "#readdfsc=pd.concat(readdfsc, axis = 1, keys = pressures)\n",
    "# ax = [show_graphs(df,title,style='-o') for df in readdfsc]\n",
    "\n",
    "# equilibrate_data=main(pressures)\n",
    "# equilibrate_data=[df.pivot_table(index='phi',columns='EGR',values='T') for df in equilibrate_data]\n",
    "# human_labels+=['Equilibrium'+str(round(p/100000,1))+' bar, '+str(round(e*100,1))+\"%EGR\"+config.egr_unit for p in pressures for e in config.egr_range]\n",
    "# equilibrate_data=pd.concat(equilibrate_data, axis = 1)\n",
    "# #equilibrate_data.plot(ax=ax, style='--',title='Temperature vs equivalence ratio',xlabel='Equivalence ratio',ylabel='T',legend=True)\n",
    "#fig,ax=plt.subplots(1,1)\n",
    "show_graphs(readdfsc,title,human_labels,xlabel,ylabel,style='.-',subplot=1,plot=True)# for df in readdfsc]\n",
    "#plt.show()"
   ]
  },
  {
   "cell_type": "code",
   "execution_count": null,
   "metadata": {},
   "outputs": [],
   "source": [
    "dfsc=[df.pivot_table(index='phi',columns='EGR',values='T') for df in dfs]\n",
    "dfsc=pd.concat(dfsc, axis = 1, keys = pressures)\n",
    "\n",
    "print(dfsc)\n",
    "print('Execution time:', elapsed_time, 'seconds')\n",
    "\n",
    "    "
   ]
  },
  {
   "cell_type": "code",
   "execution_count": null,
   "metadata": {},
   "outputs": [],
   "source": [
    "\n",
    "#dfsccsv=pd.concat(dfs, axis = 1)\n",
    "#dfsccsv.to_csv('df_no_keys_'+'aramco_1D_data'+'.csv')\n",
    "title='(0D) Flame temperature vs equivalence ratio (Tin_EGR:'+str(config.res.egr.thermo.T)+'K)'\n",
    "human_labels = [str(round(p/100000,1))+' bar, '+str(round(e*100,1))+\"%EGR\"+config.egr_unit for p in pressures for e in config.egr_range]\n",
    "xlabel='Equivalence ratio'\n",
    "ylabel='Tad [K]'\n",
    "\n",
    "ax = show_graphs(dfsc,title,style='-o')\n",
    "\n",
    "equilibrate_data=main(pressures)\n",
    "equilibrate_data=[df.pivot_table(index='phi',columns='EGR',values='T') for df in equilibrate_data]\n",
    "human_labels+=['Equilibrium'+str(round(p/100000,1))+' bar, '+str(round(e*100,1))+\"%EGR\"+config.egr_unit for p in pressures for e in config.egr_range]\n",
    "equilibrate_data=pd.concat(equilibrate_data, axis = 1)\n",
    "#equilibrate_data.plot(ax=ax, style='--',title='Temperature vs equivalence ratio',xlabel='Equivalence ratio',ylabel='T',legend=True)\n",
    "\n",
    "show_graphs(equilibrate_data,title,human_labels,xlabel,ylabel,style='--',ax=ax,plot=True)\n"
   ]
  }
 ],
 "metadata": {
  "kernelspec": {
   "display_name": "can260",
   "language": "python",
   "name": "python3"
  },
  "language_info": {
   "codemirror_mode": {
    "name": "ipython",
    "version": 3
   },
   "file_extension": ".py",
   "mimetype": "text/x-python",
   "name": "python",
   "nbconvert_exporter": "python",
   "pygments_lexer": "ipython3",
   "version": "3.9.15"
  },
  "orig_nbformat": 4,
  "vscode": {
   "interpreter": {
    "hash": "2323f1c52f1919246a0956530a638aa88baf9612550d15ccfd85600dadc84ff1"
   }
  }
 },
 "nbformat": 4,
 "nbformat_minor": 2
}
