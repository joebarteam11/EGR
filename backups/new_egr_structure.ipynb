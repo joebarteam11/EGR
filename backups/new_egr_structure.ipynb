{
 "cells": [
  {
   "cell_type": "code",
   "execution_count": 1,
   "metadata": {},
   "outputs": [
    {
     "name": "stdout",
     "output_type": "stream",
     "text": [
      "['/Users/theot/Documents/SEGR_0D/EGR0D/src', '/Users/theot/Documents/SEGR_0D/EGR0D/src', '/Users/theot/Documents/arcane/ARCANE', '/opt/homebrew/anaconda3/envs/can260/lib/python39.zip', '/opt/homebrew/anaconda3/envs/can260/lib/python3.9', '/opt/homebrew/anaconda3/envs/can260/lib/python3.9/lib-dynload', '', '/opt/homebrew/anaconda3/envs/can260/lib/python3.9/site-packages', '/Users/theot/Documents/SEGR_0D/EGR0D']\n"
     ]
    }
   ],
   "source": [
    "import os\n",
    "import sys\n",
    "module_path = os.path.abspath(os.path.join('/Users/theot/Documents/SEGR_0D/EGR0D/'))\n",
    "if module_path not in sys.path:\n",
    "    sys.path.append(module_path)\n",
    "\n",
    "#sys.path.remove('/Users/theot/Documents/SEGR_0D/EGR0D/')\n",
    "print(sys.path)"
   ]
  },
  {
   "cell_type": "code",
   "execution_count": 2,
   "metadata": {},
   "outputs": [],
   "source": [
    "from new_egr import *\n",
    "import time\n",
    "#from egr_multiproc import *\n",
    "import pandas as pd"
   ]
  },
  {
   "cell_type": "code",
   "execution_count": null,
   "metadata": {},
   "outputs": [],
   "source": [
    "if __name__ == '__main__':\n",
    "    # get the start time\n",
    "    st = time.time()\n",
    "\n",
    "    # create a dictionary to store the simulation parameters, containing, fuel, oxidizer and dilutent composition, temeratures of this components, pressure, equivalence ratio, EGR rate with its units, and the simulation type, and kinetic mechanism\n",
    "    param = {'fuel': {'compo':'CH4:1.','T':fill_T_param(),'P':[100000],'scheme':'Aramco13.cti'},\n",
    "             'oxidizer': {'compo':'O2:1. N2:3.76','T':[300],'P':[100000],'scheme':'air.xml'},\n",
    "             'dilutent': {'compo':'CO2:0.5','T':[300],'P':[100000],'scheme':'Aramco13.cti'},\n",
    "             'fuel_temp': [300.0],\n",
    "             'oxidizer_temp': [300.0],\n",
    "             'dilutent_temp': [800.0],\n",
    "             'fuel_pressure': [100000],\n",
    "             'oxidizer_pressure': [100000],\n",
    "             'dilutent_pressure': [100000],\n",
    "             'phi_range': np.arange(0.7,1.35,0.05),\n",
    "             'egr_range': np.arange(0.0,0.11,0.05),\n",
    "             'egr_rate_unit': 'mol',\n",
    "             'scheme': 'Aramco13.cti',\n",
    "             'sim_type': '0D'}\n",
    "\n",
    "    def fill_T_param(param, T):\n",
    "        for T in param['fuel_temp']:\n",
    "            yield T\n",
    "    # create a dictionary to store the simulation results\n",
    "    results = {'phi': [],\n",
    "                'T': [],\n",
    "                'P': [],\n",
    "                'EGR': [],\n",
    "                'X': [],\n",
    "                'Y': [],\n",
    "                'u': [],\n",
    "                'HRR': [],\n",
    "                'grid': []}\n",
    "\n",
    "\n",
    "\n",
    "    config = case('CH4:1.',                   #fuel compo\n",
    "                'O2:1. N2:3.76',              #ox compo\n",
    "                'CO2:0.5',                    #egr compo\n",
    "                3960.0,                       #thermal output power (kind of useless)\n",
    "                0.0001,                       #egr rate\n",
    "                'mol'                         #egr rate unit\n",
    "                )\n",
    "    dfs=[]\n",
    "    pressures = [100000,500000] #initial pressures to test in Pa\n",
    "    for p in pressures:\n",
    "        #set reservoirs thermo-state\n",
    "        config.res.fuel = create_reservoir(param['fuel'])\n",
    "        config.res.ox = create_reservoir(param['oxidizer'])\n",
    "        config.res.egr = create_reservoir(param['dilutent'])\n",
    "\n",
    "        #range of computation\n",
    "        egr_percentages = np.arange(0.0,0.11,0.05)\n",
    "        df = pd.DataFrame()\n",
    "        for egr_rate in egr_percentages:\n",
    "            config.egr_rate = egr_rate #override config.egr_rate set during object instanciation\n",
    "            phi_range = np.arange(0.7,1.35,0.05)\n",
    "            reactor,results,pdresult = compute_solutions_1D(config,phi_range,power_regulation=False)\n",
    "            #plt.plot(phi_range,results[:,4],label='EGR reacteurs:'+str(round(config.egr_rate*100,1)),marker='o')\n",
    "            #subplot_data(phi_range,results,'Phi',['T[K]','HRR[W/m3]','Y_O2','Y_CO2'],'EGR rate (%):'+str(round(config.egr_rate*100,1))+'%')\n",
    "            df=pd.concat([df,pdresult])\n",
    "        \n",
    "        #df = df.pivot_table(index='phi',columns='EGR',values='u')\n",
    "        #print_reactor(df)\n",
    "        # get the end time\n",
    "        et = time.time()\n",
    "\n",
    "        # get the execution time\n",
    "        elapsed_time = et - st\n",
    "        print('Execution time:', elapsed_time, 'seconds')\n",
    "        dfs.append(df)"
   ]
  },
  {
   "cell_type": "code",
   "execution_count": null,
   "metadata": {},
   "outputs": [],
   "source": [
    "dfsi=dfs\n",
    "filenames = ['df'+str(idx)+'.pkl' for idx in range(len(dfsi))]\n",
    "[df.to_pickle(filenames[idx]) for idx,df in enumerate(dfsi)]\n",
    "params={'pressure':pressures,\n",
    "        'filename':filenames,\n",
    "        'scheme':'Aramco13.cti'}"
   ]
  },
  {
   "cell_type": "code",
   "execution_count": null,
   "metadata": {},
   "outputs": [],
   "source": [
    "#filenames = ['df'+str(idx)+'.pkl' for idx in range(2)]\n",
    "\n",
    "dfsr = []\n",
    "[dfsr.append(pd.read_pickle(file)) for file in filenames]\n",
    "dfs_unique_var=[df.pivot_table(index='phi',columns='EGR',values='T') for df in dfsr]\n",
    "\n",
    "fig, ax = plt.subplots(1,1)\n",
    "\n",
    "dfsc=pd.concat(dfs_unique_var, axis = 1)\n",
    "\n",
    "human_labels = [(str(round(p/100000,1))+' bar, '+str(round(e*100,1))+\"%EGRmol\") for p in pressures for e in egr_percentages]\n",
    "T=800\n",
    "dfsc.plot(ax=ax, style='--o',title='(1D) Tad vs equivalence ratio'+'(Tin_EGR:'+str(round(T,0))+'K)',\n",
    "            #Pin:'+str(round(P/100000,0))+'bar)',\n",
    "            xlabel='Equivalence ratio',ylabel='T [K]')\n",
    "\n",
    "#equilibrate_data=main()\n",
    "#equilibrate_data=equilibrate_data.pivot_table(columns='EGR',index='phi',values='T')\n",
    "#equilibrate_data.plot(ax=ax, style='--x',title='Temperature vs equivalence ratio',xlabel='Equivalence ratio',ylabel='T',legend=False, label='EGR Reactor')\n",
    "\n",
    "plt.grid()\n",
    "plt.legend(loc='best')\n",
    "ax.legend(human_labels)\n",
    "plt.show()"
   ]
  }
 ],
 "metadata": {
  "kernelspec": {
   "display_name": "can260",
   "language": "python",
   "name": "python3"
  },
  "language_info": {
   "codemirror_mode": {
    "name": "ipython",
    "version": 3
   },
   "file_extension": ".py",
   "mimetype": "text/x-python",
   "name": "python",
   "nbconvert_exporter": "python",
   "pygments_lexer": "ipython3",
   "version": "3.9.15"
  },
  "orig_nbformat": 4,
  "vscode": {
   "interpreter": {
    "hash": "2323f1c52f1919246a0956530a638aa88baf9612550d15ccfd85600dadc84ff1"
   }
  }
 },
 "nbformat": 4,
 "nbformat_minor": 2
}
