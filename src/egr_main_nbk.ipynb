{
 "cells": [
  {
   "cell_type": "code",
   "execution_count": 8,
   "metadata": {},
   "outputs": [
    {
     "name": "stdout",
     "output_type": "stream",
     "text": [
      "['/Users/theot/Documents/SEGR_0D/EGR0D/src', '/Users/theot/Documents/SEGR_0D/EGR0D/src', '/Users/theot/Documents/arcane/ARCANE', '/opt/homebrew/anaconda3/envs/can260/lib/python39.zip', '/opt/homebrew/anaconda3/envs/can260/lib/python3.9', '/opt/homebrew/anaconda3/envs/can260/lib/python3.9/lib-dynload', '', '/opt/homebrew/anaconda3/envs/can260/lib/python3.9/site-packages', '/Users/theot/Documents/SEGR_0D/EGR0D']\n"
     ]
    }
   ],
   "source": [
    "import os\n",
    "import sys\n",
    "module_path = os.path.abspath(os.path.join('/Users/theot/Documents/SEGR_0D/EGR0D/'))\n",
    "if module_path not in sys.path:\n",
    "    sys.path.append(module_path)\n",
    "\n",
    "#sys.path.remove('/Users/theot/Documents/SEGR_0D/EGR0D/')\n",
    "print(sys.path)"
   ]
  },
  {
   "cell_type": "code",
   "execution_count": 9,
   "metadata": {},
   "outputs": [],
   "source": [
    "from egr import *\n",
    "import time\n",
    "from egr_multiproc import *\n",
    "import pandas as pd"
   ]
  },
  {
   "cell_type": "code",
   "execution_count": 10,
   "metadata": {},
   "outputs": [
    {
     "name": "stderr",
     "output_type": "stream",
     "text": [
      "/Users/theot/Documents/SEGR_0D/EGR0D/src/egr.py:103: UserWarning: NasaPoly2::validate: \n",
      "For species OH*, discontinuity in h/RT detected at Tmid = 1000\n",
      "\tValue computed using low-temperature polynomial:  53.62056162666667\n",
      "\tValue computed using high-temperature polynomial: 53.5841554314\n",
      "\n",
      "  gas = ct.Solution(scheme)\n",
      "/Users/theot/Documents/SEGR_0D/EGR0D/src/egr.py:103: UserWarning: NasaPoly2::validate: \n",
      "For species CH*, discontinuity in h/RT detected at Tmid = 1000\n",
      "\tValue computed using low-temperature polynomial:  107.5046684\n",
      "\tValue computed using high-temperature polynomial: 107.34847808033334\n",
      "\n",
      "  gas = ct.Solution(scheme)\n",
      "/Users/theot/Documents/SEGR_0D/EGR0D/src/egr.py:188: UserWarning: NasaPoly2::validate: \n",
      "For species OH*, discontinuity in h/RT detected at Tmid = 1000\n",
      "\tValue computed using low-temperature polynomial:  53.62056162666667\n",
      "\tValue computed using high-temperature polynomial: 53.5841554314\n",
      "\n",
      "  gas = ct.Solution(scheme)\n",
      "/Users/theot/Documents/SEGR_0D/EGR0D/src/egr.py:188: UserWarning: NasaPoly2::validate: \n",
      "For species CH*, discontinuity in h/RT detected at Tmid = 1000\n",
      "\tValue computed using low-temperature polynomial:  107.5046684\n",
      "\tValue computed using high-temperature polynomial: 107.34847808033334\n",
      "\n",
      "  gas = ct.Solution(scheme)\n",
      "/Users/theot/Documents/SEGR_0D/EGR0D/src/egr.py:108: UserWarning: NasaPoly2::validate: \n",
      "For species OH*, discontinuity in h/RT detected at Tmid = 1000\n",
      "\tValue computed using low-temperature polynomial:  53.62056162666667\n",
      "\tValue computed using high-temperature polynomial: 53.5841554314\n",
      "\n",
      "  gas = ct.Solution(scheme)\n",
      "/Users/theot/Documents/SEGR_0D/EGR0D/src/egr.py:108: UserWarning: NasaPoly2::validate: \n",
      "For species CH*, discontinuity in h/RT detected at Tmid = 1000\n",
      "\tValue computed using low-temperature polynomial:  107.5046684\n",
      "\tValue computed using high-temperature polynomial: 107.34847808033334\n",
      "\n",
      "  gas = ct.Solution(scheme)\n"
     ]
    },
    {
     "name": "stdout",
     "output_type": "stream",
     "text": [
      "flame 0.0\n"
     ]
    },
    {
     "name": "stderr",
     "output_type": "stream",
     "text": [
      "/Users/theot/Documents/SEGR_0D/EGR0D/src/egr.py:188: UserWarning: NasaPoly2::validate: \n",
      "For species OH*, discontinuity in h/RT detected at Tmid = 1000\n",
      "\tValue computed using low-temperature polynomial:  53.62056162666667\n",
      "\tValue computed using high-temperature polynomial: 53.5841554314\n",
      "\n",
      "  gas = ct.Solution(scheme)\n",
      "/Users/theot/Documents/SEGR_0D/EGR0D/src/egr.py:188: UserWarning: NasaPoly2::validate: \n",
      "For species CH*, discontinuity in h/RT detected at Tmid = 1000\n",
      "\tValue computed using low-temperature polynomial:  107.5046684\n",
      "\tValue computed using high-temperature polynomial: 107.34847808033334\n",
      "\n",
      "  gas = ct.Solution(scheme)\n",
      "/Users/theot/Documents/SEGR_0D/EGR0D/src/egr.py:108: UserWarning: NasaPoly2::validate: \n",
      "For species OH*, discontinuity in h/RT detected at Tmid = 1000\n",
      "\tValue computed using low-temperature polynomial:  53.62056162666667\n",
      "\tValue computed using high-temperature polynomial: 53.5841554314\n",
      "\n",
      "  gas = ct.Solution(scheme)\n",
      "/Users/theot/Documents/SEGR_0D/EGR0D/src/egr.py:108: UserWarning: NasaPoly2::validate: \n",
      "For species CH*, discontinuity in h/RT detected at Tmid = 1000\n",
      "\tValue computed using low-temperature polynomial:  107.5046684\n",
      "\tValue computed using high-temperature polynomial: 107.34847808033334\n",
      "\n",
      "  gas = ct.Solution(scheme)\n"
     ]
    },
    {
     "name": "stdout",
     "output_type": "stream",
     "text": [
      "flame 3.5846695908634124e-31\n"
     ]
    },
    {
     "name": "stderr",
     "output_type": "stream",
     "text": [
      "/Users/theot/Documents/SEGR_0D/EGR0D/src/egr.py:188: UserWarning: NasaPoly2::validate: \n",
      "For species OH*, discontinuity in h/RT detected at Tmid = 1000\n",
      "\tValue computed using low-temperature polynomial:  53.62056162666667\n",
      "\tValue computed using high-temperature polynomial: 53.5841554314\n",
      "\n",
      "  gas = ct.Solution(scheme)\n",
      "/Users/theot/Documents/SEGR_0D/EGR0D/src/egr.py:188: UserWarning: NasaPoly2::validate: \n",
      "For species CH*, discontinuity in h/RT detected at Tmid = 1000\n",
      "\tValue computed using low-temperature polynomial:  107.5046684\n",
      "\tValue computed using high-temperature polynomial: 107.34847808033334\n",
      "\n",
      "  gas = ct.Solution(scheme)\n",
      "/Users/theot/Documents/SEGR_0D/EGR0D/src/egr.py:108: UserWarning: NasaPoly2::validate: \n",
      "For species OH*, discontinuity in h/RT detected at Tmid = 1000\n",
      "\tValue computed using low-temperature polynomial:  53.62056162666667\n",
      "\tValue computed using high-temperature polynomial: 53.5841554314\n",
      "\n",
      "  gas = ct.Solution(scheme)\n",
      "/Users/theot/Documents/SEGR_0D/EGR0D/src/egr.py:108: UserWarning: NasaPoly2::validate: \n",
      "For species CH*, discontinuity in h/RT detected at Tmid = 1000\n",
      "\tValue computed using low-temperature polynomial:  107.5046684\n",
      "\tValue computed using high-temperature polynomial: 107.34847808033334\n",
      "\n",
      "  gas = ct.Solution(scheme)\n"
     ]
    },
    {
     "name": "stdout",
     "output_type": "stream",
     "text": [
      "flame 0.0\n"
     ]
    },
    {
     "name": "stderr",
     "output_type": "stream",
     "text": [
      "/Users/theot/Documents/SEGR_0D/EGR0D/src/egr.py:188: UserWarning: NasaPoly2::validate: \n",
      "For species OH*, discontinuity in h/RT detected at Tmid = 1000\n",
      "\tValue computed using low-temperature polynomial:  53.62056162666667\n",
      "\tValue computed using high-temperature polynomial: 53.5841554314\n",
      "\n",
      "  gas = ct.Solution(scheme)\n",
      "/Users/theot/Documents/SEGR_0D/EGR0D/src/egr.py:188: UserWarning: NasaPoly2::validate: \n",
      "For species CH*, discontinuity in h/RT detected at Tmid = 1000\n",
      "\tValue computed using low-temperature polynomial:  107.5046684\n",
      "\tValue computed using high-temperature polynomial: 107.34847808033334\n",
      "\n",
      "  gas = ct.Solution(scheme)\n",
      "/Users/theot/Documents/SEGR_0D/EGR0D/src/egr.py:108: UserWarning: NasaPoly2::validate: \n",
      "For species OH*, discontinuity in h/RT detected at Tmid = 1000\n",
      "\tValue computed using low-temperature polynomial:  53.62056162666667\n",
      "\tValue computed using high-temperature polynomial: 53.5841554314\n",
      "\n",
      "  gas = ct.Solution(scheme)\n",
      "/Users/theot/Documents/SEGR_0D/EGR0D/src/egr.py:108: UserWarning: NasaPoly2::validate: \n",
      "For species CH*, discontinuity in h/RT detected at Tmid = 1000\n",
      "\tValue computed using low-temperature polynomial:  107.5046684\n",
      "\tValue computed using high-temperature polynomial: 107.34847808033334\n",
      "\n",
      "  gas = ct.Solution(scheme)\n"
     ]
    },
    {
     "name": "stdout",
     "output_type": "stream",
     "text": [
      "flame 6.474580775648694e-30\n"
     ]
    },
    {
     "name": "stderr",
     "output_type": "stream",
     "text": [
      "/Users/theot/Documents/SEGR_0D/EGR0D/src/egr.py:188: UserWarning: NasaPoly2::validate: \n",
      "For species OH*, discontinuity in h/RT detected at Tmid = 1000\n",
      "\tValue computed using low-temperature polynomial:  53.62056162666667\n",
      "\tValue computed using high-temperature polynomial: 53.5841554314\n",
      "\n",
      "  gas = ct.Solution(scheme)\n",
      "/Users/theot/Documents/SEGR_0D/EGR0D/src/egr.py:188: UserWarning: NasaPoly2::validate: \n",
      "For species CH*, discontinuity in h/RT detected at Tmid = 1000\n",
      "\tValue computed using low-temperature polynomial:  107.5046684\n",
      "\tValue computed using high-temperature polynomial: 107.34847808033334\n",
      "\n",
      "  gas = ct.Solution(scheme)\n",
      "/Users/theot/Documents/SEGR_0D/EGR0D/src/egr.py:108: UserWarning: NasaPoly2::validate: \n",
      "For species OH*, discontinuity in h/RT detected at Tmid = 1000\n",
      "\tValue computed using low-temperature polynomial:  53.62056162666667\n",
      "\tValue computed using high-temperature polynomial: 53.5841554314\n",
      "\n",
      "  gas = ct.Solution(scheme)\n",
      "/Users/theot/Documents/SEGR_0D/EGR0D/src/egr.py:108: UserWarning: NasaPoly2::validate: \n",
      "For species CH*, discontinuity in h/RT detected at Tmid = 1000\n",
      "\tValue computed using low-temperature polynomial:  107.5046684\n",
      "\tValue computed using high-temperature polynomial: 107.34847808033334\n",
      "\n",
      "  gas = ct.Solution(scheme)\n"
     ]
    },
    {
     "name": "stdout",
     "output_type": "stream",
     "text": [
      "flame 3.792880005896611e-33\n"
     ]
    },
    {
     "name": "stderr",
     "output_type": "stream",
     "text": [
      "/Users/theot/Documents/SEGR_0D/EGR0D/src/egr.py:188: UserWarning: NasaPoly2::validate: \n",
      "For species OH*, discontinuity in h/RT detected at Tmid = 1000\n",
      "\tValue computed using low-temperature polynomial:  53.62056162666667\n",
      "\tValue computed using high-temperature polynomial: 53.5841554314\n",
      "\n",
      "  gas = ct.Solution(scheme)\n",
      "/Users/theot/Documents/SEGR_0D/EGR0D/src/egr.py:188: UserWarning: NasaPoly2::validate: \n",
      "For species CH*, discontinuity in h/RT detected at Tmid = 1000\n",
      "\tValue computed using low-temperature polynomial:  107.5046684\n",
      "\tValue computed using high-temperature polynomial: 107.34847808033334\n",
      "\n",
      "  gas = ct.Solution(scheme)\n",
      "/Users/theot/Documents/SEGR_0D/EGR0D/src/egr.py:108: UserWarning: NasaPoly2::validate: \n",
      "For species OH*, discontinuity in h/RT detected at Tmid = 1000\n",
      "\tValue computed using low-temperature polynomial:  53.62056162666667\n",
      "\tValue computed using high-temperature polynomial: 53.5841554314\n",
      "\n",
      "  gas = ct.Solution(scheme)\n",
      "/Users/theot/Documents/SEGR_0D/EGR0D/src/egr.py:108: UserWarning: NasaPoly2::validate: \n",
      "For species CH*, discontinuity in h/RT detected at Tmid = 1000\n",
      "\tValue computed using low-temperature polynomial:  107.5046684\n",
      "\tValue computed using high-temperature polynomial: 107.34847808033334\n",
      "\n",
      "  gas = ct.Solution(scheme)\n"
     ]
    },
    {
     "name": "stdout",
     "output_type": "stream",
     "text": [
      "flame 0.0\n"
     ]
    },
    {
     "name": "stderr",
     "output_type": "stream",
     "text": [
      "/Users/theot/Documents/SEGR_0D/EGR0D/src/egr.py:188: UserWarning: NasaPoly2::validate: \n",
      "For species OH*, discontinuity in h/RT detected at Tmid = 1000\n",
      "\tValue computed using low-temperature polynomial:  53.62056162666667\n",
      "\tValue computed using high-temperature polynomial: 53.5841554314\n",
      "\n",
      "  gas = ct.Solution(scheme)\n",
      "/Users/theot/Documents/SEGR_0D/EGR0D/src/egr.py:188: UserWarning: NasaPoly2::validate: \n",
      "For species CH*, discontinuity in h/RT detected at Tmid = 1000\n",
      "\tValue computed using low-temperature polynomial:  107.5046684\n",
      "\tValue computed using high-temperature polynomial: 107.34847808033334\n",
      "\n",
      "  gas = ct.Solution(scheme)\n",
      "/Users/theot/Documents/SEGR_0D/EGR0D/src/egr.py:108: UserWarning: NasaPoly2::validate: \n",
      "For species OH*, discontinuity in h/RT detected at Tmid = 1000\n",
      "\tValue computed using low-temperature polynomial:  53.62056162666667\n",
      "\tValue computed using high-temperature polynomial: 53.5841554314\n",
      "\n",
      "  gas = ct.Solution(scheme)\n",
      "/Users/theot/Documents/SEGR_0D/EGR0D/src/egr.py:108: UserWarning: NasaPoly2::validate: \n",
      "For species CH*, discontinuity in h/RT detected at Tmid = 1000\n",
      "\tValue computed using low-temperature polynomial:  107.5046684\n",
      "\tValue computed using high-temperature polynomial: 107.34847808033334\n",
      "\n",
      "  gas = ct.Solution(scheme)\n"
     ]
    },
    {
     "name": "stdout",
     "output_type": "stream",
     "text": [
      "flame 1.8000698029072547e-31\n"
     ]
    },
    {
     "name": "stderr",
     "output_type": "stream",
     "text": [
      "/Users/theot/Documents/SEGR_0D/EGR0D/src/egr.py:188: UserWarning: NasaPoly2::validate: \n",
      "For species OH*, discontinuity in h/RT detected at Tmid = 1000\n",
      "\tValue computed using low-temperature polynomial:  53.62056162666667\n",
      "\tValue computed using high-temperature polynomial: 53.5841554314\n",
      "\n",
      "  gas = ct.Solution(scheme)\n",
      "/Users/theot/Documents/SEGR_0D/EGR0D/src/egr.py:188: UserWarning: NasaPoly2::validate: \n",
      "For species CH*, discontinuity in h/RT detected at Tmid = 1000\n",
      "\tValue computed using low-temperature polynomial:  107.5046684\n",
      "\tValue computed using high-temperature polynomial: 107.34847808033334\n",
      "\n",
      "  gas = ct.Solution(scheme)\n",
      "/Users/theot/Documents/SEGR_0D/EGR0D/src/egr.py:108: UserWarning: NasaPoly2::validate: \n",
      "For species OH*, discontinuity in h/RT detected at Tmid = 1000\n",
      "\tValue computed using low-temperature polynomial:  53.62056162666667\n",
      "\tValue computed using high-temperature polynomial: 53.5841554314\n",
      "\n",
      "  gas = ct.Solution(scheme)\n",
      "/Users/theot/Documents/SEGR_0D/EGR0D/src/egr.py:108: UserWarning: NasaPoly2::validate: \n",
      "For species CH*, discontinuity in h/RT detected at Tmid = 1000\n",
      "\tValue computed using low-temperature polynomial:  107.5046684\n",
      "\tValue computed using high-temperature polynomial: 107.34847808033334\n",
      "\n",
      "  gas = ct.Solution(scheme)\n"
     ]
    },
    {
     "name": "stdout",
     "output_type": "stream",
     "text": [
      "flame 2.320315584512775e-30\n"
     ]
    },
    {
     "name": "stderr",
     "output_type": "stream",
     "text": [
      "/Users/theot/Documents/SEGR_0D/EGR0D/src/egr.py:188: UserWarning: NasaPoly2::validate: \n",
      "For species OH*, discontinuity in h/RT detected at Tmid = 1000\n",
      "\tValue computed using low-temperature polynomial:  53.62056162666667\n",
      "\tValue computed using high-temperature polynomial: 53.5841554314\n",
      "\n",
      "  gas = ct.Solution(scheme)\n",
      "/Users/theot/Documents/SEGR_0D/EGR0D/src/egr.py:188: UserWarning: NasaPoly2::validate: \n",
      "For species CH*, discontinuity in h/RT detected at Tmid = 1000\n",
      "\tValue computed using low-temperature polynomial:  107.5046684\n",
      "\tValue computed using high-temperature polynomial: 107.34847808033334\n",
      "\n",
      "  gas = ct.Solution(scheme)\n",
      "/Users/theot/Documents/SEGR_0D/EGR0D/src/egr.py:108: UserWarning: NasaPoly2::validate: \n",
      "For species OH*, discontinuity in h/RT detected at Tmid = 1000\n",
      "\tValue computed using low-temperature polynomial:  53.62056162666667\n",
      "\tValue computed using high-temperature polynomial: 53.5841554314\n",
      "\n",
      "  gas = ct.Solution(scheme)\n",
      "/Users/theot/Documents/SEGR_0D/EGR0D/src/egr.py:108: UserWarning: NasaPoly2::validate: \n",
      "For species CH*, discontinuity in h/RT detected at Tmid = 1000\n",
      "\tValue computed using low-temperature polynomial:  107.5046684\n",
      "\tValue computed using high-temperature polynomial: 107.34847808033334\n",
      "\n",
      "  gas = ct.Solution(scheme)\n"
     ]
    },
    {
     "name": "stdout",
     "output_type": "stream",
     "text": [
      "flame 6.448110269918573e-32\n"
     ]
    },
    {
     "name": "stderr",
     "output_type": "stream",
     "text": [
      "/Users/theot/Documents/SEGR_0D/EGR0D/src/egr.py:188: UserWarning: NasaPoly2::validate: \n",
      "For species OH*, discontinuity in h/RT detected at Tmid = 1000\n",
      "\tValue computed using low-temperature polynomial:  53.62056162666667\n",
      "\tValue computed using high-temperature polynomial: 53.5841554314\n",
      "\n",
      "  gas = ct.Solution(scheme)\n",
      "/Users/theot/Documents/SEGR_0D/EGR0D/src/egr.py:188: UserWarning: NasaPoly2::validate: \n",
      "For species CH*, discontinuity in h/RT detected at Tmid = 1000\n",
      "\tValue computed using low-temperature polynomial:  107.5046684\n",
      "\tValue computed using high-temperature polynomial: 107.34847808033334\n",
      "\n",
      "  gas = ct.Solution(scheme)\n",
      "/Users/theot/Documents/SEGR_0D/EGR0D/src/egr.py:108: UserWarning: NasaPoly2::validate: \n",
      "For species OH*, discontinuity in h/RT detected at Tmid = 1000\n",
      "\tValue computed using low-temperature polynomial:  53.62056162666667\n",
      "\tValue computed using high-temperature polynomial: 53.5841554314\n",
      "\n",
      "  gas = ct.Solution(scheme)\n",
      "/Users/theot/Documents/SEGR_0D/EGR0D/src/egr.py:108: UserWarning: NasaPoly2::validate: \n",
      "For species CH*, discontinuity in h/RT detected at Tmid = 1000\n",
      "\tValue computed using low-temperature polynomial:  107.5046684\n",
      "\tValue computed using high-temperature polynomial: 107.34847808033334\n",
      "\n",
      "  gas = ct.Solution(scheme)\n"
     ]
    },
    {
     "name": "stdout",
     "output_type": "stream",
     "text": [
      "flame 0.0\n"
     ]
    },
    {
     "name": "stderr",
     "output_type": "stream",
     "text": [
      "/Users/theot/Documents/SEGR_0D/EGR0D/src/egr.py:188: UserWarning: NasaPoly2::validate: \n",
      "For species OH*, discontinuity in h/RT detected at Tmid = 1000\n",
      "\tValue computed using low-temperature polynomial:  53.62056162666667\n",
      "\tValue computed using high-temperature polynomial: 53.5841554314\n",
      "\n",
      "  gas = ct.Solution(scheme)\n",
      "/Users/theot/Documents/SEGR_0D/EGR0D/src/egr.py:188: UserWarning: NasaPoly2::validate: \n",
      "For species CH*, discontinuity in h/RT detected at Tmid = 1000\n",
      "\tValue computed using low-temperature polynomial:  107.5046684\n",
      "\tValue computed using high-temperature polynomial: 107.34847808033334\n",
      "\n",
      "  gas = ct.Solution(scheme)\n",
      "/Users/theot/Documents/SEGR_0D/EGR0D/src/egr.py:108: UserWarning: NasaPoly2::validate: \n",
      "For species OH*, discontinuity in h/RT detected at Tmid = 1000\n",
      "\tValue computed using low-temperature polynomial:  53.62056162666667\n",
      "\tValue computed using high-temperature polynomial: 53.5841554314\n",
      "\n",
      "  gas = ct.Solution(scheme)\n",
      "/Users/theot/Documents/SEGR_0D/EGR0D/src/egr.py:108: UserWarning: NasaPoly2::validate: \n",
      "For species CH*, discontinuity in h/RT detected at Tmid = 1000\n",
      "\tValue computed using low-temperature polynomial:  107.5046684\n",
      "\tValue computed using high-temperature polynomial: 107.34847808033334\n",
      "\n",
      "  gas = ct.Solution(scheme)\n"
     ]
    },
    {
     "name": "stdout",
     "output_type": "stream",
     "text": [
      "flame 1.3508473528859404e-30\n"
     ]
    },
    {
     "name": "stderr",
     "output_type": "stream",
     "text": [
      "/Users/theot/Documents/SEGR_0D/EGR0D/src/egr.py:188: UserWarning: NasaPoly2::validate: \n",
      "For species OH*, discontinuity in h/RT detected at Tmid = 1000\n",
      "\tValue computed using low-temperature polynomial:  53.62056162666667\n",
      "\tValue computed using high-temperature polynomial: 53.5841554314\n",
      "\n",
      "  gas = ct.Solution(scheme)\n",
      "/Users/theot/Documents/SEGR_0D/EGR0D/src/egr.py:188: UserWarning: NasaPoly2::validate: \n",
      "For species CH*, discontinuity in h/RT detected at Tmid = 1000\n",
      "\tValue computed using low-temperature polynomial:  107.5046684\n",
      "\tValue computed using high-temperature polynomial: 107.34847808033334\n",
      "\n",
      "  gas = ct.Solution(scheme)\n",
      "/Users/theot/Documents/SEGR_0D/EGR0D/src/egr.py:108: UserWarning: NasaPoly2::validate: \n",
      "For species OH*, discontinuity in h/RT detected at Tmid = 1000\n",
      "\tValue computed using low-temperature polynomial:  53.62056162666667\n",
      "\tValue computed using high-temperature polynomial: 53.5841554314\n",
      "\n",
      "  gas = ct.Solution(scheme)\n",
      "/Users/theot/Documents/SEGR_0D/EGR0D/src/egr.py:108: UserWarning: NasaPoly2::validate: \n",
      "For species CH*, discontinuity in h/RT detected at Tmid = 1000\n",
      "\tValue computed using low-temperature polynomial:  107.5046684\n",
      "\tValue computed using high-temperature polynomial: 107.34847808033334\n",
      "\n",
      "  gas = ct.Solution(scheme)\n"
     ]
    },
    {
     "name": "stdout",
     "output_type": "stream",
     "text": [
      "flame 0.0\n"
     ]
    },
    {
     "name": "stderr",
     "output_type": "stream",
     "text": [
      "/Users/theot/Documents/SEGR_0D/EGR0D/src/egr.py:188: UserWarning: NasaPoly2::validate: \n",
      "For species OH*, discontinuity in h/RT detected at Tmid = 1000\n",
      "\tValue computed using low-temperature polynomial:  53.62056162666667\n",
      "\tValue computed using high-temperature polynomial: 53.5841554314\n",
      "\n",
      "  gas = ct.Solution(scheme)\n",
      "/Users/theot/Documents/SEGR_0D/EGR0D/src/egr.py:188: UserWarning: NasaPoly2::validate: \n",
      "For species CH*, discontinuity in h/RT detected at Tmid = 1000\n",
      "\tValue computed using low-temperature polynomial:  107.5046684\n",
      "\tValue computed using high-temperature polynomial: 107.34847808033334\n",
      "\n",
      "  gas = ct.Solution(scheme)\n",
      "/Users/theot/Documents/SEGR_0D/EGR0D/src/egr.py:108: UserWarning: NasaPoly2::validate: \n",
      "For species OH*, discontinuity in h/RT detected at Tmid = 1000\n",
      "\tValue computed using low-temperature polynomial:  53.62056162666667\n",
      "\tValue computed using high-temperature polynomial: 53.5841554314\n",
      "\n",
      "  gas = ct.Solution(scheme)\n",
      "/Users/theot/Documents/SEGR_0D/EGR0D/src/egr.py:108: UserWarning: NasaPoly2::validate: \n",
      "For species CH*, discontinuity in h/RT detected at Tmid = 1000\n",
      "\tValue computed using low-temperature polynomial:  107.5046684\n",
      "\tValue computed using high-temperature polynomial: 107.34847808033334\n",
      "\n",
      "  gas = ct.Solution(scheme)\n"
     ]
    },
    {
     "name": "stdout",
     "output_type": "stream",
     "text": [
      "flame 6.242912592126379e-32\n"
     ]
    },
    {
     "name": "stderr",
     "output_type": "stream",
     "text": [
      "/Users/theot/Documents/SEGR_0D/EGR0D/src/egr.py:188: UserWarning: NasaPoly2::validate: \n",
      "For species OH*, discontinuity in h/RT detected at Tmid = 1000\n",
      "\tValue computed using low-temperature polynomial:  53.62056162666667\n",
      "\tValue computed using high-temperature polynomial: 53.5841554314\n",
      "\n",
      "  gas = ct.Solution(scheme)\n",
      "/Users/theot/Documents/SEGR_0D/EGR0D/src/egr.py:188: UserWarning: NasaPoly2::validate: \n",
      "For species CH*, discontinuity in h/RT detected at Tmid = 1000\n",
      "\tValue computed using low-temperature polynomial:  107.5046684\n",
      "\tValue computed using high-temperature polynomial: 107.34847808033334\n",
      "\n",
      "  gas = ct.Solution(scheme)\n",
      "/Users/theot/Documents/SEGR_0D/EGR0D/src/egr.py:108: UserWarning: NasaPoly2::validate: \n",
      "For species OH*, discontinuity in h/RT detected at Tmid = 1000\n",
      "\tValue computed using low-temperature polynomial:  53.62056162666667\n",
      "\tValue computed using high-temperature polynomial: 53.5841554314\n",
      "\n",
      "  gas = ct.Solution(scheme)\n",
      "/Users/theot/Documents/SEGR_0D/EGR0D/src/egr.py:108: UserWarning: NasaPoly2::validate: \n",
      "For species CH*, discontinuity in h/RT detected at Tmid = 1000\n",
      "\tValue computed using low-temperature polynomial:  107.5046684\n",
      "\tValue computed using high-temperature polynomial: 107.34847808033334\n",
      "\n",
      "  gas = ct.Solution(scheme)\n"
     ]
    },
    {
     "name": "stdout",
     "output_type": "stream",
     "text": [
      "flame 9.150078689326129e-32\n"
     ]
    },
    {
     "name": "stderr",
     "output_type": "stream",
     "text": [
      "/Users/theot/Documents/SEGR_0D/EGR0D/src/egr.py:188: UserWarning: NasaPoly2::validate: \n",
      "For species OH*, discontinuity in h/RT detected at Tmid = 1000\n",
      "\tValue computed using low-temperature polynomial:  53.62056162666667\n",
      "\tValue computed using high-temperature polynomial: 53.5841554314\n",
      "\n",
      "  gas = ct.Solution(scheme)\n",
      "/Users/theot/Documents/SEGR_0D/EGR0D/src/egr.py:188: UserWarning: NasaPoly2::validate: \n",
      "For species CH*, discontinuity in h/RT detected at Tmid = 1000\n",
      "\tValue computed using low-temperature polynomial:  107.5046684\n",
      "\tValue computed using high-temperature polynomial: 107.34847808033334\n",
      "\n",
      "  gas = ct.Solution(scheme)\n",
      "/Users/theot/Documents/SEGR_0D/EGR0D/src/egr.py:108: UserWarning: NasaPoly2::validate: \n",
      "For species OH*, discontinuity in h/RT detected at Tmid = 1000\n",
      "\tValue computed using low-temperature polynomial:  53.62056162666667\n",
      "\tValue computed using high-temperature polynomial: 53.5841554314\n",
      "\n",
      "  gas = ct.Solution(scheme)\n",
      "/Users/theot/Documents/SEGR_0D/EGR0D/src/egr.py:108: UserWarning: NasaPoly2::validate: \n",
      "For species CH*, discontinuity in h/RT detected at Tmid = 1000\n",
      "\tValue computed using low-temperature polynomial:  107.5046684\n",
      "\tValue computed using high-temperature polynomial: 107.34847808033334\n",
      "\n",
      "  gas = ct.Solution(scheme)\n"
     ]
    },
    {
     "name": "stdout",
     "output_type": "stream",
     "text": [
      "flame 7.346389743178324e-32\n"
     ]
    },
    {
     "name": "stderr",
     "output_type": "stream",
     "text": [
      "/Users/theot/Documents/SEGR_0D/EGR0D/src/egr.py:188: UserWarning: NasaPoly2::validate: \n",
      "For species OH*, discontinuity in h/RT detected at Tmid = 1000\n",
      "\tValue computed using low-temperature polynomial:  53.62056162666667\n",
      "\tValue computed using high-temperature polynomial: 53.5841554314\n",
      "\n",
      "  gas = ct.Solution(scheme)\n",
      "/Users/theot/Documents/SEGR_0D/EGR0D/src/egr.py:188: UserWarning: NasaPoly2::validate: \n",
      "For species CH*, discontinuity in h/RT detected at Tmid = 1000\n",
      "\tValue computed using low-temperature polynomial:  107.5046684\n",
      "\tValue computed using high-temperature polynomial: 107.34847808033334\n",
      "\n",
      "  gas = ct.Solution(scheme)\n",
      "/Users/theot/Documents/SEGR_0D/EGR0D/src/egr.py:108: UserWarning: NasaPoly2::validate: \n",
      "For species OH*, discontinuity in h/RT detected at Tmid = 1000\n",
      "\tValue computed using low-temperature polynomial:  53.62056162666667\n",
      "\tValue computed using high-temperature polynomial: 53.5841554314\n",
      "\n",
      "  gas = ct.Solution(scheme)\n",
      "/Users/theot/Documents/SEGR_0D/EGR0D/src/egr.py:108: UserWarning: NasaPoly2::validate: \n",
      "For species CH*, discontinuity in h/RT detected at Tmid = 1000\n",
      "\tValue computed using low-temperature polynomial:  107.5046684\n",
      "\tValue computed using high-temperature polynomial: 107.34847808033334\n",
      "\n",
      "  gas = ct.Solution(scheme)\n"
     ]
    },
    {
     "name": "stdout",
     "output_type": "stream",
     "text": [
      "flame 0.0\n"
     ]
    },
    {
     "name": "stderr",
     "output_type": "stream",
     "text": [
      "/Users/theot/Documents/SEGR_0D/EGR0D/src/egr.py:188: UserWarning: NasaPoly2::validate: \n",
      "For species OH*, discontinuity in h/RT detected at Tmid = 1000\n",
      "\tValue computed using low-temperature polynomial:  53.62056162666667\n",
      "\tValue computed using high-temperature polynomial: 53.5841554314\n",
      "\n",
      "  gas = ct.Solution(scheme)\n",
      "/Users/theot/Documents/SEGR_0D/EGR0D/src/egr.py:188: UserWarning: NasaPoly2::validate: \n",
      "For species CH*, discontinuity in h/RT detected at Tmid = 1000\n",
      "\tValue computed using low-temperature polynomial:  107.5046684\n",
      "\tValue computed using high-temperature polynomial: 107.34847808033334\n",
      "\n",
      "  gas = ct.Solution(scheme)\n",
      "/Users/theot/Documents/SEGR_0D/EGR0D/src/egr.py:108: UserWarning: NasaPoly2::validate: \n",
      "For species OH*, discontinuity in h/RT detected at Tmid = 1000\n",
      "\tValue computed using low-temperature polynomial:  53.62056162666667\n",
      "\tValue computed using high-temperature polynomial: 53.5841554314\n",
      "\n",
      "  gas = ct.Solution(scheme)\n",
      "/Users/theot/Documents/SEGR_0D/EGR0D/src/egr.py:108: UserWarning: NasaPoly2::validate: \n",
      "For species CH*, discontinuity in h/RT detected at Tmid = 1000\n",
      "\tValue computed using low-temperature polynomial:  107.5046684\n",
      "\tValue computed using high-temperature polynomial: 107.34847808033334\n",
      "\n",
      "  gas = ct.Solution(scheme)\n"
     ]
    },
    {
     "name": "stdout",
     "output_type": "stream",
     "text": [
      "flame 1.940987284149799e-28\n"
     ]
    },
    {
     "name": "stderr",
     "output_type": "stream",
     "text": [
      "/Users/theot/Documents/SEGR_0D/EGR0D/src/egr.py:188: UserWarning: NasaPoly2::validate: \n",
      "For species OH*, discontinuity in h/RT detected at Tmid = 1000\n",
      "\tValue computed using low-temperature polynomial:  53.62056162666667\n",
      "\tValue computed using high-temperature polynomial: 53.5841554314\n",
      "\n",
      "  gas = ct.Solution(scheme)\n",
      "/Users/theot/Documents/SEGR_0D/EGR0D/src/egr.py:188: UserWarning: NasaPoly2::validate: \n",
      "For species CH*, discontinuity in h/RT detected at Tmid = 1000\n",
      "\tValue computed using low-temperature polynomial:  107.5046684\n",
      "\tValue computed using high-temperature polynomial: 107.34847808033334\n",
      "\n",
      "  gas = ct.Solution(scheme)\n",
      "/Users/theot/Documents/SEGR_0D/EGR0D/src/egr.py:108: UserWarning: NasaPoly2::validate: \n",
      "For species OH*, discontinuity in h/RT detected at Tmid = 1000\n",
      "\tValue computed using low-temperature polynomial:  53.62056162666667\n",
      "\tValue computed using high-temperature polynomial: 53.5841554314\n",
      "\n",
      "  gas = ct.Solution(scheme)\n",
      "/Users/theot/Documents/SEGR_0D/EGR0D/src/egr.py:108: UserWarning: NasaPoly2::validate: \n",
      "For species CH*, discontinuity in h/RT detected at Tmid = 1000\n",
      "\tValue computed using low-temperature polynomial:  107.5046684\n",
      "\tValue computed using high-temperature polynomial: 107.34847808033334\n",
      "\n",
      "  gas = ct.Solution(scheme)\n"
     ]
    },
    {
     "name": "stdout",
     "output_type": "stream",
     "text": [
      "flame 0.0\n"
     ]
    },
    {
     "name": "stderr",
     "output_type": "stream",
     "text": [
      "/Users/theot/Documents/SEGR_0D/EGR0D/src/egr.py:188: UserWarning: NasaPoly2::validate: \n",
      "For species OH*, discontinuity in h/RT detected at Tmid = 1000\n",
      "\tValue computed using low-temperature polynomial:  53.62056162666667\n",
      "\tValue computed using high-temperature polynomial: 53.5841554314\n",
      "\n",
      "  gas = ct.Solution(scheme)\n",
      "/Users/theot/Documents/SEGR_0D/EGR0D/src/egr.py:188: UserWarning: NasaPoly2::validate: \n",
      "For species CH*, discontinuity in h/RT detected at Tmid = 1000\n",
      "\tValue computed using low-temperature polynomial:  107.5046684\n",
      "\tValue computed using high-temperature polynomial: 107.34847808033334\n",
      "\n",
      "  gas = ct.Solution(scheme)\n",
      "/Users/theot/Documents/SEGR_0D/EGR0D/src/egr.py:108: UserWarning: NasaPoly2::validate: \n",
      "For species OH*, discontinuity in h/RT detected at Tmid = 1000\n",
      "\tValue computed using low-temperature polynomial:  53.62056162666667\n",
      "\tValue computed using high-temperature polynomial: 53.5841554314\n",
      "\n",
      "  gas = ct.Solution(scheme)\n",
      "/Users/theot/Documents/SEGR_0D/EGR0D/src/egr.py:108: UserWarning: NasaPoly2::validate: \n",
      "For species CH*, discontinuity in h/RT detected at Tmid = 1000\n",
      "\tValue computed using low-temperature polynomial:  107.5046684\n",
      "\tValue computed using high-temperature polynomial: 107.34847808033334\n",
      "\n",
      "  gas = ct.Solution(scheme)\n"
     ]
    },
    {
     "name": "stdout",
     "output_type": "stream",
     "text": [
      "flame 5.264232126879273e-30\n"
     ]
    },
    {
     "name": "stderr",
     "output_type": "stream",
     "text": [
      "/Users/theot/Documents/SEGR_0D/EGR0D/src/egr.py:188: UserWarning: NasaPoly2::validate: \n",
      "For species OH*, discontinuity in h/RT detected at Tmid = 1000\n",
      "\tValue computed using low-temperature polynomial:  53.62056162666667\n",
      "\tValue computed using high-temperature polynomial: 53.5841554314\n",
      "\n",
      "  gas = ct.Solution(scheme)\n",
      "/Users/theot/Documents/SEGR_0D/EGR0D/src/egr.py:188: UserWarning: NasaPoly2::validate: \n",
      "For species CH*, discontinuity in h/RT detected at Tmid = 1000\n",
      "\tValue computed using low-temperature polynomial:  107.5046684\n",
      "\tValue computed using high-temperature polynomial: 107.34847808033334\n",
      "\n",
      "  gas = ct.Solution(scheme)\n",
      "/Users/theot/Documents/SEGR_0D/EGR0D/src/egr.py:108: UserWarning: NasaPoly2::validate: \n",
      "For species OH*, discontinuity in h/RT detected at Tmid = 1000\n",
      "\tValue computed using low-temperature polynomial:  53.62056162666667\n",
      "\tValue computed using high-temperature polynomial: 53.5841554314\n",
      "\n",
      "  gas = ct.Solution(scheme)\n",
      "/Users/theot/Documents/SEGR_0D/EGR0D/src/egr.py:108: UserWarning: NasaPoly2::validate: \n",
      "For species CH*, discontinuity in h/RT detected at Tmid = 1000\n",
      "\tValue computed using low-temperature polynomial:  107.5046684\n",
      "\tValue computed using high-temperature polynomial: 107.34847808033334\n",
      "\n",
      "  gas = ct.Solution(scheme)\n"
     ]
    },
    {
     "name": "stdout",
     "output_type": "stream",
     "text": [
      "flame 0.0\n"
     ]
    },
    {
     "name": "stderr",
     "output_type": "stream",
     "text": [
      "/Users/theot/Documents/SEGR_0D/EGR0D/src/egr.py:188: UserWarning: NasaPoly2::validate: \n",
      "For species OH*, discontinuity in h/RT detected at Tmid = 1000\n",
      "\tValue computed using low-temperature polynomial:  53.62056162666667\n",
      "\tValue computed using high-temperature polynomial: 53.5841554314\n",
      "\n",
      "  gas = ct.Solution(scheme)\n",
      "/Users/theot/Documents/SEGR_0D/EGR0D/src/egr.py:188: UserWarning: NasaPoly2::validate: \n",
      "For species CH*, discontinuity in h/RT detected at Tmid = 1000\n",
      "\tValue computed using low-temperature polynomial:  107.5046684\n",
      "\tValue computed using high-temperature polynomial: 107.34847808033334\n",
      "\n",
      "  gas = ct.Solution(scheme)\n",
      "/Users/theot/Documents/SEGR_0D/EGR0D/src/egr.py:108: UserWarning: NasaPoly2::validate: \n",
      "For species OH*, discontinuity in h/RT detected at Tmid = 1000\n",
      "\tValue computed using low-temperature polynomial:  53.62056162666667\n",
      "\tValue computed using high-temperature polynomial: 53.5841554314\n",
      "\n",
      "  gas = ct.Solution(scheme)\n",
      "/Users/theot/Documents/SEGR_0D/EGR0D/src/egr.py:108: UserWarning: NasaPoly2::validate: \n",
      "For species CH*, discontinuity in h/RT detected at Tmid = 1000\n",
      "\tValue computed using low-temperature polynomial:  107.5046684\n",
      "\tValue computed using high-temperature polynomial: 107.34847808033334\n",
      "\n",
      "  gas = ct.Solution(scheme)\n"
     ]
    },
    {
     "name": "stdout",
     "output_type": "stream",
     "text": [
      "flame 0.0\n"
     ]
    },
    {
     "name": "stderr",
     "output_type": "stream",
     "text": [
      "/Users/theot/Documents/SEGR_0D/EGR0D/src/egr.py:188: UserWarning: NasaPoly2::validate: \n",
      "For species OH*, discontinuity in h/RT detected at Tmid = 1000\n",
      "\tValue computed using low-temperature polynomial:  53.62056162666667\n",
      "\tValue computed using high-temperature polynomial: 53.5841554314\n",
      "\n",
      "  gas = ct.Solution(scheme)\n",
      "/Users/theot/Documents/SEGR_0D/EGR0D/src/egr.py:188: UserWarning: NasaPoly2::validate: \n",
      "For species CH*, discontinuity in h/RT detected at Tmid = 1000\n",
      "\tValue computed using low-temperature polynomial:  107.5046684\n",
      "\tValue computed using high-temperature polynomial: 107.34847808033334\n",
      "\n",
      "  gas = ct.Solution(scheme)\n",
      "/Users/theot/Documents/SEGR_0D/EGR0D/src/egr.py:108: UserWarning: NasaPoly2::validate: \n",
      "For species OH*, discontinuity in h/RT detected at Tmid = 1000\n",
      "\tValue computed using low-temperature polynomial:  53.62056162666667\n",
      "\tValue computed using high-temperature polynomial: 53.5841554314\n",
      "\n",
      "  gas = ct.Solution(scheme)\n",
      "/Users/theot/Documents/SEGR_0D/EGR0D/src/egr.py:108: UserWarning: NasaPoly2::validate: \n",
      "For species CH*, discontinuity in h/RT detected at Tmid = 1000\n",
      "\tValue computed using low-temperature polynomial:  107.5046684\n",
      "\tValue computed using high-temperature polynomial: 107.34847808033334\n",
      "\n",
      "  gas = ct.Solution(scheme)\n"
     ]
    },
    {
     "name": "stdout",
     "output_type": "stream",
     "text": [
      "flame 0.0\n"
     ]
    },
    {
     "name": "stderr",
     "output_type": "stream",
     "text": [
      "/Users/theot/Documents/SEGR_0D/EGR0D/src/egr.py:188: UserWarning: NasaPoly2::validate: \n",
      "For species OH*, discontinuity in h/RT detected at Tmid = 1000\n",
      "\tValue computed using low-temperature polynomial:  53.62056162666667\n",
      "\tValue computed using high-temperature polynomial: 53.5841554314\n",
      "\n",
      "  gas = ct.Solution(scheme)\n",
      "/Users/theot/Documents/SEGR_0D/EGR0D/src/egr.py:188: UserWarning: NasaPoly2::validate: \n",
      "For species CH*, discontinuity in h/RT detected at Tmid = 1000\n",
      "\tValue computed using low-temperature polynomial:  107.5046684\n",
      "\tValue computed using high-temperature polynomial: 107.34847808033334\n",
      "\n",
      "  gas = ct.Solution(scheme)\n",
      "/Users/theot/Documents/SEGR_0D/EGR0D/src/egr.py:108: UserWarning: NasaPoly2::validate: \n",
      "For species OH*, discontinuity in h/RT detected at Tmid = 1000\n",
      "\tValue computed using low-temperature polynomial:  53.62056162666667\n",
      "\tValue computed using high-temperature polynomial: 53.5841554314\n",
      "\n",
      "  gas = ct.Solution(scheme)\n",
      "/Users/theot/Documents/SEGR_0D/EGR0D/src/egr.py:108: UserWarning: NasaPoly2::validate: \n",
      "For species CH*, discontinuity in h/RT detected at Tmid = 1000\n",
      "\tValue computed using low-temperature polynomial:  107.5046684\n",
      "\tValue computed using high-temperature polynomial: 107.34847808033334\n",
      "\n",
      "  gas = ct.Solution(scheme)\n"
     ]
    },
    {
     "name": "stdout",
     "output_type": "stream",
     "text": [
      "flame 4.0185265715804385e-28\n"
     ]
    },
    {
     "name": "stderr",
     "output_type": "stream",
     "text": [
      "/Users/theot/Documents/SEGR_0D/EGR0D/src/egr.py:188: UserWarning: NasaPoly2::validate: \n",
      "For species OH*, discontinuity in h/RT detected at Tmid = 1000\n",
      "\tValue computed using low-temperature polynomial:  53.62056162666667\n",
      "\tValue computed using high-temperature polynomial: 53.5841554314\n",
      "\n",
      "  gas = ct.Solution(scheme)\n",
      "/Users/theot/Documents/SEGR_0D/EGR0D/src/egr.py:188: UserWarning: NasaPoly2::validate: \n",
      "For species CH*, discontinuity in h/RT detected at Tmid = 1000\n",
      "\tValue computed using low-temperature polynomial:  107.5046684\n",
      "\tValue computed using high-temperature polynomial: 107.34847808033334\n",
      "\n",
      "  gas = ct.Solution(scheme)\n",
      "/Users/theot/Documents/SEGR_0D/EGR0D/src/egr.py:108: UserWarning: NasaPoly2::validate: \n",
      "For species OH*, discontinuity in h/RT detected at Tmid = 1000\n",
      "\tValue computed using low-temperature polynomial:  53.62056162666667\n",
      "\tValue computed using high-temperature polynomial: 53.5841554314\n",
      "\n",
      "  gas = ct.Solution(scheme)\n",
      "/Users/theot/Documents/SEGR_0D/EGR0D/src/egr.py:108: UserWarning: NasaPoly2::validate: \n",
      "For species CH*, discontinuity in h/RT detected at Tmid = 1000\n",
      "\tValue computed using low-temperature polynomial:  107.5046684\n",
      "\tValue computed using high-temperature polynomial: 107.34847808033334\n",
      "\n",
      "  gas = ct.Solution(scheme)\n"
     ]
    },
    {
     "name": "stdout",
     "output_type": "stream",
     "text": [
      "flame 0.0\n"
     ]
    },
    {
     "name": "stderr",
     "output_type": "stream",
     "text": [
      "/Users/theot/Documents/SEGR_0D/EGR0D/src/egr.py:188: UserWarning: NasaPoly2::validate: \n",
      "For species OH*, discontinuity in h/RT detected at Tmid = 1000\n",
      "\tValue computed using low-temperature polynomial:  53.62056162666667\n",
      "\tValue computed using high-temperature polynomial: 53.5841554314\n",
      "\n",
      "  gas = ct.Solution(scheme)\n",
      "/Users/theot/Documents/SEGR_0D/EGR0D/src/egr.py:188: UserWarning: NasaPoly2::validate: \n",
      "For species CH*, discontinuity in h/RT detected at Tmid = 1000\n",
      "\tValue computed using low-temperature polynomial:  107.5046684\n",
      "\tValue computed using high-temperature polynomial: 107.34847808033334\n",
      "\n",
      "  gas = ct.Solution(scheme)\n",
      "/Users/theot/Documents/SEGR_0D/EGR0D/src/egr.py:108: UserWarning: NasaPoly2::validate: \n",
      "For species OH*, discontinuity in h/RT detected at Tmid = 1000\n",
      "\tValue computed using low-temperature polynomial:  53.62056162666667\n",
      "\tValue computed using high-temperature polynomial: 53.5841554314\n",
      "\n",
      "  gas = ct.Solution(scheme)\n",
      "/Users/theot/Documents/SEGR_0D/EGR0D/src/egr.py:108: UserWarning: NasaPoly2::validate: \n",
      "For species CH*, discontinuity in h/RT detected at Tmid = 1000\n",
      "\tValue computed using low-temperature polynomial:  107.5046684\n",
      "\tValue computed using high-temperature polynomial: 107.34847808033334\n",
      "\n",
      "  gas = ct.Solution(scheme)\n"
     ]
    },
    {
     "name": "stdout",
     "output_type": "stream",
     "text": [
      "flame 0.0\n"
     ]
    },
    {
     "name": "stderr",
     "output_type": "stream",
     "text": [
      "/Users/theot/Documents/SEGR_0D/EGR0D/src/egr.py:188: UserWarning: NasaPoly2::validate: \n",
      "For species OH*, discontinuity in h/RT detected at Tmid = 1000\n",
      "\tValue computed using low-temperature polynomial:  53.62056162666667\n",
      "\tValue computed using high-temperature polynomial: 53.5841554314\n",
      "\n",
      "  gas = ct.Solution(scheme)\n",
      "/Users/theot/Documents/SEGR_0D/EGR0D/src/egr.py:188: UserWarning: NasaPoly2::validate: \n",
      "For species CH*, discontinuity in h/RT detected at Tmid = 1000\n",
      "\tValue computed using low-temperature polynomial:  107.5046684\n",
      "\tValue computed using high-temperature polynomial: 107.34847808033334\n",
      "\n",
      "  gas = ct.Solution(scheme)\n",
      "/Users/theot/Documents/SEGR_0D/EGR0D/src/egr.py:108: UserWarning: NasaPoly2::validate: \n",
      "For species OH*, discontinuity in h/RT detected at Tmid = 1000\n",
      "\tValue computed using low-temperature polynomial:  53.62056162666667\n",
      "\tValue computed using high-temperature polynomial: 53.5841554314\n",
      "\n",
      "  gas = ct.Solution(scheme)\n",
      "/Users/theot/Documents/SEGR_0D/EGR0D/src/egr.py:108: UserWarning: NasaPoly2::validate: \n",
      "For species CH*, discontinuity in h/RT detected at Tmid = 1000\n",
      "\tValue computed using low-temperature polynomial:  107.5046684\n",
      "\tValue computed using high-temperature polynomial: 107.34847808033334\n",
      "\n",
      "  gas = ct.Solution(scheme)\n"
     ]
    },
    {
     "name": "stdout",
     "output_type": "stream",
     "text": [
      "flame 2.376764462663812e-31\n"
     ]
    },
    {
     "name": "stderr",
     "output_type": "stream",
     "text": [
      "/Users/theot/Documents/SEGR_0D/EGR0D/src/egr.py:188: UserWarning: NasaPoly2::validate: \n",
      "For species OH*, discontinuity in h/RT detected at Tmid = 1000\n",
      "\tValue computed using low-temperature polynomial:  53.62056162666667\n",
      "\tValue computed using high-temperature polynomial: 53.5841554314\n",
      "\n",
      "  gas = ct.Solution(scheme)\n",
      "/Users/theot/Documents/SEGR_0D/EGR0D/src/egr.py:188: UserWarning: NasaPoly2::validate: \n",
      "For species CH*, discontinuity in h/RT detected at Tmid = 1000\n",
      "\tValue computed using low-temperature polynomial:  107.5046684\n",
      "\tValue computed using high-temperature polynomial: 107.34847808033334\n",
      "\n",
      "  gas = ct.Solution(scheme)\n",
      "/Users/theot/Documents/SEGR_0D/EGR0D/src/egr.py:108: UserWarning: NasaPoly2::validate: \n",
      "For species OH*, discontinuity in h/RT detected at Tmid = 1000\n",
      "\tValue computed using low-temperature polynomial:  53.62056162666667\n",
      "\tValue computed using high-temperature polynomial: 53.5841554314\n",
      "\n",
      "  gas = ct.Solution(scheme)\n",
      "/Users/theot/Documents/SEGR_0D/EGR0D/src/egr.py:108: UserWarning: NasaPoly2::validate: \n",
      "For species CH*, discontinuity in h/RT detected at Tmid = 1000\n",
      "\tValue computed using low-temperature polynomial:  107.5046684\n",
      "\tValue computed using high-temperature polynomial: 107.34847808033334\n",
      "\n",
      "  gas = ct.Solution(scheme)\n"
     ]
    },
    {
     "name": "stdout",
     "output_type": "stream",
     "text": [
      "flame 0.0\n"
     ]
    },
    {
     "name": "stderr",
     "output_type": "stream",
     "text": [
      "/Users/theot/Documents/SEGR_0D/EGR0D/src/egr.py:188: UserWarning: NasaPoly2::validate: \n",
      "For species OH*, discontinuity in h/RT detected at Tmid = 1000\n",
      "\tValue computed using low-temperature polynomial:  53.62056162666667\n",
      "\tValue computed using high-temperature polynomial: 53.5841554314\n",
      "\n",
      "  gas = ct.Solution(scheme)\n",
      "/Users/theot/Documents/SEGR_0D/EGR0D/src/egr.py:188: UserWarning: NasaPoly2::validate: \n",
      "For species CH*, discontinuity in h/RT detected at Tmid = 1000\n",
      "\tValue computed using low-temperature polynomial:  107.5046684\n",
      "\tValue computed using high-temperature polynomial: 107.34847808033334\n",
      "\n",
      "  gas = ct.Solution(scheme)\n",
      "/Users/theot/Documents/SEGR_0D/EGR0D/src/egr.py:108: UserWarning: NasaPoly2::validate: \n",
      "For species OH*, discontinuity in h/RT detected at Tmid = 1000\n",
      "\tValue computed using low-temperature polynomial:  53.62056162666667\n",
      "\tValue computed using high-temperature polynomial: 53.5841554314\n",
      "\n",
      "  gas = ct.Solution(scheme)\n",
      "/Users/theot/Documents/SEGR_0D/EGR0D/src/egr.py:108: UserWarning: NasaPoly2::validate: \n",
      "For species CH*, discontinuity in h/RT detected at Tmid = 1000\n",
      "\tValue computed using low-temperature polynomial:  107.5046684\n",
      "\tValue computed using high-temperature polynomial: 107.34847808033334\n",
      "\n",
      "  gas = ct.Solution(scheme)\n"
     ]
    },
    {
     "name": "stdout",
     "output_type": "stream",
     "text": [
      "flame 1.7551920815402673e-30\n"
     ]
    },
    {
     "name": "stderr",
     "output_type": "stream",
     "text": [
      "/Users/theot/Documents/SEGR_0D/EGR0D/src/egr.py:188: UserWarning: NasaPoly2::validate: \n",
      "For species OH*, discontinuity in h/RT detected at Tmid = 1000\n",
      "\tValue computed using low-temperature polynomial:  53.62056162666667\n",
      "\tValue computed using high-temperature polynomial: 53.5841554314\n",
      "\n",
      "  gas = ct.Solution(scheme)\n",
      "/Users/theot/Documents/SEGR_0D/EGR0D/src/egr.py:188: UserWarning: NasaPoly2::validate: \n",
      "For species CH*, discontinuity in h/RT detected at Tmid = 1000\n",
      "\tValue computed using low-temperature polynomial:  107.5046684\n",
      "\tValue computed using high-temperature polynomial: 107.34847808033334\n",
      "\n",
      "  gas = ct.Solution(scheme)\n",
      "/Users/theot/Documents/SEGR_0D/EGR0D/src/egr.py:108: UserWarning: NasaPoly2::validate: \n",
      "For species OH*, discontinuity in h/RT detected at Tmid = 1000\n",
      "\tValue computed using low-temperature polynomial:  53.62056162666667\n",
      "\tValue computed using high-temperature polynomial: 53.5841554314\n",
      "\n",
      "  gas = ct.Solution(scheme)\n",
      "/Users/theot/Documents/SEGR_0D/EGR0D/src/egr.py:108: UserWarning: NasaPoly2::validate: \n",
      "For species CH*, discontinuity in h/RT detected at Tmid = 1000\n",
      "\tValue computed using low-temperature polynomial:  107.5046684\n",
      "\tValue computed using high-temperature polynomial: 107.34847808033334\n",
      "\n",
      "  gas = ct.Solution(scheme)\n"
     ]
    },
    {
     "name": "stdout",
     "output_type": "stream",
     "text": [
      "flame 2.35639877597393e-25\n"
     ]
    },
    {
     "name": "stderr",
     "output_type": "stream",
     "text": [
      "/Users/theot/Documents/SEGR_0D/EGR0D/src/egr.py:188: UserWarning: NasaPoly2::validate: \n",
      "For species OH*, discontinuity in h/RT detected at Tmid = 1000\n",
      "\tValue computed using low-temperature polynomial:  53.62056162666667\n",
      "\tValue computed using high-temperature polynomial: 53.5841554314\n",
      "\n",
      "  gas = ct.Solution(scheme)\n",
      "/Users/theot/Documents/SEGR_0D/EGR0D/src/egr.py:188: UserWarning: NasaPoly2::validate: \n",
      "For species CH*, discontinuity in h/RT detected at Tmid = 1000\n",
      "\tValue computed using low-temperature polynomial:  107.5046684\n",
      "\tValue computed using high-temperature polynomial: 107.34847808033334\n",
      "\n",
      "  gas = ct.Solution(scheme)\n",
      "/Users/theot/Documents/SEGR_0D/EGR0D/src/egr.py:108: UserWarning: NasaPoly2::validate: \n",
      "For species OH*, discontinuity in h/RT detected at Tmid = 1000\n",
      "\tValue computed using low-temperature polynomial:  53.62056162666667\n",
      "\tValue computed using high-temperature polynomial: 53.5841554314\n",
      "\n",
      "  gas = ct.Solution(scheme)\n",
      "/Users/theot/Documents/SEGR_0D/EGR0D/src/egr.py:108: UserWarning: NasaPoly2::validate: \n",
      "For species CH*, discontinuity in h/RT detected at Tmid = 1000\n",
      "\tValue computed using low-temperature polynomial:  107.5046684\n",
      "\tValue computed using high-temperature polynomial: 107.34847808033334\n",
      "\n",
      "  gas = ct.Solution(scheme)\n"
     ]
    },
    {
     "name": "stdout",
     "output_type": "stream",
     "text": [
      "flame 2.57866267855198e-25\n"
     ]
    },
    {
     "name": "stderr",
     "output_type": "stream",
     "text": [
      "/Users/theot/Documents/SEGR_0D/EGR0D/src/egr.py:188: UserWarning: NasaPoly2::validate: \n",
      "For species OH*, discontinuity in h/RT detected at Tmid = 1000\n",
      "\tValue computed using low-temperature polynomial:  53.62056162666667\n",
      "\tValue computed using high-temperature polynomial: 53.5841554314\n",
      "\n",
      "  gas = ct.Solution(scheme)\n",
      "/Users/theot/Documents/SEGR_0D/EGR0D/src/egr.py:188: UserWarning: NasaPoly2::validate: \n",
      "For species CH*, discontinuity in h/RT detected at Tmid = 1000\n",
      "\tValue computed using low-temperature polynomial:  107.5046684\n",
      "\tValue computed using high-temperature polynomial: 107.34847808033334\n",
      "\n",
      "  gas = ct.Solution(scheme)\n",
      "/Users/theot/Documents/SEGR_0D/EGR0D/src/egr.py:108: UserWarning: NasaPoly2::validate: \n",
      "For species OH*, discontinuity in h/RT detected at Tmid = 1000\n",
      "\tValue computed using low-temperature polynomial:  53.62056162666667\n",
      "\tValue computed using high-temperature polynomial: 53.5841554314\n",
      "\n",
      "  gas = ct.Solution(scheme)\n",
      "/Users/theot/Documents/SEGR_0D/EGR0D/src/egr.py:108: UserWarning: NasaPoly2::validate: \n",
      "For species CH*, discontinuity in h/RT detected at Tmid = 1000\n",
      "\tValue computed using low-temperature polynomial:  107.5046684\n",
      "\tValue computed using high-temperature polynomial: 107.34847808033334\n",
      "\n",
      "  gas = ct.Solution(scheme)\n"
     ]
    },
    {
     "name": "stdout",
     "output_type": "stream",
     "text": [
      "flame 2.800477306357334e-25\n"
     ]
    },
    {
     "name": "stderr",
     "output_type": "stream",
     "text": [
      "/Users/theot/Documents/SEGR_0D/EGR0D/src/egr.py:188: UserWarning: NasaPoly2::validate: \n",
      "For species OH*, discontinuity in h/RT detected at Tmid = 1000\n",
      "\tValue computed using low-temperature polynomial:  53.62056162666667\n",
      "\tValue computed using high-temperature polynomial: 53.5841554314\n",
      "\n",
      "  gas = ct.Solution(scheme)\n",
      "/Users/theot/Documents/SEGR_0D/EGR0D/src/egr.py:188: UserWarning: NasaPoly2::validate: \n",
      "For species CH*, discontinuity in h/RT detected at Tmid = 1000\n",
      "\tValue computed using low-temperature polynomial:  107.5046684\n",
      "\tValue computed using high-temperature polynomial: 107.34847808033334\n",
      "\n",
      "  gas = ct.Solution(scheme)\n",
      "/Users/theot/Documents/SEGR_0D/EGR0D/src/egr.py:108: UserWarning: NasaPoly2::validate: \n",
      "For species OH*, discontinuity in h/RT detected at Tmid = 1000\n",
      "\tValue computed using low-temperature polynomial:  53.62056162666667\n",
      "\tValue computed using high-temperature polynomial: 53.5841554314\n",
      "\n",
      "  gas = ct.Solution(scheme)\n",
      "/Users/theot/Documents/SEGR_0D/EGR0D/src/egr.py:108: UserWarning: NasaPoly2::validate: \n",
      "For species CH*, discontinuity in h/RT detected at Tmid = 1000\n",
      "\tValue computed using low-temperature polynomial:  107.5046684\n",
      "\tValue computed using high-temperature polynomial: 107.34847808033334\n",
      "\n",
      "  gas = ct.Solution(scheme)\n"
     ]
    },
    {
     "name": "stdout",
     "output_type": "stream",
     "text": [
      "flame 3.0182567133716956e-25\n"
     ]
    },
    {
     "name": "stderr",
     "output_type": "stream",
     "text": [
      "/Users/theot/Documents/SEGR_0D/EGR0D/src/egr.py:188: UserWarning: NasaPoly2::validate: \n",
      "For species OH*, discontinuity in h/RT detected at Tmid = 1000\n",
      "\tValue computed using low-temperature polynomial:  53.62056162666667\n",
      "\tValue computed using high-temperature polynomial: 53.5841554314\n",
      "\n",
      "  gas = ct.Solution(scheme)\n",
      "/Users/theot/Documents/SEGR_0D/EGR0D/src/egr.py:188: UserWarning: NasaPoly2::validate: \n",
      "For species CH*, discontinuity in h/RT detected at Tmid = 1000\n",
      "\tValue computed using low-temperature polynomial:  107.5046684\n",
      "\tValue computed using high-temperature polynomial: 107.34847808033334\n",
      "\n",
      "  gas = ct.Solution(scheme)\n",
      "/Users/theot/Documents/SEGR_0D/EGR0D/src/egr.py:108: UserWarning: NasaPoly2::validate: \n",
      "For species OH*, discontinuity in h/RT detected at Tmid = 1000\n",
      "\tValue computed using low-temperature polynomial:  53.62056162666667\n",
      "\tValue computed using high-temperature polynomial: 53.5841554314\n",
      "\n",
      "  gas = ct.Solution(scheme)\n",
      "/Users/theot/Documents/SEGR_0D/EGR0D/src/egr.py:108: UserWarning: NasaPoly2::validate: \n",
      "For species CH*, discontinuity in h/RT detected at Tmid = 1000\n",
      "\tValue computed using low-temperature polynomial:  107.5046684\n",
      "\tValue computed using high-temperature polynomial: 107.34847808033334\n",
      "\n",
      "  gas = ct.Solution(scheme)\n"
     ]
    },
    {
     "name": "stdout",
     "output_type": "stream",
     "text": [
      "flame 3.2326917094642986e-25\n"
     ]
    },
    {
     "name": "stderr",
     "output_type": "stream",
     "text": [
      "/Users/theot/Documents/SEGR_0D/EGR0D/src/egr.py:188: UserWarning: NasaPoly2::validate: \n",
      "For species OH*, discontinuity in h/RT detected at Tmid = 1000\n",
      "\tValue computed using low-temperature polynomial:  53.62056162666667\n",
      "\tValue computed using high-temperature polynomial: 53.5841554314\n",
      "\n",
      "  gas = ct.Solution(scheme)\n",
      "/Users/theot/Documents/SEGR_0D/EGR0D/src/egr.py:188: UserWarning: NasaPoly2::validate: \n",
      "For species CH*, discontinuity in h/RT detected at Tmid = 1000\n",
      "\tValue computed using low-temperature polynomial:  107.5046684\n",
      "\tValue computed using high-temperature polynomial: 107.34847808033334\n",
      "\n",
      "  gas = ct.Solution(scheme)\n",
      "/Users/theot/Documents/SEGR_0D/EGR0D/src/egr.py:108: UserWarning: NasaPoly2::validate: \n",
      "For species OH*, discontinuity in h/RT detected at Tmid = 1000\n",
      "\tValue computed using low-temperature polynomial:  53.62056162666667\n",
      "\tValue computed using high-temperature polynomial: 53.5841554314\n",
      "\n",
      "  gas = ct.Solution(scheme)\n",
      "/Users/theot/Documents/SEGR_0D/EGR0D/src/egr.py:108: UserWarning: NasaPoly2::validate: \n",
      "For species CH*, discontinuity in h/RT detected at Tmid = 1000\n",
      "\tValue computed using low-temperature polynomial:  107.5046684\n",
      "\tValue computed using high-temperature polynomial: 107.34847808033334\n",
      "\n",
      "  gas = ct.Solution(scheme)\n"
     ]
    },
    {
     "name": "stdout",
     "output_type": "stream",
     "text": [
      "flame 3.4424279137962137e-25\n"
     ]
    },
    {
     "name": "stderr",
     "output_type": "stream",
     "text": [
      "/Users/theot/Documents/SEGR_0D/EGR0D/src/egr.py:188: UserWarning: NasaPoly2::validate: \n",
      "For species OH*, discontinuity in h/RT detected at Tmid = 1000\n",
      "\tValue computed using low-temperature polynomial:  53.62056162666667\n",
      "\tValue computed using high-temperature polynomial: 53.5841554314\n",
      "\n",
      "  gas = ct.Solution(scheme)\n",
      "/Users/theot/Documents/SEGR_0D/EGR0D/src/egr.py:188: UserWarning: NasaPoly2::validate: \n",
      "For species CH*, discontinuity in h/RT detected at Tmid = 1000\n",
      "\tValue computed using low-temperature polynomial:  107.5046684\n",
      "\tValue computed using high-temperature polynomial: 107.34847808033334\n",
      "\n",
      "  gas = ct.Solution(scheme)\n",
      "/Users/theot/Documents/SEGR_0D/EGR0D/src/egr.py:108: UserWarning: NasaPoly2::validate: \n",
      "For species OH*, discontinuity in h/RT detected at Tmid = 1000\n",
      "\tValue computed using low-temperature polynomial:  53.62056162666667\n",
      "\tValue computed using high-temperature polynomial: 53.5841554314\n",
      "\n",
      "  gas = ct.Solution(scheme)\n",
      "/Users/theot/Documents/SEGR_0D/EGR0D/src/egr.py:108: UserWarning: NasaPoly2::validate: \n",
      "For species CH*, discontinuity in h/RT detected at Tmid = 1000\n",
      "\tValue computed using low-temperature polynomial:  107.5046684\n",
      "\tValue computed using high-temperature polynomial: 107.34847808033334\n",
      "\n",
      "  gas = ct.Solution(scheme)\n"
     ]
    },
    {
     "name": "stdout",
     "output_type": "stream",
     "text": [
      "flame 3.647567437809196e-25\n"
     ]
    },
    {
     "name": "stderr",
     "output_type": "stream",
     "text": [
      "/Users/theot/Documents/SEGR_0D/EGR0D/src/egr.py:188: UserWarning: NasaPoly2::validate: \n",
      "For species OH*, discontinuity in h/RT detected at Tmid = 1000\n",
      "\tValue computed using low-temperature polynomial:  53.62056162666667\n",
      "\tValue computed using high-temperature polynomial: 53.5841554314\n",
      "\n",
      "  gas = ct.Solution(scheme)\n",
      "/Users/theot/Documents/SEGR_0D/EGR0D/src/egr.py:188: UserWarning: NasaPoly2::validate: \n",
      "For species CH*, discontinuity in h/RT detected at Tmid = 1000\n",
      "\tValue computed using low-temperature polynomial:  107.5046684\n",
      "\tValue computed using high-temperature polynomial: 107.34847808033334\n",
      "\n",
      "  gas = ct.Solution(scheme)\n",
      "/Users/theot/Documents/SEGR_0D/EGR0D/src/egr.py:108: UserWarning: NasaPoly2::validate: \n",
      "For species OH*, discontinuity in h/RT detected at Tmid = 1000\n",
      "\tValue computed using low-temperature polynomial:  53.62056162666667\n",
      "\tValue computed using high-temperature polynomial: 53.5841554314\n",
      "\n",
      "  gas = ct.Solution(scheme)\n",
      "/Users/theot/Documents/SEGR_0D/EGR0D/src/egr.py:108: UserWarning: NasaPoly2::validate: \n",
      "For species CH*, discontinuity in h/RT detected at Tmid = 1000\n",
      "\tValue computed using low-temperature polynomial:  107.5046684\n",
      "\tValue computed using high-temperature polynomial: 107.34847808033334\n",
      "\n",
      "  gas = ct.Solution(scheme)\n"
     ]
    },
    {
     "name": "stdout",
     "output_type": "stream",
     "text": [
      "flame 3.8480208291291843e-25\n"
     ]
    },
    {
     "name": "stderr",
     "output_type": "stream",
     "text": [
      "/Users/theot/Documents/SEGR_0D/EGR0D/src/egr.py:188: UserWarning: NasaPoly2::validate: \n",
      "For species OH*, discontinuity in h/RT detected at Tmid = 1000\n",
      "\tValue computed using low-temperature polynomial:  53.62056162666667\n",
      "\tValue computed using high-temperature polynomial: 53.5841554314\n",
      "\n",
      "  gas = ct.Solution(scheme)\n",
      "/Users/theot/Documents/SEGR_0D/EGR0D/src/egr.py:188: UserWarning: NasaPoly2::validate: \n",
      "For species CH*, discontinuity in h/RT detected at Tmid = 1000\n",
      "\tValue computed using low-temperature polynomial:  107.5046684\n",
      "\tValue computed using high-temperature polynomial: 107.34847808033334\n",
      "\n",
      "  gas = ct.Solution(scheme)\n",
      "/Users/theot/Documents/SEGR_0D/EGR0D/src/egr.py:108: UserWarning: NasaPoly2::validate: \n",
      "For species OH*, discontinuity in h/RT detected at Tmid = 1000\n",
      "\tValue computed using low-temperature polynomial:  53.62056162666667\n",
      "\tValue computed using high-temperature polynomial: 53.5841554314\n",
      "\n",
      "  gas = ct.Solution(scheme)\n",
      "/Users/theot/Documents/SEGR_0D/EGR0D/src/egr.py:108: UserWarning: NasaPoly2::validate: \n",
      "For species CH*, discontinuity in h/RT detected at Tmid = 1000\n",
      "\tValue computed using low-temperature polynomial:  107.5046684\n",
      "\tValue computed using high-temperature polynomial: 107.34847808033334\n",
      "\n",
      "  gas = ct.Solution(scheme)\n"
     ]
    },
    {
     "name": "stdout",
     "output_type": "stream",
     "text": [
      "flame 4.0422514157185506e-25\n"
     ]
    },
    {
     "name": "stderr",
     "output_type": "stream",
     "text": [
      "/Users/theot/Documents/SEGR_0D/EGR0D/src/egr.py:188: UserWarning: NasaPoly2::validate: \n",
      "For species OH*, discontinuity in h/RT detected at Tmid = 1000\n",
      "\tValue computed using low-temperature polynomial:  53.62056162666667\n",
      "\tValue computed using high-temperature polynomial: 53.5841554314\n",
      "\n",
      "  gas = ct.Solution(scheme)\n",
      "/Users/theot/Documents/SEGR_0D/EGR0D/src/egr.py:188: UserWarning: NasaPoly2::validate: \n",
      "For species CH*, discontinuity in h/RT detected at Tmid = 1000\n",
      "\tValue computed using low-temperature polynomial:  107.5046684\n",
      "\tValue computed using high-temperature polynomial: 107.34847808033334\n",
      "\n",
      "  gas = ct.Solution(scheme)\n",
      "/Users/theot/Documents/SEGR_0D/EGR0D/src/egr.py:108: UserWarning: NasaPoly2::validate: \n",
      "For species OH*, discontinuity in h/RT detected at Tmid = 1000\n",
      "\tValue computed using low-temperature polynomial:  53.62056162666667\n",
      "\tValue computed using high-temperature polynomial: 53.5841554314\n",
      "\n",
      "  gas = ct.Solution(scheme)\n",
      "/Users/theot/Documents/SEGR_0D/EGR0D/src/egr.py:108: UserWarning: NasaPoly2::validate: \n",
      "For species CH*, discontinuity in h/RT detected at Tmid = 1000\n",
      "\tValue computed using low-temperature polynomial:  107.5046684\n",
      "\tValue computed using high-temperature polynomial: 107.34847808033334\n",
      "\n",
      "  gas = ct.Solution(scheme)\n"
     ]
    },
    {
     "name": "stdout",
     "output_type": "stream",
     "text": [
      "flame 4.230947559693906e-25\n"
     ]
    },
    {
     "name": "stderr",
     "output_type": "stream",
     "text": [
      "/Users/theot/Documents/SEGR_0D/EGR0D/src/egr.py:188: UserWarning: NasaPoly2::validate: \n",
      "For species OH*, discontinuity in h/RT detected at Tmid = 1000\n",
      "\tValue computed using low-temperature polynomial:  53.62056162666667\n",
      "\tValue computed using high-temperature polynomial: 53.5841554314\n",
      "\n",
      "  gas = ct.Solution(scheme)\n",
      "/Users/theot/Documents/SEGR_0D/EGR0D/src/egr.py:188: UserWarning: NasaPoly2::validate: \n",
      "For species CH*, discontinuity in h/RT detected at Tmid = 1000\n",
      "\tValue computed using low-temperature polynomial:  107.5046684\n",
      "\tValue computed using high-temperature polynomial: 107.34847808033334\n",
      "\n",
      "  gas = ct.Solution(scheme)\n",
      "/Users/theot/Documents/SEGR_0D/EGR0D/src/egr.py:108: UserWarning: NasaPoly2::validate: \n",
      "For species OH*, discontinuity in h/RT detected at Tmid = 1000\n",
      "\tValue computed using low-temperature polynomial:  53.62056162666667\n",
      "\tValue computed using high-temperature polynomial: 53.5841554314\n",
      "\n",
      "  gas = ct.Solution(scheme)\n",
      "/Users/theot/Documents/SEGR_0D/EGR0D/src/egr.py:108: UserWarning: NasaPoly2::validate: \n",
      "For species CH*, discontinuity in h/RT detected at Tmid = 1000\n",
      "\tValue computed using low-temperature polynomial:  107.5046684\n",
      "\tValue computed using high-temperature polynomial: 107.34847808033334\n",
      "\n",
      "  gas = ct.Solution(scheme)\n"
     ]
    },
    {
     "name": "stdout",
     "output_type": "stream",
     "text": [
      "flame 4.4135313728656375e-25\n"
     ]
    },
    {
     "name": "stderr",
     "output_type": "stream",
     "text": [
      "/Users/theot/Documents/SEGR_0D/EGR0D/src/egr.py:188: UserWarning: NasaPoly2::validate: \n",
      "For species OH*, discontinuity in h/RT detected at Tmid = 1000\n",
      "\tValue computed using low-temperature polynomial:  53.62056162666667\n",
      "\tValue computed using high-temperature polynomial: 53.5841554314\n",
      "\n",
      "  gas = ct.Solution(scheme)\n",
      "/Users/theot/Documents/SEGR_0D/EGR0D/src/egr.py:188: UserWarning: NasaPoly2::validate: \n",
      "For species CH*, discontinuity in h/RT detected at Tmid = 1000\n",
      "\tValue computed using low-temperature polynomial:  107.5046684\n",
      "\tValue computed using high-temperature polynomial: 107.34847808033334\n",
      "\n",
      "  gas = ct.Solution(scheme)\n",
      "/Users/theot/Documents/SEGR_0D/EGR0D/src/egr.py:108: UserWarning: NasaPoly2::validate: \n",
      "For species OH*, discontinuity in h/RT detected at Tmid = 1000\n",
      "\tValue computed using low-temperature polynomial:  53.62056162666667\n",
      "\tValue computed using high-temperature polynomial: 53.5841554314\n",
      "\n",
      "  gas = ct.Solution(scheme)\n",
      "/Users/theot/Documents/SEGR_0D/EGR0D/src/egr.py:108: UserWarning: NasaPoly2::validate: \n",
      "For species CH*, discontinuity in h/RT detected at Tmid = 1000\n",
      "\tValue computed using low-temperature polynomial:  107.5046684\n",
      "\tValue computed using high-temperature polynomial: 107.34847808033334\n",
      "\n",
      "  gas = ct.Solution(scheme)\n"
     ]
    },
    {
     "name": "stdout",
     "output_type": "stream",
     "text": [
      "flame 4.590426560372994e-25\n"
     ]
    },
    {
     "name": "stderr",
     "output_type": "stream",
     "text": [
      "/Users/theot/Documents/SEGR_0D/EGR0D/src/egr.py:188: UserWarning: NasaPoly2::validate: \n",
      "For species OH*, discontinuity in h/RT detected at Tmid = 1000\n",
      "\tValue computed using low-temperature polynomial:  53.62056162666667\n",
      "\tValue computed using high-temperature polynomial: 53.5841554314\n",
      "\n",
      "  gas = ct.Solution(scheme)\n",
      "/Users/theot/Documents/SEGR_0D/EGR0D/src/egr.py:188: UserWarning: NasaPoly2::validate: \n",
      "For species CH*, discontinuity in h/RT detected at Tmid = 1000\n",
      "\tValue computed using low-temperature polynomial:  107.5046684\n",
      "\tValue computed using high-temperature polynomial: 107.34847808033334\n",
      "\n",
      "  gas = ct.Solution(scheme)\n",
      "/Users/theot/Documents/SEGR_0D/EGR0D/src/egr.py:108: UserWarning: NasaPoly2::validate: \n",
      "For species OH*, discontinuity in h/RT detected at Tmid = 1000\n",
      "\tValue computed using low-temperature polynomial:  53.62056162666667\n",
      "\tValue computed using high-temperature polynomial: 53.5841554314\n",
      "\n",
      "  gas = ct.Solution(scheme)\n",
      "/Users/theot/Documents/SEGR_0D/EGR0D/src/egr.py:108: UserWarning: NasaPoly2::validate: \n",
      "For species CH*, discontinuity in h/RT detected at Tmid = 1000\n",
      "\tValue computed using low-temperature polynomial:  107.5046684\n",
      "\tValue computed using high-temperature polynomial: 107.34847808033334\n",
      "\n",
      "  gas = ct.Solution(scheme)\n"
     ]
    },
    {
     "name": "stdout",
     "output_type": "stream",
     "text": [
      "flame 4.760593050302135e-25\n"
     ]
    },
    {
     "name": "stderr",
     "output_type": "stream",
     "text": [
      "/Users/theot/Documents/SEGR_0D/EGR0D/src/egr.py:188: UserWarning: NasaPoly2::validate: \n",
      "For species OH*, discontinuity in h/RT detected at Tmid = 1000\n",
      "\tValue computed using low-temperature polynomial:  53.62056162666667\n",
      "\tValue computed using high-temperature polynomial: 53.5841554314\n",
      "\n",
      "  gas = ct.Solution(scheme)\n",
      "/Users/theot/Documents/SEGR_0D/EGR0D/src/egr.py:188: UserWarning: NasaPoly2::validate: \n",
      "For species CH*, discontinuity in h/RT detected at Tmid = 1000\n",
      "\tValue computed using low-temperature polynomial:  107.5046684\n",
      "\tValue computed using high-temperature polynomial: 107.34847808033334\n",
      "\n",
      "  gas = ct.Solution(scheme)\n",
      "/Users/theot/Documents/SEGR_0D/EGR0D/src/egr.py:108: UserWarning: NasaPoly2::validate: \n",
      "For species OH*, discontinuity in h/RT detected at Tmid = 1000\n",
      "\tValue computed using low-temperature polynomial:  53.62056162666667\n",
      "\tValue computed using high-temperature polynomial: 53.5841554314\n",
      "\n",
      "  gas = ct.Solution(scheme)\n",
      "/Users/theot/Documents/SEGR_0D/EGR0D/src/egr.py:108: UserWarning: NasaPoly2::validate: \n",
      "For species CH*, discontinuity in h/RT detected at Tmid = 1000\n",
      "\tValue computed using low-temperature polynomial:  107.5046684\n",
      "\tValue computed using high-temperature polynomial: 107.34847808033334\n",
      "\n",
      "  gas = ct.Solution(scheme)\n"
     ]
    },
    {
     "name": "stdout",
     "output_type": "stream",
     "text": [
      "flame 4.925311271518233e-25\n",
      "Execution time: 33462.67311692238 seconds\n"
     ]
    },
    {
     "name": "stderr",
     "output_type": "stream",
     "text": [
      "/Users/theot/Documents/SEGR_0D/EGR0D/src/egr.py:103: UserWarning: NasaPoly2::validate: \n",
      "For species OH*, discontinuity in h/RT detected at Tmid = 1000\n",
      "\tValue computed using low-temperature polynomial:  53.62056162666667\n",
      "\tValue computed using high-temperature polynomial: 53.5841554314\n",
      "\n",
      "  gas = ct.Solution(scheme)\n",
      "/Users/theot/Documents/SEGR_0D/EGR0D/src/egr.py:103: UserWarning: NasaPoly2::validate: \n",
      "For species CH*, discontinuity in h/RT detected at Tmid = 1000\n",
      "\tValue computed using low-temperature polynomial:  107.5046684\n",
      "\tValue computed using high-temperature polynomial: 107.34847808033334\n",
      "\n",
      "  gas = ct.Solution(scheme)\n",
      "/Users/theot/Documents/SEGR_0D/EGR0D/src/egr.py:188: UserWarning: NasaPoly2::validate: \n",
      "For species OH*, discontinuity in h/RT detected at Tmid = 1000\n",
      "\tValue computed using low-temperature polynomial:  53.62056162666667\n",
      "\tValue computed using high-temperature polynomial: 53.5841554314\n",
      "\n",
      "  gas = ct.Solution(scheme)\n",
      "/Users/theot/Documents/SEGR_0D/EGR0D/src/egr.py:188: UserWarning: NasaPoly2::validate: \n",
      "For species CH*, discontinuity in h/RT detected at Tmid = 1000\n",
      "\tValue computed using low-temperature polynomial:  107.5046684\n",
      "\tValue computed using high-temperature polynomial: 107.34847808033334\n",
      "\n",
      "  gas = ct.Solution(scheme)\n",
      "/Users/theot/Documents/SEGR_0D/EGR0D/src/egr.py:108: UserWarning: NasaPoly2::validate: \n",
      "For species OH*, discontinuity in h/RT detected at Tmid = 1000\n",
      "\tValue computed using low-temperature polynomial:  53.62056162666667\n",
      "\tValue computed using high-temperature polynomial: 53.5841554314\n",
      "\n",
      "  gas = ct.Solution(scheme)\n",
      "/Users/theot/Documents/SEGR_0D/EGR0D/src/egr.py:108: UserWarning: NasaPoly2::validate: \n",
      "For species CH*, discontinuity in h/RT detected at Tmid = 1000\n",
      "\tValue computed using low-temperature polynomial:  107.5046684\n",
      "\tValue computed using high-temperature polynomial: 107.34847808033334\n",
      "\n",
      "  gas = ct.Solution(scheme)\n"
     ]
    },
    {
     "name": "stdout",
     "output_type": "stream",
     "text": [
      "flame 1.465878160494754e-28\n"
     ]
    },
    {
     "name": "stderr",
     "output_type": "stream",
     "text": [
      "/Users/theot/Documents/SEGR_0D/EGR0D/src/egr.py:188: UserWarning: NasaPoly2::validate: \n",
      "For species OH*, discontinuity in h/RT detected at Tmid = 1000\n",
      "\tValue computed using low-temperature polynomial:  53.62056162666667\n",
      "\tValue computed using high-temperature polynomial: 53.5841554314\n",
      "\n",
      "  gas = ct.Solution(scheme)\n",
      "/Users/theot/Documents/SEGR_0D/EGR0D/src/egr.py:188: UserWarning: NasaPoly2::validate: \n",
      "For species CH*, discontinuity in h/RT detected at Tmid = 1000\n",
      "\tValue computed using low-temperature polynomial:  107.5046684\n",
      "\tValue computed using high-temperature polynomial: 107.34847808033334\n",
      "\n",
      "  gas = ct.Solution(scheme)\n",
      "/Users/theot/Documents/SEGR_0D/EGR0D/src/egr.py:108: UserWarning: NasaPoly2::validate: \n",
      "For species OH*, discontinuity in h/RT detected at Tmid = 1000\n",
      "\tValue computed using low-temperature polynomial:  53.62056162666667\n",
      "\tValue computed using high-temperature polynomial: 53.5841554314\n",
      "\n",
      "  gas = ct.Solution(scheme)\n",
      "/Users/theot/Documents/SEGR_0D/EGR0D/src/egr.py:108: UserWarning: NasaPoly2::validate: \n",
      "For species CH*, discontinuity in h/RT detected at Tmid = 1000\n",
      "\tValue computed using low-temperature polynomial:  107.5046684\n",
      "\tValue computed using high-temperature polynomial: 107.34847808033334\n",
      "\n",
      "  gas = ct.Solution(scheme)\n"
     ]
    },
    {
     "name": "stdout",
     "output_type": "stream",
     "text": [
      "flame 0.0\n"
     ]
    },
    {
     "name": "stderr",
     "output_type": "stream",
     "text": [
      "/Users/theot/Documents/SEGR_0D/EGR0D/src/egr.py:188: UserWarning: NasaPoly2::validate: \n",
      "For species OH*, discontinuity in h/RT detected at Tmid = 1000\n",
      "\tValue computed using low-temperature polynomial:  53.62056162666667\n",
      "\tValue computed using high-temperature polynomial: 53.5841554314\n",
      "\n",
      "  gas = ct.Solution(scheme)\n",
      "/Users/theot/Documents/SEGR_0D/EGR0D/src/egr.py:188: UserWarning: NasaPoly2::validate: \n",
      "For species CH*, discontinuity in h/RT detected at Tmid = 1000\n",
      "\tValue computed using low-temperature polynomial:  107.5046684\n",
      "\tValue computed using high-temperature polynomial: 107.34847808033334\n",
      "\n",
      "  gas = ct.Solution(scheme)\n",
      "/Users/theot/Documents/SEGR_0D/EGR0D/src/egr.py:108: UserWarning: NasaPoly2::validate: \n",
      "For species OH*, discontinuity in h/RT detected at Tmid = 1000\n",
      "\tValue computed using low-temperature polynomial:  53.62056162666667\n",
      "\tValue computed using high-temperature polynomial: 53.5841554314\n",
      "\n",
      "  gas = ct.Solution(scheme)\n",
      "/Users/theot/Documents/SEGR_0D/EGR0D/src/egr.py:108: UserWarning: NasaPoly2::validate: \n",
      "For species CH*, discontinuity in h/RT detected at Tmid = 1000\n",
      "\tValue computed using low-temperature polynomial:  107.5046684\n",
      "\tValue computed using high-temperature polynomial: 107.34847808033334\n",
      "\n",
      "  gas = ct.Solution(scheme)\n"
     ]
    },
    {
     "name": "stdout",
     "output_type": "stream",
     "text": [
      "flame 8.695068401626142e-30\n"
     ]
    },
    {
     "name": "stderr",
     "output_type": "stream",
     "text": [
      "/Users/theot/Documents/SEGR_0D/EGR0D/src/egr.py:188: UserWarning: NasaPoly2::validate: \n",
      "For species OH*, discontinuity in h/RT detected at Tmid = 1000\n",
      "\tValue computed using low-temperature polynomial:  53.62056162666667\n",
      "\tValue computed using high-temperature polynomial: 53.5841554314\n",
      "\n",
      "  gas = ct.Solution(scheme)\n",
      "/Users/theot/Documents/SEGR_0D/EGR0D/src/egr.py:188: UserWarning: NasaPoly2::validate: \n",
      "For species CH*, discontinuity in h/RT detected at Tmid = 1000\n",
      "\tValue computed using low-temperature polynomial:  107.5046684\n",
      "\tValue computed using high-temperature polynomial: 107.34847808033334\n",
      "\n",
      "  gas = ct.Solution(scheme)\n",
      "/Users/theot/Documents/SEGR_0D/EGR0D/src/egr.py:108: UserWarning: NasaPoly2::validate: \n",
      "For species OH*, discontinuity in h/RT detected at Tmid = 1000\n",
      "\tValue computed using low-temperature polynomial:  53.62056162666667\n",
      "\tValue computed using high-temperature polynomial: 53.5841554314\n",
      "\n",
      "  gas = ct.Solution(scheme)\n",
      "/Users/theot/Documents/SEGR_0D/EGR0D/src/egr.py:108: UserWarning: NasaPoly2::validate: \n",
      "For species CH*, discontinuity in h/RT detected at Tmid = 1000\n",
      "\tValue computed using low-temperature polynomial:  107.5046684\n",
      "\tValue computed using high-temperature polynomial: 107.34847808033334\n",
      "\n",
      "  gas = ct.Solution(scheme)\n"
     ]
    },
    {
     "name": "stdout",
     "output_type": "stream",
     "text": [
      "flame 2.102197031729422e-29\n"
     ]
    },
    {
     "name": "stderr",
     "output_type": "stream",
     "text": [
      "/Users/theot/Documents/SEGR_0D/EGR0D/src/egr.py:188: UserWarning: NasaPoly2::validate: \n",
      "For species OH*, discontinuity in h/RT detected at Tmid = 1000\n",
      "\tValue computed using low-temperature polynomial:  53.62056162666667\n",
      "\tValue computed using high-temperature polynomial: 53.5841554314\n",
      "\n",
      "  gas = ct.Solution(scheme)\n",
      "/Users/theot/Documents/SEGR_0D/EGR0D/src/egr.py:188: UserWarning: NasaPoly2::validate: \n",
      "For species CH*, discontinuity in h/RT detected at Tmid = 1000\n",
      "\tValue computed using low-temperature polynomial:  107.5046684\n",
      "\tValue computed using high-temperature polynomial: 107.34847808033334\n",
      "\n",
      "  gas = ct.Solution(scheme)\n",
      "/Users/theot/Documents/SEGR_0D/EGR0D/src/egr.py:108: UserWarning: NasaPoly2::validate: \n",
      "For species OH*, discontinuity in h/RT detected at Tmid = 1000\n",
      "\tValue computed using low-temperature polynomial:  53.62056162666667\n",
      "\tValue computed using high-temperature polynomial: 53.5841554314\n",
      "\n",
      "  gas = ct.Solution(scheme)\n",
      "/Users/theot/Documents/SEGR_0D/EGR0D/src/egr.py:108: UserWarning: NasaPoly2::validate: \n",
      "For species CH*, discontinuity in h/RT detected at Tmid = 1000\n",
      "\tValue computed using low-temperature polynomial:  107.5046684\n",
      "\tValue computed using high-temperature polynomial: 107.34847808033334\n",
      "\n",
      "  gas = ct.Solution(scheme)\n"
     ]
    },
    {
     "name": "stdout",
     "output_type": "stream",
     "text": [
      "flame 1.3827497077857434e-31\n"
     ]
    },
    {
     "name": "stderr",
     "output_type": "stream",
     "text": [
      "/Users/theot/Documents/SEGR_0D/EGR0D/src/egr.py:188: UserWarning: NasaPoly2::validate: \n",
      "For species OH*, discontinuity in h/RT detected at Tmid = 1000\n",
      "\tValue computed using low-temperature polynomial:  53.62056162666667\n",
      "\tValue computed using high-temperature polynomial: 53.5841554314\n",
      "\n",
      "  gas = ct.Solution(scheme)\n",
      "/Users/theot/Documents/SEGR_0D/EGR0D/src/egr.py:188: UserWarning: NasaPoly2::validate: \n",
      "For species CH*, discontinuity in h/RT detected at Tmid = 1000\n",
      "\tValue computed using low-temperature polynomial:  107.5046684\n",
      "\tValue computed using high-temperature polynomial: 107.34847808033334\n",
      "\n",
      "  gas = ct.Solution(scheme)\n",
      "/Users/theot/Documents/SEGR_0D/EGR0D/src/egr.py:108: UserWarning: NasaPoly2::validate: \n",
      "For species OH*, discontinuity in h/RT detected at Tmid = 1000\n",
      "\tValue computed using low-temperature polynomial:  53.62056162666667\n",
      "\tValue computed using high-temperature polynomial: 53.5841554314\n",
      "\n",
      "  gas = ct.Solution(scheme)\n",
      "/Users/theot/Documents/SEGR_0D/EGR0D/src/egr.py:108: UserWarning: NasaPoly2::validate: \n",
      "For species CH*, discontinuity in h/RT detected at Tmid = 1000\n",
      "\tValue computed using low-temperature polynomial:  107.5046684\n",
      "\tValue computed using high-temperature polynomial: 107.34847808033334\n",
      "\n",
      "  gas = ct.Solution(scheme)\n"
     ]
    },
    {
     "name": "stdout",
     "output_type": "stream",
     "text": [
      "flame 0.0\n"
     ]
    },
    {
     "name": "stderr",
     "output_type": "stream",
     "text": [
      "/Users/theot/Documents/SEGR_0D/EGR0D/src/egr.py:188: UserWarning: NasaPoly2::validate: \n",
      "For species OH*, discontinuity in h/RT detected at Tmid = 1000\n",
      "\tValue computed using low-temperature polynomial:  53.62056162666667\n",
      "\tValue computed using high-temperature polynomial: 53.5841554314\n",
      "\n",
      "  gas = ct.Solution(scheme)\n",
      "/Users/theot/Documents/SEGR_0D/EGR0D/src/egr.py:188: UserWarning: NasaPoly2::validate: \n",
      "For species CH*, discontinuity in h/RT detected at Tmid = 1000\n",
      "\tValue computed using low-temperature polynomial:  107.5046684\n",
      "\tValue computed using high-temperature polynomial: 107.34847808033334\n",
      "\n",
      "  gas = ct.Solution(scheme)\n",
      "/Users/theot/Documents/SEGR_0D/EGR0D/src/egr.py:108: UserWarning: NasaPoly2::validate: \n",
      "For species OH*, discontinuity in h/RT detected at Tmid = 1000\n",
      "\tValue computed using low-temperature polynomial:  53.62056162666667\n",
      "\tValue computed using high-temperature polynomial: 53.5841554314\n",
      "\n",
      "  gas = ct.Solution(scheme)\n",
      "/Users/theot/Documents/SEGR_0D/EGR0D/src/egr.py:108: UserWarning: NasaPoly2::validate: \n",
      "For species CH*, discontinuity in h/RT detected at Tmid = 1000\n",
      "\tValue computed using low-temperature polynomial:  107.5046684\n",
      "\tValue computed using high-temperature polynomial: 107.34847808033334\n",
      "\n",
      "  gas = ct.Solution(scheme)\n"
     ]
    },
    {
     "name": "stdout",
     "output_type": "stream",
     "text": [
      "flame 0.0\n"
     ]
    },
    {
     "name": "stderr",
     "output_type": "stream",
     "text": [
      "/Users/theot/Documents/SEGR_0D/EGR0D/src/egr.py:188: UserWarning: NasaPoly2::validate: \n",
      "For species OH*, discontinuity in h/RT detected at Tmid = 1000\n",
      "\tValue computed using low-temperature polynomial:  53.62056162666667\n",
      "\tValue computed using high-temperature polynomial: 53.5841554314\n",
      "\n",
      "  gas = ct.Solution(scheme)\n",
      "/Users/theot/Documents/SEGR_0D/EGR0D/src/egr.py:188: UserWarning: NasaPoly2::validate: \n",
      "For species CH*, discontinuity in h/RT detected at Tmid = 1000\n",
      "\tValue computed using low-temperature polynomial:  107.5046684\n",
      "\tValue computed using high-temperature polynomial: 107.34847808033334\n",
      "\n",
      "  gas = ct.Solution(scheme)\n",
      "/Users/theot/Documents/SEGR_0D/EGR0D/src/egr.py:108: UserWarning: NasaPoly2::validate: \n",
      "For species OH*, discontinuity in h/RT detected at Tmid = 1000\n",
      "\tValue computed using low-temperature polynomial:  53.62056162666667\n",
      "\tValue computed using high-temperature polynomial: 53.5841554314\n",
      "\n",
      "  gas = ct.Solution(scheme)\n",
      "/Users/theot/Documents/SEGR_0D/EGR0D/src/egr.py:108: UserWarning: NasaPoly2::validate: \n",
      "For species CH*, discontinuity in h/RT detected at Tmid = 1000\n",
      "\tValue computed using low-temperature polynomial:  107.5046684\n",
      "\tValue computed using high-temperature polynomial: 107.34847808033334\n",
      "\n",
      "  gas = ct.Solution(scheme)\n"
     ]
    },
    {
     "name": "stdout",
     "output_type": "stream",
     "text": [
      "flame 1.0644168342803127e-35\n"
     ]
    },
    {
     "name": "stderr",
     "output_type": "stream",
     "text": [
      "/Users/theot/Documents/SEGR_0D/EGR0D/src/egr.py:188: UserWarning: NasaPoly2::validate: \n",
      "For species OH*, discontinuity in h/RT detected at Tmid = 1000\n",
      "\tValue computed using low-temperature polynomial:  53.62056162666667\n",
      "\tValue computed using high-temperature polynomial: 53.5841554314\n",
      "\n",
      "  gas = ct.Solution(scheme)\n",
      "/Users/theot/Documents/SEGR_0D/EGR0D/src/egr.py:188: UserWarning: NasaPoly2::validate: \n",
      "For species CH*, discontinuity in h/RT detected at Tmid = 1000\n",
      "\tValue computed using low-temperature polynomial:  107.5046684\n",
      "\tValue computed using high-temperature polynomial: 107.34847808033334\n",
      "\n",
      "  gas = ct.Solution(scheme)\n",
      "/Users/theot/Documents/SEGR_0D/EGR0D/src/egr.py:108: UserWarning: NasaPoly2::validate: \n",
      "For species OH*, discontinuity in h/RT detected at Tmid = 1000\n",
      "\tValue computed using low-temperature polynomial:  53.62056162666667\n",
      "\tValue computed using high-temperature polynomial: 53.5841554314\n",
      "\n",
      "  gas = ct.Solution(scheme)\n",
      "/Users/theot/Documents/SEGR_0D/EGR0D/src/egr.py:108: UserWarning: NasaPoly2::validate: \n",
      "For species CH*, discontinuity in h/RT detected at Tmid = 1000\n",
      "\tValue computed using low-temperature polynomial:  107.5046684\n",
      "\tValue computed using high-temperature polynomial: 107.34847808033334\n",
      "\n",
      "  gas = ct.Solution(scheme)\n"
     ]
    },
    {
     "name": "stdout",
     "output_type": "stream",
     "text": [
      "flame 5.367572598079459e-28\n"
     ]
    },
    {
     "name": "stderr",
     "output_type": "stream",
     "text": [
      "/Users/theot/Documents/SEGR_0D/EGR0D/src/egr.py:188: UserWarning: NasaPoly2::validate: \n",
      "For species OH*, discontinuity in h/RT detected at Tmid = 1000\n",
      "\tValue computed using low-temperature polynomial:  53.62056162666667\n",
      "\tValue computed using high-temperature polynomial: 53.5841554314\n",
      "\n",
      "  gas = ct.Solution(scheme)\n",
      "/Users/theot/Documents/SEGR_0D/EGR0D/src/egr.py:188: UserWarning: NasaPoly2::validate: \n",
      "For species CH*, discontinuity in h/RT detected at Tmid = 1000\n",
      "\tValue computed using low-temperature polynomial:  107.5046684\n",
      "\tValue computed using high-temperature polynomial: 107.34847808033334\n",
      "\n",
      "  gas = ct.Solution(scheme)\n",
      "/Users/theot/Documents/SEGR_0D/EGR0D/src/egr.py:108: UserWarning: NasaPoly2::validate: \n",
      "For species OH*, discontinuity in h/RT detected at Tmid = 1000\n",
      "\tValue computed using low-temperature polynomial:  53.62056162666667\n",
      "\tValue computed using high-temperature polynomial: 53.5841554314\n",
      "\n",
      "  gas = ct.Solution(scheme)\n",
      "/Users/theot/Documents/SEGR_0D/EGR0D/src/egr.py:108: UserWarning: NasaPoly2::validate: \n",
      "For species CH*, discontinuity in h/RT detected at Tmid = 1000\n",
      "\tValue computed using low-temperature polynomial:  107.5046684\n",
      "\tValue computed using high-temperature polynomial: 107.34847808033334\n",
      "\n",
      "  gas = ct.Solution(scheme)\n"
     ]
    },
    {
     "name": "stdout",
     "output_type": "stream",
     "text": [
      "flame 5.20798304146958e-28\n"
     ]
    },
    {
     "name": "stderr",
     "output_type": "stream",
     "text": [
      "/Users/theot/Documents/SEGR_0D/EGR0D/src/egr.py:188: UserWarning: NasaPoly2::validate: \n",
      "For species OH*, discontinuity in h/RT detected at Tmid = 1000\n",
      "\tValue computed using low-temperature polynomial:  53.62056162666667\n",
      "\tValue computed using high-temperature polynomial: 53.5841554314\n",
      "\n",
      "  gas = ct.Solution(scheme)\n",
      "/Users/theot/Documents/SEGR_0D/EGR0D/src/egr.py:188: UserWarning: NasaPoly2::validate: \n",
      "For species CH*, discontinuity in h/RT detected at Tmid = 1000\n",
      "\tValue computed using low-temperature polynomial:  107.5046684\n",
      "\tValue computed using high-temperature polynomial: 107.34847808033334\n",
      "\n",
      "  gas = ct.Solution(scheme)\n",
      "/Users/theot/Documents/SEGR_0D/EGR0D/src/egr.py:108: UserWarning: NasaPoly2::validate: \n",
      "For species OH*, discontinuity in h/RT detected at Tmid = 1000\n",
      "\tValue computed using low-temperature polynomial:  53.62056162666667\n",
      "\tValue computed using high-temperature polynomial: 53.5841554314\n",
      "\n",
      "  gas = ct.Solution(scheme)\n",
      "/Users/theot/Documents/SEGR_0D/EGR0D/src/egr.py:108: UserWarning: NasaPoly2::validate: \n",
      "For species CH*, discontinuity in h/RT detected at Tmid = 1000\n",
      "\tValue computed using low-temperature polynomial:  107.5046684\n",
      "\tValue computed using high-temperature polynomial: 107.34847808033334\n",
      "\n",
      "  gas = ct.Solution(scheme)\n"
     ]
    },
    {
     "name": "stdout",
     "output_type": "stream",
     "text": [
      "flame 1.691700657490813e-28\n"
     ]
    },
    {
     "name": "stderr",
     "output_type": "stream",
     "text": [
      "/Users/theot/Documents/SEGR_0D/EGR0D/src/egr.py:188: UserWarning: NasaPoly2::validate: \n",
      "For species OH*, discontinuity in h/RT detected at Tmid = 1000\n",
      "\tValue computed using low-temperature polynomial:  53.62056162666667\n",
      "\tValue computed using high-temperature polynomial: 53.5841554314\n",
      "\n",
      "  gas = ct.Solution(scheme)\n",
      "/Users/theot/Documents/SEGR_0D/EGR0D/src/egr.py:188: UserWarning: NasaPoly2::validate: \n",
      "For species CH*, discontinuity in h/RT detected at Tmid = 1000\n",
      "\tValue computed using low-temperature polynomial:  107.5046684\n",
      "\tValue computed using high-temperature polynomial: 107.34847808033334\n",
      "\n",
      "  gas = ct.Solution(scheme)\n",
      "/Users/theot/Documents/SEGR_0D/EGR0D/src/egr.py:108: UserWarning: NasaPoly2::validate: \n",
      "For species OH*, discontinuity in h/RT detected at Tmid = 1000\n",
      "\tValue computed using low-temperature polynomial:  53.62056162666667\n",
      "\tValue computed using high-temperature polynomial: 53.5841554314\n",
      "\n",
      "  gas = ct.Solution(scheme)\n",
      "/Users/theot/Documents/SEGR_0D/EGR0D/src/egr.py:108: UserWarning: NasaPoly2::validate: \n",
      "For species CH*, discontinuity in h/RT detected at Tmid = 1000\n",
      "\tValue computed using low-temperature polynomial:  107.5046684\n",
      "\tValue computed using high-temperature polynomial: 107.34847808033334\n",
      "\n",
      "  gas = ct.Solution(scheme)\n"
     ]
    },
    {
     "name": "stdout",
     "output_type": "stream",
     "text": [
      "flame 3.912838553028093e-28\n"
     ]
    },
    {
     "name": "stderr",
     "output_type": "stream",
     "text": [
      "/Users/theot/Documents/SEGR_0D/EGR0D/src/egr.py:188: UserWarning: NasaPoly2::validate: \n",
      "For species OH*, discontinuity in h/RT detected at Tmid = 1000\n",
      "\tValue computed using low-temperature polynomial:  53.62056162666667\n",
      "\tValue computed using high-temperature polynomial: 53.5841554314\n",
      "\n",
      "  gas = ct.Solution(scheme)\n",
      "/Users/theot/Documents/SEGR_0D/EGR0D/src/egr.py:188: UserWarning: NasaPoly2::validate: \n",
      "For species CH*, discontinuity in h/RT detected at Tmid = 1000\n",
      "\tValue computed using low-temperature polynomial:  107.5046684\n",
      "\tValue computed using high-temperature polynomial: 107.34847808033334\n",
      "\n",
      "  gas = ct.Solution(scheme)\n",
      "/Users/theot/Documents/SEGR_0D/EGR0D/src/egr.py:108: UserWarning: NasaPoly2::validate: \n",
      "For species OH*, discontinuity in h/RT detected at Tmid = 1000\n",
      "\tValue computed using low-temperature polynomial:  53.62056162666667\n",
      "\tValue computed using high-temperature polynomial: 53.5841554314\n",
      "\n",
      "  gas = ct.Solution(scheme)\n",
      "/Users/theot/Documents/SEGR_0D/EGR0D/src/egr.py:108: UserWarning: NasaPoly2::validate: \n",
      "For species CH*, discontinuity in h/RT detected at Tmid = 1000\n",
      "\tValue computed using low-temperature polynomial:  107.5046684\n",
      "\tValue computed using high-temperature polynomial: 107.34847808033334\n",
      "\n",
      "  gas = ct.Solution(scheme)\n"
     ]
    },
    {
     "name": "stdout",
     "output_type": "stream",
     "text": [
      "flame 3.264153106800191e-26\n"
     ]
    },
    {
     "name": "stderr",
     "output_type": "stream",
     "text": [
      "/Users/theot/Documents/SEGR_0D/EGR0D/src/egr.py:188: UserWarning: NasaPoly2::validate: \n",
      "For species OH*, discontinuity in h/RT detected at Tmid = 1000\n",
      "\tValue computed using low-temperature polynomial:  53.62056162666667\n",
      "\tValue computed using high-temperature polynomial: 53.5841554314\n",
      "\n",
      "  gas = ct.Solution(scheme)\n",
      "/Users/theot/Documents/SEGR_0D/EGR0D/src/egr.py:188: UserWarning: NasaPoly2::validate: \n",
      "For species CH*, discontinuity in h/RT detected at Tmid = 1000\n",
      "\tValue computed using low-temperature polynomial:  107.5046684\n",
      "\tValue computed using high-temperature polynomial: 107.34847808033334\n",
      "\n",
      "  gas = ct.Solution(scheme)\n",
      "/Users/theot/Documents/SEGR_0D/EGR0D/src/egr.py:108: UserWarning: NasaPoly2::validate: \n",
      "For species OH*, discontinuity in h/RT detected at Tmid = 1000\n",
      "\tValue computed using low-temperature polynomial:  53.62056162666667\n",
      "\tValue computed using high-temperature polynomial: 53.5841554314\n",
      "\n",
      "  gas = ct.Solution(scheme)\n",
      "/Users/theot/Documents/SEGR_0D/EGR0D/src/egr.py:108: UserWarning: NasaPoly2::validate: \n",
      "For species CH*, discontinuity in h/RT detected at Tmid = 1000\n",
      "\tValue computed using low-temperature polynomial:  107.5046684\n",
      "\tValue computed using high-temperature polynomial: 107.34847808033334\n",
      "\n",
      "  gas = ct.Solution(scheme)\n"
     ]
    },
    {
     "name": "stdout",
     "output_type": "stream",
     "text": [
      "flame 0.0\n"
     ]
    },
    {
     "name": "stderr",
     "output_type": "stream",
     "text": [
      "/Users/theot/Documents/SEGR_0D/EGR0D/src/egr.py:188: UserWarning: NasaPoly2::validate: \n",
      "For species OH*, discontinuity in h/RT detected at Tmid = 1000\n",
      "\tValue computed using low-temperature polynomial:  53.62056162666667\n",
      "\tValue computed using high-temperature polynomial: 53.5841554314\n",
      "\n",
      "  gas = ct.Solution(scheme)\n",
      "/Users/theot/Documents/SEGR_0D/EGR0D/src/egr.py:188: UserWarning: NasaPoly2::validate: \n",
      "For species CH*, discontinuity in h/RT detected at Tmid = 1000\n",
      "\tValue computed using low-temperature polynomial:  107.5046684\n",
      "\tValue computed using high-temperature polynomial: 107.34847808033334\n",
      "\n",
      "  gas = ct.Solution(scheme)\n",
      "/Users/theot/Documents/SEGR_0D/EGR0D/src/egr.py:108: UserWarning: NasaPoly2::validate: \n",
      "For species OH*, discontinuity in h/RT detected at Tmid = 1000\n",
      "\tValue computed using low-temperature polynomial:  53.62056162666667\n",
      "\tValue computed using high-temperature polynomial: 53.5841554314\n",
      "\n",
      "  gas = ct.Solution(scheme)\n",
      "/Users/theot/Documents/SEGR_0D/EGR0D/src/egr.py:108: UserWarning: NasaPoly2::validate: \n",
      "For species CH*, discontinuity in h/RT detected at Tmid = 1000\n",
      "\tValue computed using low-temperature polynomial:  107.5046684\n",
      "\tValue computed using high-temperature polynomial: 107.34847808033334\n",
      "\n",
      "  gas = ct.Solution(scheme)\n"
     ]
    },
    {
     "name": "stdout",
     "output_type": "stream",
     "text": [
      "flame 1.2727318788577894e-28\n"
     ]
    },
    {
     "name": "stderr",
     "output_type": "stream",
     "text": [
      "/Users/theot/Documents/SEGR_0D/EGR0D/src/egr.py:188: UserWarning: NasaPoly2::validate: \n",
      "For species OH*, discontinuity in h/RT detected at Tmid = 1000\n",
      "\tValue computed using low-temperature polynomial:  53.62056162666667\n",
      "\tValue computed using high-temperature polynomial: 53.5841554314\n",
      "\n",
      "  gas = ct.Solution(scheme)\n",
      "/Users/theot/Documents/SEGR_0D/EGR0D/src/egr.py:188: UserWarning: NasaPoly2::validate: \n",
      "For species CH*, discontinuity in h/RT detected at Tmid = 1000\n",
      "\tValue computed using low-temperature polynomial:  107.5046684\n",
      "\tValue computed using high-temperature polynomial: 107.34847808033334\n",
      "\n",
      "  gas = ct.Solution(scheme)\n",
      "/Users/theot/Documents/SEGR_0D/EGR0D/src/egr.py:108: UserWarning: NasaPoly2::validate: \n",
      "For species OH*, discontinuity in h/RT detected at Tmid = 1000\n",
      "\tValue computed using low-temperature polynomial:  53.62056162666667\n",
      "\tValue computed using high-temperature polynomial: 53.5841554314\n",
      "\n",
      "  gas = ct.Solution(scheme)\n",
      "/Users/theot/Documents/SEGR_0D/EGR0D/src/egr.py:108: UserWarning: NasaPoly2::validate: \n",
      "For species CH*, discontinuity in h/RT detected at Tmid = 1000\n",
      "\tValue computed using low-temperature polynomial:  107.5046684\n",
      "\tValue computed using high-temperature polynomial: 107.34847808033334\n",
      "\n",
      "  gas = ct.Solution(scheme)\n"
     ]
    },
    {
     "name": "stdout",
     "output_type": "stream",
     "text": [
      "flame 1.443694048779559e-28\n"
     ]
    },
    {
     "name": "stderr",
     "output_type": "stream",
     "text": [
      "/Users/theot/Documents/SEGR_0D/EGR0D/src/egr.py:188: UserWarning: NasaPoly2::validate: \n",
      "For species OH*, discontinuity in h/RT detected at Tmid = 1000\n",
      "\tValue computed using low-temperature polynomial:  53.62056162666667\n",
      "\tValue computed using high-temperature polynomial: 53.5841554314\n",
      "\n",
      "  gas = ct.Solution(scheme)\n",
      "/Users/theot/Documents/SEGR_0D/EGR0D/src/egr.py:188: UserWarning: NasaPoly2::validate: \n",
      "For species CH*, discontinuity in h/RT detected at Tmid = 1000\n",
      "\tValue computed using low-temperature polynomial:  107.5046684\n",
      "\tValue computed using high-temperature polynomial: 107.34847808033334\n",
      "\n",
      "  gas = ct.Solution(scheme)\n",
      "/Users/theot/Documents/SEGR_0D/EGR0D/src/egr.py:108: UserWarning: NasaPoly2::validate: \n",
      "For species OH*, discontinuity in h/RT detected at Tmid = 1000\n",
      "\tValue computed using low-temperature polynomial:  53.62056162666667\n",
      "\tValue computed using high-temperature polynomial: 53.5841554314\n",
      "\n",
      "  gas = ct.Solution(scheme)\n",
      "/Users/theot/Documents/SEGR_0D/EGR0D/src/egr.py:108: UserWarning: NasaPoly2::validate: \n",
      "For species CH*, discontinuity in h/RT detected at Tmid = 1000\n",
      "\tValue computed using low-temperature polynomial:  107.5046684\n",
      "\tValue computed using high-temperature polynomial: 107.34847808033334\n",
      "\n",
      "  gas = ct.Solution(scheme)\n"
     ]
    },
    {
     "name": "stdout",
     "output_type": "stream",
     "text": [
      "flame 1.150234902210789e-28\n"
     ]
    },
    {
     "name": "stderr",
     "output_type": "stream",
     "text": [
      "/Users/theot/Documents/SEGR_0D/EGR0D/src/egr.py:188: UserWarning: NasaPoly2::validate: \n",
      "For species OH*, discontinuity in h/RT detected at Tmid = 1000\n",
      "\tValue computed using low-temperature polynomial:  53.62056162666667\n",
      "\tValue computed using high-temperature polynomial: 53.5841554314\n",
      "\n",
      "  gas = ct.Solution(scheme)\n",
      "/Users/theot/Documents/SEGR_0D/EGR0D/src/egr.py:188: UserWarning: NasaPoly2::validate: \n",
      "For species CH*, discontinuity in h/RT detected at Tmid = 1000\n",
      "\tValue computed using low-temperature polynomial:  107.5046684\n",
      "\tValue computed using high-temperature polynomial: 107.34847808033334\n",
      "\n",
      "  gas = ct.Solution(scheme)\n",
      "/Users/theot/Documents/SEGR_0D/EGR0D/src/egr.py:108: UserWarning: NasaPoly2::validate: \n",
      "For species OH*, discontinuity in h/RT detected at Tmid = 1000\n",
      "\tValue computed using low-temperature polynomial:  53.62056162666667\n",
      "\tValue computed using high-temperature polynomial: 53.5841554314\n",
      "\n",
      "  gas = ct.Solution(scheme)\n",
      "/Users/theot/Documents/SEGR_0D/EGR0D/src/egr.py:108: UserWarning: NasaPoly2::validate: \n",
      "For species CH*, discontinuity in h/RT detected at Tmid = 1000\n",
      "\tValue computed using low-temperature polynomial:  107.5046684\n",
      "\tValue computed using high-temperature polynomial: 107.34847808033334\n",
      "\n",
      "  gas = ct.Solution(scheme)\n"
     ]
    },
    {
     "name": "stdout",
     "output_type": "stream",
     "text": [
      "flame 1.2717661509602885e-28\n"
     ]
    },
    {
     "name": "stderr",
     "output_type": "stream",
     "text": [
      "/Users/theot/Documents/SEGR_0D/EGR0D/src/egr.py:188: UserWarning: NasaPoly2::validate: \n",
      "For species OH*, discontinuity in h/RT detected at Tmid = 1000\n",
      "\tValue computed using low-temperature polynomial:  53.62056162666667\n",
      "\tValue computed using high-temperature polynomial: 53.5841554314\n",
      "\n",
      "  gas = ct.Solution(scheme)\n",
      "/Users/theot/Documents/SEGR_0D/EGR0D/src/egr.py:188: UserWarning: NasaPoly2::validate: \n",
      "For species CH*, discontinuity in h/RT detected at Tmid = 1000\n",
      "\tValue computed using low-temperature polynomial:  107.5046684\n",
      "\tValue computed using high-temperature polynomial: 107.34847808033334\n",
      "\n",
      "  gas = ct.Solution(scheme)\n",
      "/Users/theot/Documents/SEGR_0D/EGR0D/src/egr.py:108: UserWarning: NasaPoly2::validate: \n",
      "For species OH*, discontinuity in h/RT detected at Tmid = 1000\n",
      "\tValue computed using low-temperature polynomial:  53.62056162666667\n",
      "\tValue computed using high-temperature polynomial: 53.5841554314\n",
      "\n",
      "  gas = ct.Solution(scheme)\n",
      "/Users/theot/Documents/SEGR_0D/EGR0D/src/egr.py:108: UserWarning: NasaPoly2::validate: \n",
      "For species CH*, discontinuity in h/RT detected at Tmid = 1000\n",
      "\tValue computed using low-temperature polynomial:  107.5046684\n",
      "\tValue computed using high-temperature polynomial: 107.34847808033334\n",
      "\n",
      "  gas = ct.Solution(scheme)\n"
     ]
    },
    {
     "name": "stdout",
     "output_type": "stream",
     "text": [
      "flame 0.0\n"
     ]
    },
    {
     "name": "stderr",
     "output_type": "stream",
     "text": [
      "/Users/theot/Documents/SEGR_0D/EGR0D/src/egr.py:188: UserWarning: NasaPoly2::validate: \n",
      "For species OH*, discontinuity in h/RT detected at Tmid = 1000\n",
      "\tValue computed using low-temperature polynomial:  53.62056162666667\n",
      "\tValue computed using high-temperature polynomial: 53.5841554314\n",
      "\n",
      "  gas = ct.Solution(scheme)\n",
      "/Users/theot/Documents/SEGR_0D/EGR0D/src/egr.py:188: UserWarning: NasaPoly2::validate: \n",
      "For species CH*, discontinuity in h/RT detected at Tmid = 1000\n",
      "\tValue computed using low-temperature polynomial:  107.5046684\n",
      "\tValue computed using high-temperature polynomial: 107.34847808033334\n",
      "\n",
      "  gas = ct.Solution(scheme)\n",
      "/Users/theot/Documents/SEGR_0D/EGR0D/src/egr.py:108: UserWarning: NasaPoly2::validate: \n",
      "For species OH*, discontinuity in h/RT detected at Tmid = 1000\n",
      "\tValue computed using low-temperature polynomial:  53.62056162666667\n",
      "\tValue computed using high-temperature polynomial: 53.5841554314\n",
      "\n",
      "  gas = ct.Solution(scheme)\n",
      "/Users/theot/Documents/SEGR_0D/EGR0D/src/egr.py:108: UserWarning: NasaPoly2::validate: \n",
      "For species CH*, discontinuity in h/RT detected at Tmid = 1000\n",
      "\tValue computed using low-temperature polynomial:  107.5046684\n",
      "\tValue computed using high-temperature polynomial: 107.34847808033334\n",
      "\n",
      "  gas = ct.Solution(scheme)\n"
     ]
    },
    {
     "name": "stdout",
     "output_type": "stream",
     "text": [
      "flame 5.532681813226525e-30\n"
     ]
    },
    {
     "name": "stderr",
     "output_type": "stream",
     "text": [
      "/Users/theot/Documents/SEGR_0D/EGR0D/src/egr.py:188: UserWarning: NasaPoly2::validate: \n",
      "For species OH*, discontinuity in h/RT detected at Tmid = 1000\n",
      "\tValue computed using low-temperature polynomial:  53.62056162666667\n",
      "\tValue computed using high-temperature polynomial: 53.5841554314\n",
      "\n",
      "  gas = ct.Solution(scheme)\n",
      "/Users/theot/Documents/SEGR_0D/EGR0D/src/egr.py:188: UserWarning: NasaPoly2::validate: \n",
      "For species CH*, discontinuity in h/RT detected at Tmid = 1000\n",
      "\tValue computed using low-temperature polynomial:  107.5046684\n",
      "\tValue computed using high-temperature polynomial: 107.34847808033334\n",
      "\n",
      "  gas = ct.Solution(scheme)\n",
      "/Users/theot/Documents/SEGR_0D/EGR0D/src/egr.py:108: UserWarning: NasaPoly2::validate: \n",
      "For species OH*, discontinuity in h/RT detected at Tmid = 1000\n",
      "\tValue computed using low-temperature polynomial:  53.62056162666667\n",
      "\tValue computed using high-temperature polynomial: 53.5841554314\n",
      "\n",
      "  gas = ct.Solution(scheme)\n",
      "/Users/theot/Documents/SEGR_0D/EGR0D/src/egr.py:108: UserWarning: NasaPoly2::validate: \n",
      "For species CH*, discontinuity in h/RT detected at Tmid = 1000\n",
      "\tValue computed using low-temperature polynomial:  107.5046684\n",
      "\tValue computed using high-temperature polynomial: 107.34847808033334\n",
      "\n",
      "  gas = ct.Solution(scheme)\n"
     ]
    },
    {
     "name": "stdout",
     "output_type": "stream",
     "text": [
      "flame 0.0\n"
     ]
    },
    {
     "name": "stderr",
     "output_type": "stream",
     "text": [
      "/Users/theot/Documents/SEGR_0D/EGR0D/src/egr.py:188: UserWarning: NasaPoly2::validate: \n",
      "For species OH*, discontinuity in h/RT detected at Tmid = 1000\n",
      "\tValue computed using low-temperature polynomial:  53.62056162666667\n",
      "\tValue computed using high-temperature polynomial: 53.5841554314\n",
      "\n",
      "  gas = ct.Solution(scheme)\n",
      "/Users/theot/Documents/SEGR_0D/EGR0D/src/egr.py:188: UserWarning: NasaPoly2::validate: \n",
      "For species CH*, discontinuity in h/RT detected at Tmid = 1000\n",
      "\tValue computed using low-temperature polynomial:  107.5046684\n",
      "\tValue computed using high-temperature polynomial: 107.34847808033334\n",
      "\n",
      "  gas = ct.Solution(scheme)\n",
      "/Users/theot/Documents/SEGR_0D/EGR0D/src/egr.py:108: UserWarning: NasaPoly2::validate: \n",
      "For species OH*, discontinuity in h/RT detected at Tmid = 1000\n",
      "\tValue computed using low-temperature polynomial:  53.62056162666667\n",
      "\tValue computed using high-temperature polynomial: 53.5841554314\n",
      "\n",
      "  gas = ct.Solution(scheme)\n",
      "/Users/theot/Documents/SEGR_0D/EGR0D/src/egr.py:108: UserWarning: NasaPoly2::validate: \n",
      "For species CH*, discontinuity in h/RT detected at Tmid = 1000\n",
      "\tValue computed using low-temperature polynomial:  107.5046684\n",
      "\tValue computed using high-temperature polynomial: 107.34847808033334\n",
      "\n",
      "  gas = ct.Solution(scheme)\n"
     ]
    },
    {
     "name": "stdout",
     "output_type": "stream",
     "text": [
      "flame 6.383633594158177e-28\n"
     ]
    },
    {
     "name": "stderr",
     "output_type": "stream",
     "text": [
      "/Users/theot/Documents/SEGR_0D/EGR0D/src/egr.py:188: UserWarning: NasaPoly2::validate: \n",
      "For species OH*, discontinuity in h/RT detected at Tmid = 1000\n",
      "\tValue computed using low-temperature polynomial:  53.62056162666667\n",
      "\tValue computed using high-temperature polynomial: 53.5841554314\n",
      "\n",
      "  gas = ct.Solution(scheme)\n",
      "/Users/theot/Documents/SEGR_0D/EGR0D/src/egr.py:188: UserWarning: NasaPoly2::validate: \n",
      "For species CH*, discontinuity in h/RT detected at Tmid = 1000\n",
      "\tValue computed using low-temperature polynomial:  107.5046684\n",
      "\tValue computed using high-temperature polynomial: 107.34847808033334\n",
      "\n",
      "  gas = ct.Solution(scheme)\n",
      "/Users/theot/Documents/SEGR_0D/EGR0D/src/egr.py:108: UserWarning: NasaPoly2::validate: \n",
      "For species OH*, discontinuity in h/RT detected at Tmid = 1000\n",
      "\tValue computed using low-temperature polynomial:  53.62056162666667\n",
      "\tValue computed using high-temperature polynomial: 53.5841554314\n",
      "\n",
      "  gas = ct.Solution(scheme)\n",
      "/Users/theot/Documents/SEGR_0D/EGR0D/src/egr.py:108: UserWarning: NasaPoly2::validate: \n",
      "For species CH*, discontinuity in h/RT detected at Tmid = 1000\n",
      "\tValue computed using low-temperature polynomial:  107.5046684\n",
      "\tValue computed using high-temperature polynomial: 107.34847808033334\n",
      "\n",
      "  gas = ct.Solution(scheme)\n"
     ]
    },
    {
     "name": "stdout",
     "output_type": "stream",
     "text": [
      "flame 1.7021200475493694e-28\n"
     ]
    },
    {
     "name": "stderr",
     "output_type": "stream",
     "text": [
      "/Users/theot/Documents/SEGR_0D/EGR0D/src/egr.py:188: UserWarning: NasaPoly2::validate: \n",
      "For species OH*, discontinuity in h/RT detected at Tmid = 1000\n",
      "\tValue computed using low-temperature polynomial:  53.62056162666667\n",
      "\tValue computed using high-temperature polynomial: 53.5841554314\n",
      "\n",
      "  gas = ct.Solution(scheme)\n",
      "/Users/theot/Documents/SEGR_0D/EGR0D/src/egr.py:188: UserWarning: NasaPoly2::validate: \n",
      "For species CH*, discontinuity in h/RT detected at Tmid = 1000\n",
      "\tValue computed using low-temperature polynomial:  107.5046684\n",
      "\tValue computed using high-temperature polynomial: 107.34847808033334\n",
      "\n",
      "  gas = ct.Solution(scheme)\n",
      "/Users/theot/Documents/SEGR_0D/EGR0D/src/egr.py:108: UserWarning: NasaPoly2::validate: \n",
      "For species OH*, discontinuity in h/RT detected at Tmid = 1000\n",
      "\tValue computed using low-temperature polynomial:  53.62056162666667\n",
      "\tValue computed using high-temperature polynomial: 53.5841554314\n",
      "\n",
      "  gas = ct.Solution(scheme)\n",
      "/Users/theot/Documents/SEGR_0D/EGR0D/src/egr.py:108: UserWarning: NasaPoly2::validate: \n",
      "For species CH*, discontinuity in h/RT detected at Tmid = 1000\n",
      "\tValue computed using low-temperature polynomial:  107.5046684\n",
      "\tValue computed using high-temperature polynomial: 107.34847808033334\n",
      "\n",
      "  gas = ct.Solution(scheme)\n"
     ]
    },
    {
     "name": "stdout",
     "output_type": "stream",
     "text": [
      "flame 1.7094563265549086e-28\n"
     ]
    },
    {
     "name": "stderr",
     "output_type": "stream",
     "text": [
      "/Users/theot/Documents/SEGR_0D/EGR0D/src/egr.py:188: UserWarning: NasaPoly2::validate: \n",
      "For species OH*, discontinuity in h/RT detected at Tmid = 1000\n",
      "\tValue computed using low-temperature polynomial:  53.62056162666667\n",
      "\tValue computed using high-temperature polynomial: 53.5841554314\n",
      "\n",
      "  gas = ct.Solution(scheme)\n",
      "/Users/theot/Documents/SEGR_0D/EGR0D/src/egr.py:188: UserWarning: NasaPoly2::validate: \n",
      "For species CH*, discontinuity in h/RT detected at Tmid = 1000\n",
      "\tValue computed using low-temperature polynomial:  107.5046684\n",
      "\tValue computed using high-temperature polynomial: 107.34847808033334\n",
      "\n",
      "  gas = ct.Solution(scheme)\n",
      "/Users/theot/Documents/SEGR_0D/EGR0D/src/egr.py:108: UserWarning: NasaPoly2::validate: \n",
      "For species OH*, discontinuity in h/RT detected at Tmid = 1000\n",
      "\tValue computed using low-temperature polynomial:  53.62056162666667\n",
      "\tValue computed using high-temperature polynomial: 53.5841554314\n",
      "\n",
      "  gas = ct.Solution(scheme)\n",
      "/Users/theot/Documents/SEGR_0D/EGR0D/src/egr.py:108: UserWarning: NasaPoly2::validate: \n",
      "For species CH*, discontinuity in h/RT detected at Tmid = 1000\n",
      "\tValue computed using low-temperature polynomial:  107.5046684\n",
      "\tValue computed using high-temperature polynomial: 107.34847808033334\n",
      "\n",
      "  gas = ct.Solution(scheme)\n"
     ]
    },
    {
     "name": "stdout",
     "output_type": "stream",
     "text": [
      "flame 0.0\n"
     ]
    },
    {
     "name": "stderr",
     "output_type": "stream",
     "text": [
      "/Users/theot/Documents/SEGR_0D/EGR0D/src/egr.py:188: UserWarning: NasaPoly2::validate: \n",
      "For species OH*, discontinuity in h/RT detected at Tmid = 1000\n",
      "\tValue computed using low-temperature polynomial:  53.62056162666667\n",
      "\tValue computed using high-temperature polynomial: 53.5841554314\n",
      "\n",
      "  gas = ct.Solution(scheme)\n",
      "/Users/theot/Documents/SEGR_0D/EGR0D/src/egr.py:188: UserWarning: NasaPoly2::validate: \n",
      "For species CH*, discontinuity in h/RT detected at Tmid = 1000\n",
      "\tValue computed using low-temperature polynomial:  107.5046684\n",
      "\tValue computed using high-temperature polynomial: 107.34847808033334\n",
      "\n",
      "  gas = ct.Solution(scheme)\n",
      "/Users/theot/Documents/SEGR_0D/EGR0D/src/egr.py:108: UserWarning: NasaPoly2::validate: \n",
      "For species OH*, discontinuity in h/RT detected at Tmid = 1000\n",
      "\tValue computed using low-temperature polynomial:  53.62056162666667\n",
      "\tValue computed using high-temperature polynomial: 53.5841554314\n",
      "\n",
      "  gas = ct.Solution(scheme)\n",
      "/Users/theot/Documents/SEGR_0D/EGR0D/src/egr.py:108: UserWarning: NasaPoly2::validate: \n",
      "For species CH*, discontinuity in h/RT detected at Tmid = 1000\n",
      "\tValue computed using low-temperature polynomial:  107.5046684\n",
      "\tValue computed using high-temperature polynomial: 107.34847808033334\n",
      "\n",
      "  gas = ct.Solution(scheme)\n"
     ]
    },
    {
     "name": "stdout",
     "output_type": "stream",
     "text": [
      "flame 1.8132669374399147e-28\n"
     ]
    },
    {
     "name": "stderr",
     "output_type": "stream",
     "text": [
      "/Users/theot/Documents/SEGR_0D/EGR0D/src/egr.py:188: UserWarning: NasaPoly2::validate: \n",
      "For species OH*, discontinuity in h/RT detected at Tmid = 1000\n",
      "\tValue computed using low-temperature polynomial:  53.62056162666667\n",
      "\tValue computed using high-temperature polynomial: 53.5841554314\n",
      "\n",
      "  gas = ct.Solution(scheme)\n",
      "/Users/theot/Documents/SEGR_0D/EGR0D/src/egr.py:188: UserWarning: NasaPoly2::validate: \n",
      "For species CH*, discontinuity in h/RT detected at Tmid = 1000\n",
      "\tValue computed using low-temperature polynomial:  107.5046684\n",
      "\tValue computed using high-temperature polynomial: 107.34847808033334\n",
      "\n",
      "  gas = ct.Solution(scheme)\n",
      "/Users/theot/Documents/SEGR_0D/EGR0D/src/egr.py:108: UserWarning: NasaPoly2::validate: \n",
      "For species OH*, discontinuity in h/RT detected at Tmid = 1000\n",
      "\tValue computed using low-temperature polynomial:  53.62056162666667\n",
      "\tValue computed using high-temperature polynomial: 53.5841554314\n",
      "\n",
      "  gas = ct.Solution(scheme)\n",
      "/Users/theot/Documents/SEGR_0D/EGR0D/src/egr.py:108: UserWarning: NasaPoly2::validate: \n",
      "For species CH*, discontinuity in h/RT detected at Tmid = 1000\n",
      "\tValue computed using low-temperature polynomial:  107.5046684\n",
      "\tValue computed using high-temperature polynomial: 107.34847808033334\n",
      "\n",
      "  gas = ct.Solution(scheme)\n"
     ]
    },
    {
     "name": "stdout",
     "output_type": "stream",
     "text": [
      "flame 0.0\n"
     ]
    },
    {
     "name": "stderr",
     "output_type": "stream",
     "text": [
      "/Users/theot/Documents/SEGR_0D/EGR0D/src/egr.py:188: UserWarning: NasaPoly2::validate: \n",
      "For species OH*, discontinuity in h/RT detected at Tmid = 1000\n",
      "\tValue computed using low-temperature polynomial:  53.62056162666667\n",
      "\tValue computed using high-temperature polynomial: 53.5841554314\n",
      "\n",
      "  gas = ct.Solution(scheme)\n",
      "/Users/theot/Documents/SEGR_0D/EGR0D/src/egr.py:188: UserWarning: NasaPoly2::validate: \n",
      "For species CH*, discontinuity in h/RT detected at Tmid = 1000\n",
      "\tValue computed using low-temperature polynomial:  107.5046684\n",
      "\tValue computed using high-temperature polynomial: 107.34847808033334\n",
      "\n",
      "  gas = ct.Solution(scheme)\n",
      "/Users/theot/Documents/SEGR_0D/EGR0D/src/egr.py:108: UserWarning: NasaPoly2::validate: \n",
      "For species OH*, discontinuity in h/RT detected at Tmid = 1000\n",
      "\tValue computed using low-temperature polynomial:  53.62056162666667\n",
      "\tValue computed using high-temperature polynomial: 53.5841554314\n",
      "\n",
      "  gas = ct.Solution(scheme)\n",
      "/Users/theot/Documents/SEGR_0D/EGR0D/src/egr.py:108: UserWarning: NasaPoly2::validate: \n",
      "For species CH*, discontinuity in h/RT detected at Tmid = 1000\n",
      "\tValue computed using low-temperature polynomial:  107.5046684\n",
      "\tValue computed using high-temperature polynomial: 107.34847808033334\n",
      "\n",
      "  gas = ct.Solution(scheme)\n"
     ]
    },
    {
     "name": "stdout",
     "output_type": "stream",
     "text": [
      "flame 4.661535099357379e-28\n"
     ]
    },
    {
     "name": "stderr",
     "output_type": "stream",
     "text": [
      "/Users/theot/Documents/SEGR_0D/EGR0D/src/egr.py:188: UserWarning: NasaPoly2::validate: \n",
      "For species OH*, discontinuity in h/RT detected at Tmid = 1000\n",
      "\tValue computed using low-temperature polynomial:  53.62056162666667\n",
      "\tValue computed using high-temperature polynomial: 53.5841554314\n",
      "\n",
      "  gas = ct.Solution(scheme)\n",
      "/Users/theot/Documents/SEGR_0D/EGR0D/src/egr.py:188: UserWarning: NasaPoly2::validate: \n",
      "For species CH*, discontinuity in h/RT detected at Tmid = 1000\n",
      "\tValue computed using low-temperature polynomial:  107.5046684\n",
      "\tValue computed using high-temperature polynomial: 107.34847808033334\n",
      "\n",
      "  gas = ct.Solution(scheme)\n",
      "/Users/theot/Documents/SEGR_0D/EGR0D/src/egr.py:108: UserWarning: NasaPoly2::validate: \n",
      "For species OH*, discontinuity in h/RT detected at Tmid = 1000\n",
      "\tValue computed using low-temperature polynomial:  53.62056162666667\n",
      "\tValue computed using high-temperature polynomial: 53.5841554314\n",
      "\n",
      "  gas = ct.Solution(scheme)\n",
      "/Users/theot/Documents/SEGR_0D/EGR0D/src/egr.py:108: UserWarning: NasaPoly2::validate: \n",
      "For species CH*, discontinuity in h/RT detected at Tmid = 1000\n",
      "\tValue computed using low-temperature polynomial:  107.5046684\n",
      "\tValue computed using high-temperature polynomial: 107.34847808033334\n",
      "\n",
      "  gas = ct.Solution(scheme)\n"
     ]
    },
    {
     "name": "stdout",
     "output_type": "stream",
     "text": [
      "flame 1.0951557492665061e-21\n"
     ]
    },
    {
     "name": "stderr",
     "output_type": "stream",
     "text": [
      "/Users/theot/Documents/SEGR_0D/EGR0D/src/egr.py:188: UserWarning: NasaPoly2::validate: \n",
      "For species OH*, discontinuity in h/RT detected at Tmid = 1000\n",
      "\tValue computed using low-temperature polynomial:  53.62056162666667\n",
      "\tValue computed using high-temperature polynomial: 53.5841554314\n",
      "\n",
      "  gas = ct.Solution(scheme)\n",
      "/Users/theot/Documents/SEGR_0D/EGR0D/src/egr.py:188: UserWarning: NasaPoly2::validate: \n",
      "For species CH*, discontinuity in h/RT detected at Tmid = 1000\n",
      "\tValue computed using low-temperature polynomial:  107.5046684\n",
      "\tValue computed using high-temperature polynomial: 107.34847808033334\n",
      "\n",
      "  gas = ct.Solution(scheme)\n",
      "/Users/theot/Documents/SEGR_0D/EGR0D/src/egr.py:108: UserWarning: NasaPoly2::validate: \n",
      "For species OH*, discontinuity in h/RT detected at Tmid = 1000\n",
      "\tValue computed using low-temperature polynomial:  53.62056162666667\n",
      "\tValue computed using high-temperature polynomial: 53.5841554314\n",
      "\n",
      "  gas = ct.Solution(scheme)\n",
      "/Users/theot/Documents/SEGR_0D/EGR0D/src/egr.py:108: UserWarning: NasaPoly2::validate: \n",
      "For species CH*, discontinuity in h/RT detected at Tmid = 1000\n",
      "\tValue computed using low-temperature polynomial:  107.5046684\n",
      "\tValue computed using high-temperature polynomial: 107.34847808033334\n",
      "\n",
      "  gas = ct.Solution(scheme)\n"
     ]
    },
    {
     "name": "stdout",
     "output_type": "stream",
     "text": [
      "flame 1.2127855835942284e-21\n"
     ]
    },
    {
     "name": "stderr",
     "output_type": "stream",
     "text": [
      "/Users/theot/Documents/SEGR_0D/EGR0D/src/egr.py:188: UserWarning: NasaPoly2::validate: \n",
      "For species OH*, discontinuity in h/RT detected at Tmid = 1000\n",
      "\tValue computed using low-temperature polynomial:  53.62056162666667\n",
      "\tValue computed using high-temperature polynomial: 53.5841554314\n",
      "\n",
      "  gas = ct.Solution(scheme)\n",
      "/Users/theot/Documents/SEGR_0D/EGR0D/src/egr.py:188: UserWarning: NasaPoly2::validate: \n",
      "For species CH*, discontinuity in h/RT detected at Tmid = 1000\n",
      "\tValue computed using low-temperature polynomial:  107.5046684\n",
      "\tValue computed using high-temperature polynomial: 107.34847808033334\n",
      "\n",
      "  gas = ct.Solution(scheme)\n",
      "/Users/theot/Documents/SEGR_0D/EGR0D/src/egr.py:108: UserWarning: NasaPoly2::validate: \n",
      "For species OH*, discontinuity in h/RT detected at Tmid = 1000\n",
      "\tValue computed using low-temperature polynomial:  53.62056162666667\n",
      "\tValue computed using high-temperature polynomial: 53.5841554314\n",
      "\n",
      "  gas = ct.Solution(scheme)\n",
      "/Users/theot/Documents/SEGR_0D/EGR0D/src/egr.py:108: UserWarning: NasaPoly2::validate: \n",
      "For species CH*, discontinuity in h/RT detected at Tmid = 1000\n",
      "\tValue computed using low-temperature polynomial:  107.5046684\n",
      "\tValue computed using high-temperature polynomial: 107.34847808033334\n",
      "\n",
      "  gas = ct.Solution(scheme)\n"
     ]
    },
    {
     "name": "stdout",
     "output_type": "stream",
     "text": [
      "flame 1.330713709548657e-21\n"
     ]
    },
    {
     "name": "stderr",
     "output_type": "stream",
     "text": [
      "/Users/theot/Documents/SEGR_0D/EGR0D/src/egr.py:188: UserWarning: NasaPoly2::validate: \n",
      "For species OH*, discontinuity in h/RT detected at Tmid = 1000\n",
      "\tValue computed using low-temperature polynomial:  53.62056162666667\n",
      "\tValue computed using high-temperature polynomial: 53.5841554314\n",
      "\n",
      "  gas = ct.Solution(scheme)\n",
      "/Users/theot/Documents/SEGR_0D/EGR0D/src/egr.py:188: UserWarning: NasaPoly2::validate: \n",
      "For species CH*, discontinuity in h/RT detected at Tmid = 1000\n",
      "\tValue computed using low-temperature polynomial:  107.5046684\n",
      "\tValue computed using high-temperature polynomial: 107.34847808033334\n",
      "\n",
      "  gas = ct.Solution(scheme)\n",
      "/Users/theot/Documents/SEGR_0D/EGR0D/src/egr.py:108: UserWarning: NasaPoly2::validate: \n",
      "For species OH*, discontinuity in h/RT detected at Tmid = 1000\n",
      "\tValue computed using low-temperature polynomial:  53.62056162666667\n",
      "\tValue computed using high-temperature polynomial: 53.5841554314\n",
      "\n",
      "  gas = ct.Solution(scheme)\n",
      "/Users/theot/Documents/SEGR_0D/EGR0D/src/egr.py:108: UserWarning: NasaPoly2::validate: \n",
      "For species CH*, discontinuity in h/RT detected at Tmid = 1000\n",
      "\tValue computed using low-temperature polynomial:  107.5046684\n",
      "\tValue computed using high-temperature polynomial: 107.34847808033334\n",
      "\n",
      "  gas = ct.Solution(scheme)\n"
     ]
    },
    {
     "name": "stdout",
     "output_type": "stream",
     "text": [
      "flame 1.4482628878082347e-21\n"
     ]
    },
    {
     "name": "stderr",
     "output_type": "stream",
     "text": [
      "/Users/theot/Documents/SEGR_0D/EGR0D/src/egr.py:188: UserWarning: NasaPoly2::validate: \n",
      "For species OH*, discontinuity in h/RT detected at Tmid = 1000\n",
      "\tValue computed using low-temperature polynomial:  53.62056162666667\n",
      "\tValue computed using high-temperature polynomial: 53.5841554314\n",
      "\n",
      "  gas = ct.Solution(scheme)\n",
      "/Users/theot/Documents/SEGR_0D/EGR0D/src/egr.py:188: UserWarning: NasaPoly2::validate: \n",
      "For species CH*, discontinuity in h/RT detected at Tmid = 1000\n",
      "\tValue computed using low-temperature polynomial:  107.5046684\n",
      "\tValue computed using high-temperature polynomial: 107.34847808033334\n",
      "\n",
      "  gas = ct.Solution(scheme)\n",
      "/Users/theot/Documents/SEGR_0D/EGR0D/src/egr.py:108: UserWarning: NasaPoly2::validate: \n",
      "For species OH*, discontinuity in h/RT detected at Tmid = 1000\n",
      "\tValue computed using low-temperature polynomial:  53.62056162666667\n",
      "\tValue computed using high-temperature polynomial: 53.5841554314\n",
      "\n",
      "  gas = ct.Solution(scheme)\n",
      "/Users/theot/Documents/SEGR_0D/EGR0D/src/egr.py:108: UserWarning: NasaPoly2::validate: \n",
      "For species CH*, discontinuity in h/RT detected at Tmid = 1000\n",
      "\tValue computed using low-temperature polynomial:  107.5046684\n",
      "\tValue computed using high-temperature polynomial: 107.34847808033334\n",
      "\n",
      "  gas = ct.Solution(scheme)\n"
     ]
    },
    {
     "name": "stdout",
     "output_type": "stream",
     "text": [
      "flame 1.5649724434219818e-21\n"
     ]
    },
    {
     "name": "stderr",
     "output_type": "stream",
     "text": [
      "/Users/theot/Documents/SEGR_0D/EGR0D/src/egr.py:188: UserWarning: NasaPoly2::validate: \n",
      "For species OH*, discontinuity in h/RT detected at Tmid = 1000\n",
      "\tValue computed using low-temperature polynomial:  53.62056162666667\n",
      "\tValue computed using high-temperature polynomial: 53.5841554314\n",
      "\n",
      "  gas = ct.Solution(scheme)\n",
      "/Users/theot/Documents/SEGR_0D/EGR0D/src/egr.py:188: UserWarning: NasaPoly2::validate: \n",
      "For species CH*, discontinuity in h/RT detected at Tmid = 1000\n",
      "\tValue computed using low-temperature polynomial:  107.5046684\n",
      "\tValue computed using high-temperature polynomial: 107.34847808033334\n",
      "\n",
      "  gas = ct.Solution(scheme)\n",
      "/Users/theot/Documents/SEGR_0D/EGR0D/src/egr.py:108: UserWarning: NasaPoly2::validate: \n",
      "For species OH*, discontinuity in h/RT detected at Tmid = 1000\n",
      "\tValue computed using low-temperature polynomial:  53.62056162666667\n",
      "\tValue computed using high-temperature polynomial: 53.5841554314\n",
      "\n",
      "  gas = ct.Solution(scheme)\n",
      "/Users/theot/Documents/SEGR_0D/EGR0D/src/egr.py:108: UserWarning: NasaPoly2::validate: \n",
      "For species CH*, discontinuity in h/RT detected at Tmid = 1000\n",
      "\tValue computed using low-temperature polynomial:  107.5046684\n",
      "\tValue computed using high-temperature polynomial: 107.34847808033334\n",
      "\n",
      "  gas = ct.Solution(scheme)\n"
     ]
    },
    {
     "name": "stdout",
     "output_type": "stream",
     "text": [
      "flame 1.6804075162671032e-21\n"
     ]
    },
    {
     "name": "stderr",
     "output_type": "stream",
     "text": [
      "/Users/theot/Documents/SEGR_0D/EGR0D/src/egr.py:188: UserWarning: NasaPoly2::validate: \n",
      "For species OH*, discontinuity in h/RT detected at Tmid = 1000\n",
      "\tValue computed using low-temperature polynomial:  53.62056162666667\n",
      "\tValue computed using high-temperature polynomial: 53.5841554314\n",
      "\n",
      "  gas = ct.Solution(scheme)\n",
      "/Users/theot/Documents/SEGR_0D/EGR0D/src/egr.py:188: UserWarning: NasaPoly2::validate: \n",
      "For species CH*, discontinuity in h/RT detected at Tmid = 1000\n",
      "\tValue computed using low-temperature polynomial:  107.5046684\n",
      "\tValue computed using high-temperature polynomial: 107.34847808033334\n",
      "\n",
      "  gas = ct.Solution(scheme)\n",
      "/Users/theot/Documents/SEGR_0D/EGR0D/src/egr.py:108: UserWarning: NasaPoly2::validate: \n",
      "For species OH*, discontinuity in h/RT detected at Tmid = 1000\n",
      "\tValue computed using low-temperature polynomial:  53.62056162666667\n",
      "\tValue computed using high-temperature polynomial: 53.5841554314\n",
      "\n",
      "  gas = ct.Solution(scheme)\n",
      "/Users/theot/Documents/SEGR_0D/EGR0D/src/egr.py:108: UserWarning: NasaPoly2::validate: \n",
      "For species CH*, discontinuity in h/RT detected at Tmid = 1000\n",
      "\tValue computed using low-temperature polynomial:  107.5046684\n",
      "\tValue computed using high-temperature polynomial: 107.34847808033334\n",
      "\n",
      "  gas = ct.Solution(scheme)\n"
     ]
    },
    {
     "name": "stdout",
     "output_type": "stream",
     "text": [
      "flame 1.79412522727685e-21\n"
     ]
    },
    {
     "name": "stderr",
     "output_type": "stream",
     "text": [
      "/Users/theot/Documents/SEGR_0D/EGR0D/src/egr.py:188: UserWarning: NasaPoly2::validate: \n",
      "For species OH*, discontinuity in h/RT detected at Tmid = 1000\n",
      "\tValue computed using low-temperature polynomial:  53.62056162666667\n",
      "\tValue computed using high-temperature polynomial: 53.5841554314\n",
      "\n",
      "  gas = ct.Solution(scheme)\n",
      "/Users/theot/Documents/SEGR_0D/EGR0D/src/egr.py:188: UserWarning: NasaPoly2::validate: \n",
      "For species CH*, discontinuity in h/RT detected at Tmid = 1000\n",
      "\tValue computed using low-temperature polynomial:  107.5046684\n",
      "\tValue computed using high-temperature polynomial: 107.34847808033334\n",
      "\n",
      "  gas = ct.Solution(scheme)\n",
      "/Users/theot/Documents/SEGR_0D/EGR0D/src/egr.py:108: UserWarning: NasaPoly2::validate: \n",
      "For species OH*, discontinuity in h/RT detected at Tmid = 1000\n",
      "\tValue computed using low-temperature polynomial:  53.62056162666667\n",
      "\tValue computed using high-temperature polynomial: 53.5841554314\n",
      "\n",
      "  gas = ct.Solution(scheme)\n",
      "/Users/theot/Documents/SEGR_0D/EGR0D/src/egr.py:108: UserWarning: NasaPoly2::validate: \n",
      "For species CH*, discontinuity in h/RT detected at Tmid = 1000\n",
      "\tValue computed using low-temperature polynomial:  107.5046684\n",
      "\tValue computed using high-temperature polynomial: 107.34847808033334\n",
      "\n",
      "  gas = ct.Solution(scheme)\n"
     ]
    },
    {
     "name": "stdout",
     "output_type": "stream",
     "text": [
      "flame 1.9058556240696015e-21\n"
     ]
    },
    {
     "name": "stderr",
     "output_type": "stream",
     "text": [
      "/Users/theot/Documents/SEGR_0D/EGR0D/src/egr.py:188: UserWarning: NasaPoly2::validate: \n",
      "For species OH*, discontinuity in h/RT detected at Tmid = 1000\n",
      "\tValue computed using low-temperature polynomial:  53.62056162666667\n",
      "\tValue computed using high-temperature polynomial: 53.5841554314\n",
      "\n",
      "  gas = ct.Solution(scheme)\n",
      "/Users/theot/Documents/SEGR_0D/EGR0D/src/egr.py:188: UserWarning: NasaPoly2::validate: \n",
      "For species CH*, discontinuity in h/RT detected at Tmid = 1000\n",
      "\tValue computed using low-temperature polynomial:  107.5046684\n",
      "\tValue computed using high-temperature polynomial: 107.34847808033334\n",
      "\n",
      "  gas = ct.Solution(scheme)\n",
      "/Users/theot/Documents/SEGR_0D/EGR0D/src/egr.py:108: UserWarning: NasaPoly2::validate: \n",
      "For species OH*, discontinuity in h/RT detected at Tmid = 1000\n",
      "\tValue computed using low-temperature polynomial:  53.62056162666667\n",
      "\tValue computed using high-temperature polynomial: 53.5841554314\n",
      "\n",
      "  gas = ct.Solution(scheme)\n",
      "/Users/theot/Documents/SEGR_0D/EGR0D/src/egr.py:108: UserWarning: NasaPoly2::validate: \n",
      "For species CH*, discontinuity in h/RT detected at Tmid = 1000\n",
      "\tValue computed using low-temperature polynomial:  107.5046684\n",
      "\tValue computed using high-temperature polynomial: 107.34847808033334\n",
      "\n",
      "  gas = ct.Solution(scheme)\n"
     ]
    },
    {
     "name": "stdout",
     "output_type": "stream",
     "text": [
      "flame 2.0152984084117866e-21\n"
     ]
    },
    {
     "name": "stderr",
     "output_type": "stream",
     "text": [
      "/Users/theot/Documents/SEGR_0D/EGR0D/src/egr.py:188: UserWarning: NasaPoly2::validate: \n",
      "For species OH*, discontinuity in h/RT detected at Tmid = 1000\n",
      "\tValue computed using low-temperature polynomial:  53.62056162666667\n",
      "\tValue computed using high-temperature polynomial: 53.5841554314\n",
      "\n",
      "  gas = ct.Solution(scheme)\n",
      "/Users/theot/Documents/SEGR_0D/EGR0D/src/egr.py:188: UserWarning: NasaPoly2::validate: \n",
      "For species CH*, discontinuity in h/RT detected at Tmid = 1000\n",
      "\tValue computed using low-temperature polynomial:  107.5046684\n",
      "\tValue computed using high-temperature polynomial: 107.34847808033334\n",
      "\n",
      "  gas = ct.Solution(scheme)\n",
      "/Users/theot/Documents/SEGR_0D/EGR0D/src/egr.py:108: UserWarning: NasaPoly2::validate: \n",
      "For species OH*, discontinuity in h/RT detected at Tmid = 1000\n",
      "\tValue computed using low-temperature polynomial:  53.62056162666667\n",
      "\tValue computed using high-temperature polynomial: 53.5841554314\n",
      "\n",
      "  gas = ct.Solution(scheme)\n",
      "/Users/theot/Documents/SEGR_0D/EGR0D/src/egr.py:108: UserWarning: NasaPoly2::validate: \n",
      "For species CH*, discontinuity in h/RT detected at Tmid = 1000\n",
      "\tValue computed using low-temperature polynomial:  107.5046684\n",
      "\tValue computed using high-temperature polynomial: 107.34847808033334\n",
      "\n",
      "  gas = ct.Solution(scheme)\n"
     ]
    },
    {
     "name": "stdout",
     "output_type": "stream",
     "text": [
      "flame 2.122311289669835e-21\n"
     ]
    },
    {
     "name": "stderr",
     "output_type": "stream",
     "text": [
      "/Users/theot/Documents/SEGR_0D/EGR0D/src/egr.py:188: UserWarning: NasaPoly2::validate: \n",
      "For species OH*, discontinuity in h/RT detected at Tmid = 1000\n",
      "\tValue computed using low-temperature polynomial:  53.62056162666667\n",
      "\tValue computed using high-temperature polynomial: 53.5841554314\n",
      "\n",
      "  gas = ct.Solution(scheme)\n",
      "/Users/theot/Documents/SEGR_0D/EGR0D/src/egr.py:188: UserWarning: NasaPoly2::validate: \n",
      "For species CH*, discontinuity in h/RT detected at Tmid = 1000\n",
      "\tValue computed using low-temperature polynomial:  107.5046684\n",
      "\tValue computed using high-temperature polynomial: 107.34847808033334\n",
      "\n",
      "  gas = ct.Solution(scheme)\n",
      "/Users/theot/Documents/SEGR_0D/EGR0D/src/egr.py:108: UserWarning: NasaPoly2::validate: \n",
      "For species OH*, discontinuity in h/RT detected at Tmid = 1000\n",
      "\tValue computed using low-temperature polynomial:  53.62056162666667\n",
      "\tValue computed using high-temperature polynomial: 53.5841554314\n",
      "\n",
      "  gas = ct.Solution(scheme)\n",
      "/Users/theot/Documents/SEGR_0D/EGR0D/src/egr.py:108: UserWarning: NasaPoly2::validate: \n",
      "For species CH*, discontinuity in h/RT detected at Tmid = 1000\n",
      "\tValue computed using low-temperature polynomial:  107.5046684\n",
      "\tValue computed using high-temperature polynomial: 107.34847808033334\n",
      "\n",
      "  gas = ct.Solution(scheme)\n"
     ]
    },
    {
     "name": "stdout",
     "output_type": "stream",
     "text": [
      "flame 2.2264150946669687e-21\n"
     ]
    },
    {
     "name": "stderr",
     "output_type": "stream",
     "text": [
      "/Users/theot/Documents/SEGR_0D/EGR0D/src/egr.py:188: UserWarning: NasaPoly2::validate: \n",
      "For species OH*, discontinuity in h/RT detected at Tmid = 1000\n",
      "\tValue computed using low-temperature polynomial:  53.62056162666667\n",
      "\tValue computed using high-temperature polynomial: 53.5841554314\n",
      "\n",
      "  gas = ct.Solution(scheme)\n",
      "/Users/theot/Documents/SEGR_0D/EGR0D/src/egr.py:188: UserWarning: NasaPoly2::validate: \n",
      "For species CH*, discontinuity in h/RT detected at Tmid = 1000\n",
      "\tValue computed using low-temperature polynomial:  107.5046684\n",
      "\tValue computed using high-temperature polynomial: 107.34847808033334\n",
      "\n",
      "  gas = ct.Solution(scheme)\n",
      "/Users/theot/Documents/SEGR_0D/EGR0D/src/egr.py:108: UserWarning: NasaPoly2::validate: \n",
      "For species OH*, discontinuity in h/RT detected at Tmid = 1000\n",
      "\tValue computed using low-temperature polynomial:  53.62056162666667\n",
      "\tValue computed using high-temperature polynomial: 53.5841554314\n",
      "\n",
      "  gas = ct.Solution(scheme)\n",
      "/Users/theot/Documents/SEGR_0D/EGR0D/src/egr.py:108: UserWarning: NasaPoly2::validate: \n",
      "For species CH*, discontinuity in h/RT detected at Tmid = 1000\n",
      "\tValue computed using low-temperature polynomial:  107.5046684\n",
      "\tValue computed using high-temperature polynomial: 107.34847808033334\n",
      "\n",
      "  gas = ct.Solution(scheme)\n"
     ]
    },
    {
     "name": "stdout",
     "output_type": "stream",
     "text": [
      "flame 2.327727128773285e-21\n"
     ]
    },
    {
     "name": "stderr",
     "output_type": "stream",
     "text": [
      "/Users/theot/Documents/SEGR_0D/EGR0D/src/egr.py:188: UserWarning: NasaPoly2::validate: \n",
      "For species OH*, discontinuity in h/RT detected at Tmid = 1000\n",
      "\tValue computed using low-temperature polynomial:  53.62056162666667\n",
      "\tValue computed using high-temperature polynomial: 53.5841554314\n",
      "\n",
      "  gas = ct.Solution(scheme)\n",
      "/Users/theot/Documents/SEGR_0D/EGR0D/src/egr.py:188: UserWarning: NasaPoly2::validate: \n",
      "For species CH*, discontinuity in h/RT detected at Tmid = 1000\n",
      "\tValue computed using low-temperature polynomial:  107.5046684\n",
      "\tValue computed using high-temperature polynomial: 107.34847808033334\n",
      "\n",
      "  gas = ct.Solution(scheme)\n",
      "/Users/theot/Documents/SEGR_0D/EGR0D/src/egr.py:108: UserWarning: NasaPoly2::validate: \n",
      "For species OH*, discontinuity in h/RT detected at Tmid = 1000\n",
      "\tValue computed using low-temperature polynomial:  53.62056162666667\n",
      "\tValue computed using high-temperature polynomial: 53.5841554314\n",
      "\n",
      "  gas = ct.Solution(scheme)\n",
      "/Users/theot/Documents/SEGR_0D/EGR0D/src/egr.py:108: UserWarning: NasaPoly2::validate: \n",
      "For species CH*, discontinuity in h/RT detected at Tmid = 1000\n",
      "\tValue computed using low-temperature polynomial:  107.5046684\n",
      "\tValue computed using high-temperature polynomial: 107.34847808033334\n",
      "\n",
      "  gas = ct.Solution(scheme)\n"
     ]
    },
    {
     "name": "stdout",
     "output_type": "stream",
     "text": [
      "flame 2.4225052592735832e-21\n"
     ]
    },
    {
     "name": "stderr",
     "output_type": "stream",
     "text": [
      "/Users/theot/Documents/SEGR_0D/EGR0D/src/egr.py:188: UserWarning: NasaPoly2::validate: \n",
      "For species OH*, discontinuity in h/RT detected at Tmid = 1000\n",
      "\tValue computed using low-temperature polynomial:  53.62056162666667\n",
      "\tValue computed using high-temperature polynomial: 53.5841554314\n",
      "\n",
      "  gas = ct.Solution(scheme)\n",
      "/Users/theot/Documents/SEGR_0D/EGR0D/src/egr.py:188: UserWarning: NasaPoly2::validate: \n",
      "For species CH*, discontinuity in h/RT detected at Tmid = 1000\n",
      "\tValue computed using low-temperature polynomial:  107.5046684\n",
      "\tValue computed using high-temperature polynomial: 107.34847808033334\n",
      "\n",
      "  gas = ct.Solution(scheme)\n",
      "/Users/theot/Documents/SEGR_0D/EGR0D/src/egr.py:108: UserWarning: NasaPoly2::validate: \n",
      "For species OH*, discontinuity in h/RT detected at Tmid = 1000\n",
      "\tValue computed using low-temperature polynomial:  53.62056162666667\n",
      "\tValue computed using high-temperature polynomial: 53.5841554314\n",
      "\n",
      "  gas = ct.Solution(scheme)\n",
      "/Users/theot/Documents/SEGR_0D/EGR0D/src/egr.py:108: UserWarning: NasaPoly2::validate: \n",
      "For species CH*, discontinuity in h/RT detected at Tmid = 1000\n",
      "\tValue computed using low-temperature polynomial:  107.5046684\n",
      "\tValue computed using high-temperature polynomial: 107.34847808033334\n",
      "\n",
      "  gas = ct.Solution(scheme)\n"
     ]
    },
    {
     "name": "stdout",
     "output_type": "stream",
     "text": [
      "flame 2.521219566096306e-21\n",
      "Execution time: 92976.93990707397 seconds\n"
     ]
    }
   ],
   "source": [
    "if __name__ == '__main__':\n",
    "    # get the start time\n",
    "    st = time.time()\n",
    "\n",
    "    config = case('CH4:1.',                   #fuel compo\n",
    "                'O2:1. N2:3.76',              #ox compo\n",
    "                'CO2:0.5',                    #egr compo\n",
    "                3960.0,                       #thermal output power (kind of useless)\n",
    "                0.0001,                       #egr rate\n",
    "                'mol'                         #egr rate unit\n",
    "                )\n",
    "    dfs=[]\n",
    "    pressures = [100000,500000] #initial pressures to test in Pa\n",
    "    for p in pressures:\n",
    "        #set reservoirs thermo-state\n",
    "        config.res.fuel = create_reservoir(config.compo.fuel,'Aramco13.cti', 300.0, p)\n",
    "        config.res.ox = create_reservoir(config.compo.ox,'air.xml', 300.0, p)\n",
    "        config.res.egr = create_reservoir(config.compo.egr,'Aramco13.cti', 800.0, p)\n",
    "\n",
    "        #range of computation\n",
    "        egr_percentages = np.arange(0.0,0.11,0.05)\n",
    "        df = pd.DataFrame()\n",
    "        for egr_rate in egr_percentages:\n",
    "            config.egr_rate = egr_rate #override config.egr_rate set during object instanciation\n",
    "            phi_range = np.arange(0.7,1.35,0.05)\n",
    "            reactor,results,pdresult = compute_solutions_1D(config,phi_range,power_regulation=False)\n",
    "            #plt.plot(phi_range,results[:,4],label='EGR reacteurs:'+str(round(config.egr_rate*100,1)),marker='o')\n",
    "            #subplot_data(phi_range,results,'Phi',['T[K]','HRR[W/m3]','Y_O2','Y_CO2'],'EGR rate (%):'+str(round(config.egr_rate*100,1))+'%')\n",
    "            df=pd.concat([df,pdresult])\n",
    "        \n",
    "        #df = df.pivot_table(index='phi',columns='EGR',values='u')\n",
    "        #print_reactor(df)\n",
    "        # get the end time\n",
    "        et = time.time()\n",
    "\n",
    "        # get the execution time\n",
    "        elapsed_time = et - st\n",
    "        print('Execution time:', elapsed_time, 'seconds')\n",
    "        dfs.append(df)"
   ]
  },
  {
   "cell_type": "code",
   "execution_count": 11,
   "metadata": {},
   "outputs": [
    {
     "data": {
      "text/plain": [
       "[None, None]"
      ]
     },
     "execution_count": 11,
     "metadata": {},
     "output_type": "execute_result"
    }
   ],
   "source": [
    "dfsi=dfs\n",
    "filenames = ['df'+str(idx)+'.pkl' for idx in range(len(dfsi))]\n",
    "[df.to_pickle(filenames[idx]) for idx,df in enumerate(dfsi)]"
   ]
  },
  {
   "cell_type": "code",
   "execution_count": 13,
   "metadata": {},
   "outputs": [
    {
     "data": {
      "image/png": "[encoded data removed]",
      "text/plain": [
       "<Figure size 640x480 with 1 Axes>"
      ]
     },
     "metadata": {},
     "output_type": "display_data"
    }
   ],
   "source": [
    "#filenames = ['df'+str(idx)+'.pkl' for idx in range(2)]\n",
    "\n",
    "dfsr = []\n",
    "[dfsr.append(pd.read_pickle(file)) for file in filenames]\n",
    "dfs_unique_var=[df.pivot_table(index='phi',columns='EGR',values='u') for df in dfsr]\n",
    "\n",
    "fig, ax = plt.subplots(1,1)\n",
    "\n",
    "dfsc=pd.concat(dfs_unique_var, axis = 1)\n",
    "\n",
    "human_labels = [(str(round(p/100000,1))+' bar, '+str(round(e*100,1))+\"%EGRmol\") for p in pressures for e in egr_percentages]\n",
    "T=800\n",
    "dfsc.plot(ax=ax, style='--o',title='Flame speed vs equivalence ratio'+'(Tin_EGR:'+str(round(T,0))+'K)',\n",
    "            #Pin:'+str(round(P/100000,0))+'bar)',\n",
    "            xlabel='Equivalence ratio',ylabel='Sl0 [m/s]')\n",
    "\n",
    "#equilibrate_data=main()\n",
    "#equilibrate_data=equilibrate_data.pivot_table(columns='EGR',index='phi',values='T')\n",
    "#equilibrate_data.plot(ax=ax, style='--x',title='Temperature vs equivalence ratio',xlabel='Equivalence ratio',ylabel='T',legend=False, label='EGR Reactor')\n",
    "\n",
    "plt.grid()\n",
    "plt.legend(loc='best')\n",
    "ax.legend(human_labels)\n",
    "plt.show()"
   ]
  }
 ],
 "metadata": {
  "kernelspec": {
   "display_name": "can260",
   "language": "python",
   "name": "python3"
  },
  "language_info": {
   "codemirror_mode": {
    "name": "ipython",
    "version": 3
   },
   "file_extension": ".py",
   "mimetype": "text/x-python",
   "name": "python",
   "nbconvert_exporter": "python",
   "pygments_lexer": "ipython3",
   "version": "3.9.15"
  },
  "orig_nbformat": 4,
  "vscode": {
   "interpreter": {
    "hash": "2323f1c52f1919246a0956530a638aa88baf9612550d15ccfd85600dadc84ff1"
   }
  }
 },
 "nbformat": 4,
 "nbformat_minor": 2
}
